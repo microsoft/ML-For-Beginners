{
 "cells": [
  {
   "source": [
    "# 数据设置\n",
    "\n",
    "在本笔记中，我们将演示如何：\n",
    "\n",
    "设置本模块的时间序列数据  \n",
    "可视化数据  \n",
    "\n",
    "本示例中的数据来自GEFCom2014预测竞赛。数据包括2012年至2014年间3年的每小时电力负荷和温度值。\n",
    "\n",
    "1陶宏、Pierre Pinson、Shu Fan、Hamidreza Zareipour、Alberto Troccoli和Rob J. Hyndman，“概率能源预测：全球能源预测竞赛2014及未来”，《国际预测期刊》，第32卷，第3期，页896-913，2016年7月至9月。\n"
   ],
   "cell_type": "markdown",
   "metadata": {}
  },
  {
   "cell_type": "markdown",
   "metadata": {},
   "source": [
    "\n---\n\n**免责声明**：  \n本文档使用AI翻译服务[Co-op Translator](https://github.com/Azure/co-op-translator)进行翻译。尽管我们努力确保翻译的准确性，但请注意，自动翻译可能包含错误或不准确之处。原始语言的文档应被视为权威来源。对于关键信息，建议使用专业人工翻译。我们不对因使用此翻译而产生的任何误解或误读承担责任。\n"
   ]
  }
 ],
 "metadata": {
  "kernel_info": {
   "name": "python3"
  },
  "kernelspec": {
   "name": "python37364bit8d3b438fb5fc4430a93ac2cb74d693a7",
   "display_name": "Python 3.7.0 64-bit ('3.7')"
  },
  "language_info": {
   "codemirror_mode": {
    "name": "ipython",
    "version": 3
   },
   "file_extension": ".py",
   "mimetype": "text/x-python",
   "name": "python",
   "nbconvert_exporter": "python",
   "pygments_lexer": "ipython3",
   "version": "3.7.0"
  },
  "nteract": {
   "version": "nteract-front-end@1.0.0"
  },
  "metadata": {
   "interpreter": {
    "hash": "70b38d7a306a849643e446cd70466270a13445e5987dfa1344ef2b127438fa4d"
   }
  },
  "coopTranslator": {
   "original_hash": "5e2bbe594906dce3aaaa736d6dac6683",
   "translation_date": "2025-09-03T19:57:09+00:00",
   "source_file": "7-TimeSeries/1-Introduction/working/notebook.ipynb",
   "language_code": "zh"
  }
 },
 "nbformat": 4,
 "nbformat_minor": 2
}