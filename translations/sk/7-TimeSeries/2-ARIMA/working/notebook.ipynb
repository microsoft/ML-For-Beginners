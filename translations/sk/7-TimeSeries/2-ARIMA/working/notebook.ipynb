{
 "metadata": {
  "language_info": {
   "codemirror_mode": {
    "name": "ipython",
    "version": 3
   },
   "file_extension": ".py",
   "mimetype": "text/x-python",
   "name": "python",
   "nbconvert_exporter": "python",
   "pygments_lexer": "ipython3",
   "version": 3
  },
  "orig_nbformat": 2,
  "coopTranslator": {
   "original_hash": "523ec472196307b3c4235337353c9ceb",
   "translation_date": "2025-09-06T14:00:10+00:00",
   "source_file": "7-TimeSeries/2-ARIMA/working/notebook.ipynb",
   "language_code": "sk"
  }
 },
 "nbformat": 4,
 "nbformat_minor": 2,
 "cells": [
  {
   "source": [
    "# Prognózovanie časových radov pomocou ARIMA\n",
    "\n",
    "V tomto zápisníku si ukážeme, ako:\n",
    "- pripraviť údaje časových radov na trénovanie modelu ARIMA pre prognózovanie časových radov\n",
    "- implementovať jednoduchý model ARIMA na predpovedanie nasledujúcich HORIZON krokov dopredu (od času *t+1* po *t+HORIZON*) v časovom rade\n",
    "- vyhodnotiť model\n",
    "\n",
    "Údaje v tomto príklade pochádzajú zo súťaže GEFCom2014 v prognózovaní. Skladajú sa z 3 rokov hodinových hodnôt elektrického zaťaženia a teploty medzi rokmi 2012 a 2014. Úlohou je predpovedať budúce hodnoty elektrického zaťaženia. V tomto príklade ukážeme, ako predpovedať jeden časový krok dopredu, pričom použijeme iba historické údaje o zaťažení.\n",
    "\n",
    "Tao Hong, Pierre Pinson, Shu Fan, Hamidreza Zareipour, Alberto Troccoli a Rob J. Hyndman, \"Probabilistic energy forecasting: Global Energy Forecasting Competition 2014 and beyond\", International Journal of Forecasting, vol.32, no.3, str. 896-913, júl-september, 2016.\n"
   ],
   "cell_type": "markdown",
   "metadata": {}
  },
  {
   "cell_type": "code",
   "execution_count": null,
   "metadata": {},
   "outputs": [],
   "source": [
    "pip install statsmodels"
   ]
  },
  {
   "cell_type": "markdown",
   "metadata": {},
   "source": [
    "\n---\n\n**Upozornenie**:  \nTento dokument bol preložený pomocou služby na automatický preklad [Co-op Translator](https://github.com/Azure/co-op-translator). Aj keď sa snažíme o presnosť, upozorňujeme, že automatické preklady môžu obsahovať chyby alebo nepresnosti. Pôvodný dokument v jeho pôvodnom jazyku by mal byť považovaný za autoritatívny zdroj. Pre dôležité informácie sa odporúča profesionálny ľudský preklad. Nezodpovedáme za akékoľvek nedorozumenia alebo nesprávne interpretácie vyplývajúce z použitia tohto prekladu.\n"
   ]
  }
 ]
}