{
 "metadata": {
  "language_info": {
   "codemirror_mode": {
    "name": "ipython",
    "version": 3
   },
   "file_extension": ".py",
   "mimetype": "text/x-python",
   "name": "python",
   "nbconvert_exporter": "python",
   "pygments_lexer": "ipython3",
   "version": 3
  },
  "orig_nbformat": 2,
  "coopTranslator": {
   "original_hash": "523ec472196307b3c4235337353c9ceb",
   "translation_date": "2025-09-06T14:00:36+00:00",
   "source_file": "7-TimeSeries/2-ARIMA/working/notebook.ipynb",
   "language_code": "sw"
  }
 },
 "nbformat": 4,
 "nbformat_minor": 2,
 "cells": [
  {
   "source": [
    "# Utabiri wa mfululizo wa muda kwa kutumia ARIMA\n",
    "\n",
    "Katika daftari hili, tunadhihirisha jinsi ya:\n",
    "- kuandaa data ya mfululizo wa muda kwa ajili ya kufundisha mfano wa utabiri wa ARIMA\n",
    "- kutekeleza mfano rahisi wa ARIMA ili kutabiri hatua za HORIZON zijazo (wakati *t+1* hadi *t+HORIZON*) katika mfululizo wa muda\n",
    "- kutathmini mfano\n",
    "\n",
    "Data katika mfano huu imetolewa kutoka mashindano ya utabiri ya GEFCom2014. \n",
    "\n",
    "Inajumuisha miaka 3 ya data ya saa kwa saa ya mzigo wa umeme na thamani za joto kati ya mwaka 2012 na 2014. Kazi ni kutabiri thamani za baadaye za mzigo wa umeme. Katika mfano huu, tunaonyesha jinsi ya kutabiri hatua moja mbele, kwa kutumia data ya kihistoria ya mzigo pekee.\n",
    "\n",
    "Tao Hong, Pierre Pinson, Shu Fan, Hamidreza Zareipour, Alberto Troccoli na Rob J. Hyndman, \"Utabiri wa nishati wa kiuhalisia: Mashindano ya Utabiri wa Nishati ya Kimataifa 2014 na zaidi\", Jarida la Kimataifa la Utabiri, vol.32, no.3, uk. 896-913, Julai-Septemba, 2016.\n"
   ],
   "cell_type": "markdown",
   "metadata": {}
  },
  {
   "cell_type": "code",
   "execution_count": null,
   "metadata": {},
   "outputs": [],
   "source": [
    "pip install statsmodels"
   ]
  },
  {
   "cell_type": "markdown",
   "metadata": {},
   "source": [
    "\n---\n\n**Kanusho**:  \nHati hii imetafsiriwa kwa kutumia huduma ya tafsiri ya AI [Co-op Translator](https://github.com/Azure/co-op-translator). Ingawa tunajitahidi kuhakikisha usahihi, tafsiri za kiotomatiki zinaweza kuwa na makosa au kutokuwa sahihi. Hati ya asili katika lugha yake ya awali inapaswa kuchukuliwa kama chanzo cha mamlaka. Kwa taarifa muhimu, tafsiri ya kitaalamu ya binadamu inapendekezwa. Hatutawajibika kwa kutoelewana au tafsiri zisizo sahihi zinazotokana na matumizi ya tafsiri hii.\n"
   ]
  }
 ]
}