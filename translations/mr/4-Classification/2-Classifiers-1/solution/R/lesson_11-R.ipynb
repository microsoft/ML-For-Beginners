{
 "nbformat": 4,
 "nbformat_minor": 2,
 "metadata": {
  "colab": {
   "name": "lesson_11-R.ipynb",
   "provenance": [],
   "collapsed_sections": [],
   "toc_visible": true
  },
  "kernelspec": {
   "name": "ir",
   "display_name": "R"
  },
  "language_info": {
   "name": "R"
  },
  "coopTranslator": {
   "original_hash": "6ea6a5171b1b99b7b5a55f7469c048d2",
   "translation_date": "2025-08-29T19:25:08+00:00",
   "source_file": "4-Classification/2-Classifiers-1/solution/R/lesson_11-R.ipynb",
   "language_code": "mr"
  }
 },
 "cells": [
  {
   "cell_type": "markdown",
   "source": [],
   "metadata": {
    "id": "zs2woWv_HoE8"
   }
  },
  {
   "cell_type": "markdown",
   "source": [
    "## पाककृती वर्गीकरण 1\n",
    "\n",
    "या धड्यात, आपण विविध वर्गीकरण करणारे मॉडेल्स *घटकांच्या गटावर आधारित दिलेली राष्ट्रीय पाककृती ओळखण्यासाठी* कशी वापरता येतील याचा अभ्यास करू. तसेच, वर्गीकरण कार्यांसाठी अल्गोरिदम कसे उपयुक्त ठरू शकतात याबद्दल अधिक जाणून घेऊ.\n",
    "\n",
    "### [**पूर्व-व्याख्यान प्रश्नमंजुषा**](https://gray-sand-07a10f403.1.azurestaticapps.net/quiz/21/)\n",
    "\n",
    "### **तयारी**\n",
    "\n",
    "हा धडा आपल्या [मागील धड्याच्या](https://github.com/microsoft/ML-For-Beginners/blob/main/4-Classification/1-Introduction/solution/lesson_10-R.ipynb) आधारे तयार करण्यात आला आहे, जिथे आपण:\n",
    "\n",
    "-   आशिया आणि भारतातील सर्व अप्रतिम पाककृतींविषयी डेटासेट वापरून वर्गीकरणाची सौम्य ओळख करून दिली 😋.\n",
    "\n",
    "-   [dplyr verbs](https://dplyr.tidyverse.org/) वापरून आपला डेटा तयार आणि स्वच्छ करण्याचे तंत्र शिकले.\n",
    "\n",
    "-   ggplot2 वापरून सुंदर व्हिज्युअलायझेशन्स तयार केली.\n",
    "\n",
    "-   असंतुलित डेटाशी कसे व्यवहार करायचे हे [recipes](https://recipes.tidymodels.org/articles/Simple_Example.html) वापरून पूर्व-प्रक्रिया करून दाखवले.\n",
    "\n",
    "-   आपली `prep` आणि `bake` प्रक्रिया कशी योग्य प्रकारे कार्य करेल याची खात्री करून घेतली.\n",
    "\n",
    "#### **पूर्वअट**\n",
    "\n",
    "या धड्यासाठी, आपल्याला डेटा स्वच्छ, तयार आणि व्हिज्युअलायझेशनसाठी खालील पॅकेजेसची आवश्यकता असेल:\n",
    "\n",
    "-   `tidyverse`: [tidyverse](https://www.tidyverse.org/) हा [R पॅकेजेसचा संग्रह](https://www.tidyverse.org/packages) आहे जो डेटा सायन्स अधिक जलद, सोपा आणि मजेदार बनवतो!\n",
    "\n",
    "-   `tidymodels`: [tidymodels](https://www.tidymodels.org/) फ्रेमवर्क हा [पॅकेजेसचा संग्रह](https://www.tidymodels.org/packages/) आहे जो मॉडेलिंग आणि मशीन लर्निंगसाठी उपयुक्त आहे.\n",
    "\n",
    "-   `themis`: [themis पॅकेज](https://themis.tidymodels.org/) असंतुलित डेटाशी व्यवहार करण्यासाठी अतिरिक्त रेसिपी स्टेप्स प्रदान करते.\n",
    "\n",
    "-   `nnet`: [nnet पॅकेज](https://cran.r-project.org/web/packages/nnet/nnet.pdf) सिंगल हिडन लेयरसह फीड-फॉरवर्ड न्यूरल नेटवर्क्स आणि मल्टिनॉमियल लॉजिस्टिक रिग्रेशन मॉडेल्ससाठी फंक्शन्स प्रदान करते.\n",
    "\n",
    "आपण हे पॅकेजेस खालीलप्रमाणे इंस्टॉल करू शकता:\n"
   ],
   "metadata": {
    "id": "iDFOb3ebHwQC"
   }
  },
  {
   "cell_type": "markdown",
   "source": [
    "`install.packages(c(\"tidyverse\", \"tidymodels\", \"DataExplorer\", \"here\"))`\n",
    "\n",
    "पर्यायीपणे, खालील स्क्रिप्ट तपासते की तुमच्याकडे हा मॉड्यूल पूर्ण करण्यासाठी आवश्यक पॅकेजेस आहेत का आणि ती पॅकेजेस नसल्यास ती तुमच्यासाठी स्थापित करते.\n"
   ],
   "metadata": {
    "id": "4V85BGCjII7F"
   }
  },
  {
   "cell_type": "code",
   "execution_count": 2,
   "source": [
    "suppressWarnings(if (!require(\"pacman\"))install.packages(\"pacman\"))\r\n",
    "\r\n",
    "pacman::p_load(tidyverse, tidymodels, themis, here)"
   ],
   "outputs": [
    {
     "output_type": "stream",
     "name": "stderr",
     "text": [
      "Loading required package: pacman\n",
      "\n"
     ]
    }
   ],
   "metadata": {
    "colab": {
     "base_uri": "https://localhost:8080/"
    },
    "id": "an5NPyyKIKNR",
    "outputId": "834d5e74-f4b8-49f9-8ab5-4c52ff2d7bc8"
   }
  },
  {
   "cell_type": "markdown",
   "source": [
    "## 1. प्रशिक्षण आणि चाचणी संचांमध्ये डेटा विभाजित करा.\n",
    "\n",
    "आम्ही आपल्या मागील धड्यांमधील काही पायऱ्या निवडून सुरुवात करू.\n",
    "\n",
    "### वेगवेगळ्या स्वयंपाकशैलींमध्ये गोंधळ निर्माण करणाऱ्या सर्वसामान्य घटकांना `dplyr::select()` वापरून काढून टाका.\n",
    "\n",
    "सर्वांनाच तांदूळ, लसूण आणि आले आवडते!\n"
   ],
   "metadata": {
    "id": "0ax9GQLBINVv"
   }
  },
  {
   "cell_type": "code",
   "execution_count": 3,
   "source": [
    "# Load the original cuisines data\r\n",
    "df <- read_csv(file = \"https://raw.githubusercontent.com/microsoft/ML-For-Beginners/main/4-Classification/data/cuisines.csv\")\r\n",
    "\r\n",
    "# Drop id column, rice, garlic and ginger from our original data set\r\n",
    "df_select <- df %>% \r\n",
    "  select(-c(1, rice, garlic, ginger)) %>%\r\n",
    "  # Encode cuisine column as categorical\r\n",
    "  mutate(cuisine = factor(cuisine))\r\n",
    "\r\n",
    "# Display new data set\r\n",
    "df_select %>% \r\n",
    "  slice_head(n = 5)\r\n",
    "\r\n",
    "# Display distribution of cuisines\r\n",
    "df_select %>% \r\n",
    "  count(cuisine) %>% \r\n",
    "  arrange(desc(n))"
   ],
   "outputs": [
    {
     "output_type": "stream",
     "name": "stderr",
     "text": [
      "New names:\n",
      "* `` -> ...1\n",
      "\n",
      "\u001b[1m\u001b[1mRows: \u001b[1m\u001b[22m\u001b[34m\u001b[34m2448\u001b[34m\u001b[39m \u001b[1m\u001b[1mColumns: \u001b[1m\u001b[22m\u001b[34m\u001b[34m385\u001b[34m\u001b[39m\n",
      "\n",
      "\u001b[36m──\u001b[39m \u001b[1m\u001b[1mColumn specification\u001b[1m\u001b[22m \u001b[36m────────────────────────────────────────────────────────\u001b[39m\n",
      "\u001b[1mDelimiter:\u001b[22m \",\"\n",
      "\u001b[31mchr\u001b[39m   (1): cuisine\n",
      "\u001b[32mdbl\u001b[39m (384): ...1, almond, angelica, anise, anise_seed, apple, apple_brandy, a...\n",
      "\n",
      "\n",
      "\u001b[36mℹ\u001b[39m Use \u001b[30m\u001b[47m\u001b[30m\u001b[47m`spec()`\u001b[47m\u001b[30m\u001b[49m\u001b[39m to retrieve the full column specification for this data.\n",
      "\u001b[36mℹ\u001b[39m Specify the column types or set \u001b[30m\u001b[47m\u001b[30m\u001b[47m`show_col_types = FALSE`\u001b[47m\u001b[30m\u001b[49m\u001b[39m to quiet this message.\n",
      "\n"
     ]
    },
    {
     "output_type": "display_data",
     "data": {
      "text/plain": [
       "  cuisine almond angelica anise anise_seed apple apple_brandy apricot armagnac\n",
       "1 indian  0      0        0     0          0     0            0       0       \n",
       "2 indian  1      0        0     0          0     0            0       0       \n",
       "3 indian  0      0        0     0          0     0            0       0       \n",
       "4 indian  0      0        0     0          0     0            0       0       \n",
       "5 indian  0      0        0     0          0     0            0       0       \n",
       "  artemisia ⋯ whiskey white_bread white_wine whole_grain_wheat_flour wine wood\n",
       "1 0         ⋯ 0       0           0          0                       0    0   \n",
       "2 0         ⋯ 0       0           0          0                       0    0   \n",
       "3 0         ⋯ 0       0           0          0                       0    0   \n",
       "4 0         ⋯ 0       0           0          0                       0    0   \n",
       "5 0         ⋯ 0       0           0          0                       0    0   \n",
       "  yam yeast yogurt zucchini\n",
       "1 0   0     0      0       \n",
       "2 0   0     0      0       \n",
       "3 0   0     0      0       \n",
       "4 0   0     0      0       \n",
       "5 0   0     1      0       "
      ],
      "text/markdown": [
       "\n",
       "A tibble: 5 × 381\n",
       "\n",
       "| cuisine &lt;fct&gt; | almond &lt;dbl&gt; | angelica &lt;dbl&gt; | anise &lt;dbl&gt; | anise_seed &lt;dbl&gt; | apple &lt;dbl&gt; | apple_brandy &lt;dbl&gt; | apricot &lt;dbl&gt; | armagnac &lt;dbl&gt; | artemisia &lt;dbl&gt; | ⋯ ⋯ | whiskey &lt;dbl&gt; | white_bread &lt;dbl&gt; | white_wine &lt;dbl&gt; | whole_grain_wheat_flour &lt;dbl&gt; | wine &lt;dbl&gt; | wood &lt;dbl&gt; | yam &lt;dbl&gt; | yeast &lt;dbl&gt; | yogurt &lt;dbl&gt; | zucchini &lt;dbl&gt; |\n",
       "|---|---|---|---|---|---|---|---|---|---|---|---|---|---|---|---|---|---|---|---|---|\n",
       "| indian | 0 | 0 | 0 | 0 | 0 | 0 | 0 | 0 | 0 | ⋯ | 0 | 0 | 0 | 0 | 0 | 0 | 0 | 0 | 0 | 0 |\n",
       "| indian | 1 | 0 | 0 | 0 | 0 | 0 | 0 | 0 | 0 | ⋯ | 0 | 0 | 0 | 0 | 0 | 0 | 0 | 0 | 0 | 0 |\n",
       "| indian | 0 | 0 | 0 | 0 | 0 | 0 | 0 | 0 | 0 | ⋯ | 0 | 0 | 0 | 0 | 0 | 0 | 0 | 0 | 0 | 0 |\n",
       "| indian | 0 | 0 | 0 | 0 | 0 | 0 | 0 | 0 | 0 | ⋯ | 0 | 0 | 0 | 0 | 0 | 0 | 0 | 0 | 0 | 0 |\n",
       "| indian | 0 | 0 | 0 | 0 | 0 | 0 | 0 | 0 | 0 | ⋯ | 0 | 0 | 0 | 0 | 0 | 0 | 0 | 0 | 1 | 0 |\n",
       "\n"
      ],
      "text/latex": [
       "A tibble: 5 × 381\n",
       "\\begin{tabular}{lllllllllllllllllllll}\n",
       " cuisine & almond & angelica & anise & anise\\_seed & apple & apple\\_brandy & apricot & armagnac & artemisia & ⋯ & whiskey & white\\_bread & white\\_wine & whole\\_grain\\_wheat\\_flour & wine & wood & yam & yeast & yogurt & zucchini\\\\\n",
       " <fct> & <dbl> & <dbl> & <dbl> & <dbl> & <dbl> & <dbl> & <dbl> & <dbl> & <dbl> & ⋯ & <dbl> & <dbl> & <dbl> & <dbl> & <dbl> & <dbl> & <dbl> & <dbl> & <dbl> & <dbl>\\\\\n",
       "\\hline\n",
       "\t indian & 0 & 0 & 0 & 0 & 0 & 0 & 0 & 0 & 0 & ⋯ & 0 & 0 & 0 & 0 & 0 & 0 & 0 & 0 & 0 & 0\\\\\n",
       "\t indian & 1 & 0 & 0 & 0 & 0 & 0 & 0 & 0 & 0 & ⋯ & 0 & 0 & 0 & 0 & 0 & 0 & 0 & 0 & 0 & 0\\\\\n",
       "\t indian & 0 & 0 & 0 & 0 & 0 & 0 & 0 & 0 & 0 & ⋯ & 0 & 0 & 0 & 0 & 0 & 0 & 0 & 0 & 0 & 0\\\\\n",
       "\t indian & 0 & 0 & 0 & 0 & 0 & 0 & 0 & 0 & 0 & ⋯ & 0 & 0 & 0 & 0 & 0 & 0 & 0 & 0 & 0 & 0\\\\\n",
       "\t indian & 0 & 0 & 0 & 0 & 0 & 0 & 0 & 0 & 0 & ⋯ & 0 & 0 & 0 & 0 & 0 & 0 & 0 & 0 & 1 & 0\\\\\n",
       "\\end{tabular}\n"
      ],
      "text/html": [
       "<table class=\"dataframe\">\n",
       "<caption>A tibble: 5 × 381</caption>\n",
       "<thead>\n",
       "\t<tr><th scope=col>cuisine</th><th scope=col>almond</th><th scope=col>angelica</th><th scope=col>anise</th><th scope=col>anise_seed</th><th scope=col>apple</th><th scope=col>apple_brandy</th><th scope=col>apricot</th><th scope=col>armagnac</th><th scope=col>artemisia</th><th scope=col>⋯</th><th scope=col>whiskey</th><th scope=col>white_bread</th><th scope=col>white_wine</th><th scope=col>whole_grain_wheat_flour</th><th scope=col>wine</th><th scope=col>wood</th><th scope=col>yam</th><th scope=col>yeast</th><th scope=col>yogurt</th><th scope=col>zucchini</th></tr>\n",
       "\t<tr><th scope=col>&lt;fct&gt;</th><th scope=col>&lt;dbl&gt;</th><th scope=col>&lt;dbl&gt;</th><th scope=col>&lt;dbl&gt;</th><th scope=col>&lt;dbl&gt;</th><th scope=col>&lt;dbl&gt;</th><th scope=col>&lt;dbl&gt;</th><th scope=col>&lt;dbl&gt;</th><th scope=col>&lt;dbl&gt;</th><th scope=col>&lt;dbl&gt;</th><th scope=col>⋯</th><th scope=col>&lt;dbl&gt;</th><th scope=col>&lt;dbl&gt;</th><th scope=col>&lt;dbl&gt;</th><th scope=col>&lt;dbl&gt;</th><th scope=col>&lt;dbl&gt;</th><th scope=col>&lt;dbl&gt;</th><th scope=col>&lt;dbl&gt;</th><th scope=col>&lt;dbl&gt;</th><th scope=col>&lt;dbl&gt;</th><th scope=col>&lt;dbl&gt;</th></tr>\n",
       "</thead>\n",
       "<tbody>\n",
       "\t<tr><td>indian</td><td>0</td><td>0</td><td>0</td><td>0</td><td>0</td><td>0</td><td>0</td><td>0</td><td>0</td><td>⋯</td><td>0</td><td>0</td><td>0</td><td>0</td><td>0</td><td>0</td><td>0</td><td>0</td><td>0</td><td>0</td></tr>\n",
       "\t<tr><td>indian</td><td>1</td><td>0</td><td>0</td><td>0</td><td>0</td><td>0</td><td>0</td><td>0</td><td>0</td><td>⋯</td><td>0</td><td>0</td><td>0</td><td>0</td><td>0</td><td>0</td><td>0</td><td>0</td><td>0</td><td>0</td></tr>\n",
       "\t<tr><td>indian</td><td>0</td><td>0</td><td>0</td><td>0</td><td>0</td><td>0</td><td>0</td><td>0</td><td>0</td><td>⋯</td><td>0</td><td>0</td><td>0</td><td>0</td><td>0</td><td>0</td><td>0</td><td>0</td><td>0</td><td>0</td></tr>\n",
       "\t<tr><td>indian</td><td>0</td><td>0</td><td>0</td><td>0</td><td>0</td><td>0</td><td>0</td><td>0</td><td>0</td><td>⋯</td><td>0</td><td>0</td><td>0</td><td>0</td><td>0</td><td>0</td><td>0</td><td>0</td><td>0</td><td>0</td></tr>\n",
       "\t<tr><td>indian</td><td>0</td><td>0</td><td>0</td><td>0</td><td>0</td><td>0</td><td>0</td><td>0</td><td>0</td><td>⋯</td><td>0</td><td>0</td><td>0</td><td>0</td><td>0</td><td>0</td><td>0</td><td>0</td><td>1</td><td>0</td></tr>\n",
       "</tbody>\n",
       "</table>\n"
      ]
     },
     "metadata": {}
    },
    {
     "output_type": "display_data",
     "data": {
      "text/plain": [
       "  cuisine  n  \n",
       "1 korean   799\n",
       "2 indian   598\n",
       "3 chinese  442\n",
       "4 japanese 320\n",
       "5 thai     289"
      ],
      "text/markdown": [
       "\n",
       "A tibble: 5 × 2\n",
       "\n",
       "| cuisine &lt;fct&gt; | n &lt;int&gt; |\n",
       "|---|---|\n",
       "| korean   | 799 |\n",
       "| indian   | 598 |\n",
       "| chinese  | 442 |\n",
       "| japanese | 320 |\n",
       "| thai     | 289 |\n",
       "\n"
      ],
      "text/latex": [
       "A tibble: 5 × 2\n",
       "\\begin{tabular}{ll}\n",
       " cuisine & n\\\\\n",
       " <fct> & <int>\\\\\n",
       "\\hline\n",
       "\t korean   & 799\\\\\n",
       "\t indian   & 598\\\\\n",
       "\t chinese  & 442\\\\\n",
       "\t japanese & 320\\\\\n",
       "\t thai     & 289\\\\\n",
       "\\end{tabular}\n"
      ],
      "text/html": [
       "<table class=\"dataframe\">\n",
       "<caption>A tibble: 5 × 2</caption>\n",
       "<thead>\n",
       "\t<tr><th scope=col>cuisine</th><th scope=col>n</th></tr>\n",
       "\t<tr><th scope=col>&lt;fct&gt;</th><th scope=col>&lt;int&gt;</th></tr>\n",
       "</thead>\n",
       "<tbody>\n",
       "\t<tr><td>korean  </td><td>799</td></tr>\n",
       "\t<tr><td>indian  </td><td>598</td></tr>\n",
       "\t<tr><td>chinese </td><td>442</td></tr>\n",
       "\t<tr><td>japanese</td><td>320</td></tr>\n",
       "\t<tr><td>thai    </td><td>289</td></tr>\n",
       "</tbody>\n",
       "</table>\n"
      ]
     },
     "metadata": {}
    }
   ],
   "metadata": {
    "colab": {
     "base_uri": "https://localhost:8080/",
     "height": 735
    },
    "id": "jhCrrH22IWVR",
    "outputId": "d444a85c-1d8b-485f-bc4f-8be2e8f8217c"
   }
  },
  {
   "cell_type": "markdown",
   "source": [
    "परफेक्ट! आता, डेटा अशा प्रकारे विभाजित करूया की 70% डेटा प्रशिक्षणासाठी आणि 30% डेटा चाचणीसाठी जाईल. डेटा विभाजित करताना `स्तरीकरण` तंत्र लागू करू, ज्यामुळे `प्रत्येक खाद्यप्रकाराचा प्रमाण` प्रशिक्षण आणि वैधता डेटासेटमध्ये कायम राहील.\n",
    "\n",
    "[rsample](https://rsample.tidymodels.org/), Tidymodels मधील एक पॅकेज, डेटा विभाजन आणि पुनःनमुनाकरणासाठी कार्यक्षम पायाभूत सुविधा प्रदान करते:\n"
   ],
   "metadata": {
    "id": "AYTjVyajIdny"
   }
  },
  {
   "cell_type": "code",
   "execution_count": 4,
   "source": [
    "# Load the core Tidymodels packages into R session\r\n",
    "library(tidymodels)\r\n",
    "\r\n",
    "# Create split specification\r\n",
    "set.seed(2056)\r\n",
    "cuisines_split <- initial_split(data = df_select,\r\n",
    "                                strata = cuisine,\r\n",
    "                                prop = 0.7)\r\n",
    "\r\n",
    "# Extract the data in each split\r\n",
    "cuisines_train <- training(cuisines_split)\r\n",
    "cuisines_test <- testing(cuisines_split)\r\n",
    "\r\n",
    "# Print the number of cases in each split\r\n",
    "cat(\"Training cases: \", nrow(cuisines_train), \"\\n\",\r\n",
    "    \"Test cases: \", nrow(cuisines_test), sep = \"\")\r\n",
    "\r\n",
    "# Display the first few rows of the training set\r\n",
    "cuisines_train %>% \r\n",
    "  slice_head(n = 5)\r\n",
    "\r\n",
    "\r\n",
    "# Display distribution of cuisines in the training set\r\n",
    "cuisines_train %>% \r\n",
    "  count(cuisine) %>% \r\n",
    "  arrange(desc(n))"
   ],
   "outputs": [
    {
     "output_type": "stream",
     "name": "stdout",
     "text": [
      "Training cases: 1712\n",
      "Test cases: 736"
     ]
    },
    {
     "output_type": "display_data",
     "data": {
      "text/plain": [
       "  cuisine almond angelica anise anise_seed apple apple_brandy apricot armagnac\n",
       "1 chinese 0      0        0     0          0     0            0       0       \n",
       "2 chinese 0      0        0     0          0     0            0       0       \n",
       "3 chinese 0      0        0     0          0     0            0       0       \n",
       "4 chinese 0      0        0     0          0     0            0       0       \n",
       "5 chinese 0      0        0     0          0     0            0       0       \n",
       "  artemisia ⋯ whiskey white_bread white_wine whole_grain_wheat_flour wine wood\n",
       "1 0         ⋯ 0       0           0          0                       1    0   \n",
       "2 0         ⋯ 0       0           0          0                       1    0   \n",
       "3 0         ⋯ 0       0           0          0                       0    0   \n",
       "4 0         ⋯ 0       0           0          0                       0    0   \n",
       "5 0         ⋯ 0       0           0          0                       0    0   \n",
       "  yam yeast yogurt zucchini\n",
       "1 0   0     0      0       \n",
       "2 0   0     0      0       \n",
       "3 0   0     0      0       \n",
       "4 0   0     0      0       \n",
       "5 0   0     0      0       "
      ],
      "text/markdown": [
       "\n",
       "A tibble: 5 × 381\n",
       "\n",
       "| cuisine &lt;fct&gt; | almond &lt;dbl&gt; | angelica &lt;dbl&gt; | anise &lt;dbl&gt; | anise_seed &lt;dbl&gt; | apple &lt;dbl&gt; | apple_brandy &lt;dbl&gt; | apricot &lt;dbl&gt; | armagnac &lt;dbl&gt; | artemisia &lt;dbl&gt; | ⋯ ⋯ | whiskey &lt;dbl&gt; | white_bread &lt;dbl&gt; | white_wine &lt;dbl&gt; | whole_grain_wheat_flour &lt;dbl&gt; | wine &lt;dbl&gt; | wood &lt;dbl&gt; | yam &lt;dbl&gt; | yeast &lt;dbl&gt; | yogurt &lt;dbl&gt; | zucchini &lt;dbl&gt; |\n",
       "|---|---|---|---|---|---|---|---|---|---|---|---|---|---|---|---|---|---|---|---|---|\n",
       "| chinese | 0 | 0 | 0 | 0 | 0 | 0 | 0 | 0 | 0 | ⋯ | 0 | 0 | 0 | 0 | 1 | 0 | 0 | 0 | 0 | 0 |\n",
       "| chinese | 0 | 0 | 0 | 0 | 0 | 0 | 0 | 0 | 0 | ⋯ | 0 | 0 | 0 | 0 | 1 | 0 | 0 | 0 | 0 | 0 |\n",
       "| chinese | 0 | 0 | 0 | 0 | 0 | 0 | 0 | 0 | 0 | ⋯ | 0 | 0 | 0 | 0 | 0 | 0 | 0 | 0 | 0 | 0 |\n",
       "| chinese | 0 | 0 | 0 | 0 | 0 | 0 | 0 | 0 | 0 | ⋯ | 0 | 0 | 0 | 0 | 0 | 0 | 0 | 0 | 0 | 0 |\n",
       "| chinese | 0 | 0 | 0 | 0 | 0 | 0 | 0 | 0 | 0 | ⋯ | 0 | 0 | 0 | 0 | 0 | 0 | 0 | 0 | 0 | 0 |\n",
       "\n"
      ],
      "text/latex": [
       "A tibble: 5 × 381\n",
       "\\begin{tabular}{lllllllllllllllllllll}\n",
       " cuisine & almond & angelica & anise & anise\\_seed & apple & apple\\_brandy & apricot & armagnac & artemisia & ⋯ & whiskey & white\\_bread & white\\_wine & whole\\_grain\\_wheat\\_flour & wine & wood & yam & yeast & yogurt & zucchini\\\\\n",
       " <fct> & <dbl> & <dbl> & <dbl> & <dbl> & <dbl> & <dbl> & <dbl> & <dbl> & <dbl> & ⋯ & <dbl> & <dbl> & <dbl> & <dbl> & <dbl> & <dbl> & <dbl> & <dbl> & <dbl> & <dbl>\\\\\n",
       "\\hline\n",
       "\t chinese & 0 & 0 & 0 & 0 & 0 & 0 & 0 & 0 & 0 & ⋯ & 0 & 0 & 0 & 0 & 1 & 0 & 0 & 0 & 0 & 0\\\\\n",
       "\t chinese & 0 & 0 & 0 & 0 & 0 & 0 & 0 & 0 & 0 & ⋯ & 0 & 0 & 0 & 0 & 1 & 0 & 0 & 0 & 0 & 0\\\\\n",
       "\t chinese & 0 & 0 & 0 & 0 & 0 & 0 & 0 & 0 & 0 & ⋯ & 0 & 0 & 0 & 0 & 0 & 0 & 0 & 0 & 0 & 0\\\\\n",
       "\t chinese & 0 & 0 & 0 & 0 & 0 & 0 & 0 & 0 & 0 & ⋯ & 0 & 0 & 0 & 0 & 0 & 0 & 0 & 0 & 0 & 0\\\\\n",
       "\t chinese & 0 & 0 & 0 & 0 & 0 & 0 & 0 & 0 & 0 & ⋯ & 0 & 0 & 0 & 0 & 0 & 0 & 0 & 0 & 0 & 0\\\\\n",
       "\\end{tabular}\n"
      ],
      "text/html": [
       "<table class=\"dataframe\">\n",
       "<caption>A tibble: 5 × 381</caption>\n",
       "<thead>\n",
       "\t<tr><th scope=col>cuisine</th><th scope=col>almond</th><th scope=col>angelica</th><th scope=col>anise</th><th scope=col>anise_seed</th><th scope=col>apple</th><th scope=col>apple_brandy</th><th scope=col>apricot</th><th scope=col>armagnac</th><th scope=col>artemisia</th><th scope=col>⋯</th><th scope=col>whiskey</th><th scope=col>white_bread</th><th scope=col>white_wine</th><th scope=col>whole_grain_wheat_flour</th><th scope=col>wine</th><th scope=col>wood</th><th scope=col>yam</th><th scope=col>yeast</th><th scope=col>yogurt</th><th scope=col>zucchini</th></tr>\n",
       "\t<tr><th scope=col>&lt;fct&gt;</th><th scope=col>&lt;dbl&gt;</th><th scope=col>&lt;dbl&gt;</th><th scope=col>&lt;dbl&gt;</th><th scope=col>&lt;dbl&gt;</th><th scope=col>&lt;dbl&gt;</th><th scope=col>&lt;dbl&gt;</th><th scope=col>&lt;dbl&gt;</th><th scope=col>&lt;dbl&gt;</th><th scope=col>&lt;dbl&gt;</th><th scope=col>⋯</th><th scope=col>&lt;dbl&gt;</th><th scope=col>&lt;dbl&gt;</th><th scope=col>&lt;dbl&gt;</th><th scope=col>&lt;dbl&gt;</th><th scope=col>&lt;dbl&gt;</th><th scope=col>&lt;dbl&gt;</th><th scope=col>&lt;dbl&gt;</th><th scope=col>&lt;dbl&gt;</th><th scope=col>&lt;dbl&gt;</th><th scope=col>&lt;dbl&gt;</th></tr>\n",
       "</thead>\n",
       "<tbody>\n",
       "\t<tr><td>chinese</td><td>0</td><td>0</td><td>0</td><td>0</td><td>0</td><td>0</td><td>0</td><td>0</td><td>0</td><td>⋯</td><td>0</td><td>0</td><td>0</td><td>0</td><td>1</td><td>0</td><td>0</td><td>0</td><td>0</td><td>0</td></tr>\n",
       "\t<tr><td>chinese</td><td>0</td><td>0</td><td>0</td><td>0</td><td>0</td><td>0</td><td>0</td><td>0</td><td>0</td><td>⋯</td><td>0</td><td>0</td><td>0</td><td>0</td><td>1</td><td>0</td><td>0</td><td>0</td><td>0</td><td>0</td></tr>\n",
       "\t<tr><td>chinese</td><td>0</td><td>0</td><td>0</td><td>0</td><td>0</td><td>0</td><td>0</td><td>0</td><td>0</td><td>⋯</td><td>0</td><td>0</td><td>0</td><td>0</td><td>0</td><td>0</td><td>0</td><td>0</td><td>0</td><td>0</td></tr>\n",
       "\t<tr><td>chinese</td><td>0</td><td>0</td><td>0</td><td>0</td><td>0</td><td>0</td><td>0</td><td>0</td><td>0</td><td>⋯</td><td>0</td><td>0</td><td>0</td><td>0</td><td>0</td><td>0</td><td>0</td><td>0</td><td>0</td><td>0</td></tr>\n",
       "\t<tr><td>chinese</td><td>0</td><td>0</td><td>0</td><td>0</td><td>0</td><td>0</td><td>0</td><td>0</td><td>0</td><td>⋯</td><td>0</td><td>0</td><td>0</td><td>0</td><td>0</td><td>0</td><td>0</td><td>0</td><td>0</td><td>0</td></tr>\n",
       "</tbody>\n",
       "</table>\n"
      ]
     },
     "metadata": {}
    },
    {
     "output_type": "display_data",
     "data": {
      "text/plain": [
       "  cuisine  n  \n",
       "1 korean   559\n",
       "2 indian   418\n",
       "3 chinese  309\n",
       "4 japanese 224\n",
       "5 thai     202"
      ],
      "text/markdown": [
       "\n",
       "A tibble: 5 × 2\n",
       "\n",
       "| cuisine &lt;fct&gt; | n &lt;int&gt; |\n",
       "|---|---|\n",
       "| korean   | 559 |\n",
       "| indian   | 418 |\n",
       "| chinese  | 309 |\n",
       "| japanese | 224 |\n",
       "| thai     | 202 |\n",
       "\n"
      ],
      "text/latex": [
       "A tibble: 5 × 2\n",
       "\\begin{tabular}{ll}\n",
       " cuisine & n\\\\\n",
       " <fct> & <int>\\\\\n",
       "\\hline\n",
       "\t korean   & 559\\\\\n",
       "\t indian   & 418\\\\\n",
       "\t chinese  & 309\\\\\n",
       "\t japanese & 224\\\\\n",
       "\t thai     & 202\\\\\n",
       "\\end{tabular}\n"
      ],
      "text/html": [
       "<table class=\"dataframe\">\n",
       "<caption>A tibble: 5 × 2</caption>\n",
       "<thead>\n",
       "\t<tr><th scope=col>cuisine</th><th scope=col>n</th></tr>\n",
       "\t<tr><th scope=col>&lt;fct&gt;</th><th scope=col>&lt;int&gt;</th></tr>\n",
       "</thead>\n",
       "<tbody>\n",
       "\t<tr><td>korean  </td><td>559</td></tr>\n",
       "\t<tr><td>indian  </td><td>418</td></tr>\n",
       "\t<tr><td>chinese </td><td>309</td></tr>\n",
       "\t<tr><td>japanese</td><td>224</td></tr>\n",
       "\t<tr><td>thai    </td><td>202</td></tr>\n",
       "</tbody>\n",
       "</table>\n"
      ]
     },
     "metadata": {}
    }
   ],
   "metadata": {
    "colab": {
     "base_uri": "https://localhost:8080/",
     "height": 535
    },
    "id": "w5FWIkEiIjdN",
    "outputId": "2e195fd9-1a8f-4b91-9573-cce5582242df"
   }
  },
  {
   "cell_type": "markdown",
   "source": [
    "## 2. असमतोल डेटा हाताळा\n",
    "\n",
    "जसे तुम्ही मूळ डेटा सेटमध्ये तसेच आमच्या प्रशिक्षण सेटमध्ये पाहिले असेल, तिथे स्वयंपाक प्रकारांच्या संख्येमध्ये खूपच असमान वितरण आहे. कोरियन स्वयंपाक प्रकार *जवळजवळ* थाई स्वयंपाक प्रकारांच्या तीन पट आहेत. असमतोल डेटा मॉडेलच्या कार्यक्षमतेवर नकारात्मक परिणाम करू शकतो. अनेक मॉडेल्स तेव्हा चांगले कार्य करतात जेव्हा निरीक्षणांची संख्या समान असते आणि त्यामुळे असमतोल डेटासह संघर्ष करतात.\n",
    "\n",
    "असमतोल डेटा सेट्स हाताळण्यासाठी मुख्यतः दोन पद्धती आहेत:\n",
    "\n",
    "-   अल्पसंख्याक वर्गामध्ये निरीक्षणे वाढवणे: `ओव्हर-सॅम्पलिंग` उदा. SMOTE अल्गोरिदम वापरणे, जे अल्पसंख्याक वर्गाचे नवीन उदाहरणे त्यांच्या जवळच्या शेजाऱ्यांचा वापर करून कृत्रिमरीत्या निर्माण करते.\n",
    "\n",
    "-   बहुसंख्य वर्गामधून निरीक्षणे काढून टाकणे: `अंडर-सॅम्पलिंग`\n",
    "\n",
    "आमच्या मागील धड्यात, आम्ही `recipe` वापरून असमतोल डेटा सेट्स कसे हाताळायचे ते दाखवले. `recipe` म्हणजे एक प्रकारचा आराखडा जो डेटा सेटवर कोणते पायऱ्या लागू करायच्या आहेत हे वर्णन करतो, जेणेकरून तो डेटा विश्लेषणासाठी तयार होईल. आमच्या बाबतीत, आम्हाला आमच्या `training set` साठी स्वयंपाक प्रकारांची समान वितरण हवी आहे. चला, सुरुवात करूया.\n"
   ],
   "metadata": {
    "id": "daBi9qJNIwqW"
   }
  },
  {
   "cell_type": "code",
   "execution_count": 5,
   "source": [
    "# Load themis package for dealing with imbalanced data\r\n",
    "library(themis)\r\n",
    "\r\n",
    "# Create a recipe for preprocessing training data\r\n",
    "cuisines_recipe <- recipe(cuisine ~ ., data = cuisines_train) %>% \r\n",
    "  step_smote(cuisine)\r\n",
    "\r\n",
    "# Print recipe\r\n",
    "cuisines_recipe"
   ],
   "outputs": [
    {
     "output_type": "display_data",
     "data": {
      "text/plain": [
       "Data Recipe\n",
       "\n",
       "Inputs:\n",
       "\n",
       "      role #variables\n",
       "   outcome          1\n",
       " predictor        380\n",
       "\n",
       "Operations:\n",
       "\n",
       "SMOTE based on cuisine"
      ]
     },
     "metadata": {}
    }
   ],
   "metadata": {
    "colab": {
     "base_uri": "https://localhost:8080/",
     "height": 200
    },
    "id": "Az6LFBGxI1X0",
    "outputId": "29d71d85-64b0-4e62-871e-bcd5398573b6"
   }
  },
  {
   "cell_type": "markdown",
   "source": [
    "आपण अर्थातच पुष्टी करू शकता (prep+bake वापरून) की ही रेसिपी तुमच्या अपेक्षेनुसार कार्य करेल - सर्व पाककृती लेबल्समध्ये `559` निरीक्षणे आहेत.\n",
    "\n",
    "आता आपण ही रेसिपी मॉडेलिंगसाठी प्रीप्रोसेसर म्हणून वापरणार असल्याने, `workflow()` सर्व prep आणि bake आपल्यासाठी करेल, त्यामुळे आपल्याला रेसिपी मॅन्युअली अंदाज करण्याची गरज नाही.\n",
    "\n",
    "आता आपण मॉडेल प्रशिक्षणासाठी तयार आहोत 👩‍💻👨‍💻!\n",
    "\n",
    "## 3. तुमचा वर्गीकरणकर्ता निवडणे\n",
    "\n",
    "<p >\n",
    "   <img src=\"../../images/parsnip.jpg\"\n",
    "   width=\"600\"/>\n",
    "   <figcaption>@allison_horst यांचे कलाकृती</figcaption>\n"
   ],
   "metadata": {
    "id": "NBL3PqIWJBBB"
   }
  },
  {
   "cell_type": "markdown",
   "source": [
    "आता आपल्याला ठरवायचे आहे की या कामासाठी कोणता अल्गोरिदम वापरायचा 🤔.\n",
    "\n",
    "Tidymodels मध्ये, [`parsnip पॅकेज`](https://parsnip.tidymodels.org/index.html) विविध इंजिन्स (पॅकेजेस) मध्ये मॉडेल्ससह काम करण्यासाठी सुसंगत इंटरफेस प्रदान करते. कृपया [मॉडेल प्रकार आणि इंजिन्स](https://www.tidymodels.org/find/parsnip/#models) आणि त्यांचे संबंधित [मॉडेल आर्ग्युमेंट्स](https://www.tidymodels.org/find/parsnip/#model-args) शोधण्यासाठी parsnip दस्तऐवज पहा. सुरुवातीला विविधता थोडी गोंधळात टाकणारी वाटू शकते. उदाहरणार्थ, खालील पद्धतींमध्ये वर्गीकरण तंत्रांचा समावेश आहे:\n",
    "\n",
    "-   C5.0 नियम-आधारित वर्गीकरण मॉडेल्स\n",
    "\n",
    "-   लवचिक भेदक मॉडेल्स\n",
    "\n",
    "-   रेषीय भेदक मॉडेल्स\n",
    "\n",
    "-   नियमित भेदक मॉडेल्स\n",
    "\n",
    "-   लॉजिस्टिक रिग्रेशन मॉडेल्स\n",
    "\n",
    "-   मल्टिनॉमियल रिग्रेशन मॉडेल्स\n",
    "\n",
    "-   नाईव्ह बेयस मॉडेल्स\n",
    "\n",
    "-   सपोर्ट व्हेक्टर मशीन\n",
    "\n",
    "-   जवळचे शेजारी\n",
    "\n",
    "-   निर्णय वृक्ष\n",
    "\n",
    "-   एन्सेम्बल पद्धती\n",
    "\n",
    "-   न्यूरल नेटवर्क्स\n",
    "\n",
    "यादी अजूनही चालूच आहे!\n",
    "\n",
    "### **कोणता वर्गीकरणकर्ता निवडायचा?**\n",
    "\n",
    "तर, तुम्ही कोणता वर्गीकरणकर्ता निवडाल? अनेक पर्याय वापरून चांगला निकाल मिळतो का हे पाहणे हा एक चाचणीचा मार्ग असतो.\n",
    "\n",
    "> AutoML हा प्रश्न सोप्या पद्धतीने सोडवतो, कारण तो क्लाउडमध्ये हे सर्व तुलनात्मक विश्लेषण चालवतो आणि तुमच्या डेटासाठी सर्वोत्तम अल्गोरिदम निवडण्याची परवानगी देतो. [येथे प्रयत्न करा](https://docs.microsoft.com/learn/modules/automate-model-selection-with-azure-automl/?WT.mc_id=academic-77952-leestott)\n",
    "\n",
    "तसेच, वर्गीकरणकर्त्याची निवड आपल्या समस्येवर अवलंबून असते. उदाहरणार्थ, जेव्हा परिणाम `दोनांपेक्षा जास्त वर्गांमध्ये` वर्गीकृत केला जाऊ शकतो, जसे की आपल्या प्रकरणात, तेव्हा तुम्हाला `मल्टिक्लास वर्गीकरण अल्गोरिदम` वापरावा लागतो, `बायनरी वर्गीकरण`ऐवजी.\n",
    "\n",
    "### **एक चांगला दृष्टिकोन**\n",
    "\n",
    "अंधाधुंद अंदाज लावण्यापेक्षा चांगला मार्ग म्हणजे या डाउनलोड करण्यायोग्य [ML चीट शीट](https://docs.microsoft.com/azure/machine-learning/algorithm-cheat-sheet?WT.mc_id=academic-77952-leestott) वर दिलेल्या कल्पनांचे अनुसरण करणे. येथे, आपल्याला कळते की आपल्या मल्टिक्लास समस्येसाठी, आपल्याकडे काही पर्याय आहेत:\n",
    "\n",
    "<p >\n",
    "   <img src=\"../../images/cheatsheet.png\"\n",
    "   width=\"500\"/>\n",
    "   <figcaption>मायक्रोसॉफ्टच्या अल्गोरिदम चीट शीटचा एक भाग, ज्यामध्ये मल्टिक्लास वर्गीकरणाचे पर्याय दिले आहेत</figcaption>\n"
   ],
   "metadata": {
    "id": "a6DLAZ3vJZ14"
   }
  },
  {
   "cell_type": "markdown",
   "source": [
    "### **तर्कशक्ती**\n",
    "\n",
    "चला पाहूया की दिलेल्या अटींनुसार वेगवेगळ्या दृष्टिकोनांचा विचार करून योग्य पद्धत कशी निवडता येईल:\n",
    "\n",
    "-   **डीप न्यूरल नेटवर्क्स खूप जड आहेत**. आपल्याकडे स्वच्छ पण मर्यादित डेटासेट आहे, आणि आपण स्थानिकरित्या नोटबुक्सद्वारे प्रशिक्षण घेत आहोत, त्यामुळे डीप न्यूरल नेटवर्क्स या कामासाठी खूपच जड ठरतील.\n",
    "\n",
    "-   **दोन-वर्ग वर्गीकरणकर्ता नाही**. आपण दोन-वर्ग वर्गीकरणकर्ता वापरत नाही, त्यामुळे one-vs-all पद्धत नाकारली जाते.\n",
    "\n",
    "-   **डिसिजन ट्री किंवा लॉजिस्टिक रिग्रेशन उपयुक्त ठरू शकते**. डिसिजन ट्री उपयुक्त ठरू शकते, किंवा मल्टिनॉमियल रिग्रेशन/मल्टिक्लास लॉजिस्टिक रिग्रेशन मल्टिक्लास डेटासाठी उपयुक्त ठरू शकते.\n",
    "\n",
    "-   **मल्टिक्लास बूस्टेड डिसिजन ट्री वेगळ्या समस्येचे निराकरण करतो**. मल्टिक्लास बूस्टेड डिसिजन ट्री मुख्यतः नॉनपॅरामेट्रिक कामांसाठी उपयुक्त आहे, जसे की रँकिंग तयार करणे, त्यामुळे तो आपल्यासाठी उपयुक्त नाही.\n",
    "\n",
    "सामान्यतः, अधिक जटिल मशीन लर्निंग मॉडेल्स (जसे की एन्सेंबल पद्धती) वापरण्यापूर्वी, शक्य तितके साधे मॉडेल तयार करणे चांगले असते, जेणेकरून आपल्याला डेटामध्ये काय चालले आहे याची कल्पना येईल. त्यामुळे या धड्यासाठी, आपण `मल्टिनॉमियल रिग्रेशन` मॉडेलपासून सुरुवात करू.\n",
    "\n",
    "> लॉजिस्टिक रिग्रेशन ही एक तंत्र आहे जी परिणामात्मक व्हेरिएबल श्रेणीबद्ध (किंवा नाममात्र) असताना वापरली जाते. बायनरी लॉजिस्टिक रिग्रेशनमध्ये परिणाम व्हेरिएबल्सची संख्या दोन असते, तर मल्टिनॉमियल लॉजिस्टिक रिग्रेशनमध्ये परिणाम व्हेरिएबल्सची संख्या दोनपेक्षा जास्त असते. अधिक वाचनासाठी [Advanced Regression Methods](https://bookdown.org/chua/ber642_advanced_regression/multinomial-logistic-regression.html) पहा.\n",
    "\n",
    "## 4. मल्टिनॉमियल लॉजिस्टिक रिग्रेशन मॉडेल प्रशिक्षण आणि मूल्यांकन करा.\n",
    "\n",
    "Tidymodels मध्ये, `parsnip::multinom_reg()` हे मॉडेल मल्टिनॉमियल वितरणाचा वापर करून मल्टिक्लास डेटाचे भाकीत करण्यासाठी रेषीय प्रेडिक्टर्स वापरते. हे मॉडेल फिट करण्यासाठी तुम्ही कोणत्या पद्धती/इंजिन्स वापरू शकता यासाठी `?multinom_reg()` पहा.\n",
    "\n",
    "या उदाहरणासाठी, आपण [nnet](https://cran.r-project.org/web/packages/nnet/nnet.pdf) इंजिनद्वारे मल्टिनॉमियल रिग्रेशन मॉडेल फिट करू.\n",
    "\n",
    "> मी `penalty` साठी एक मूल्य थोडेसे अंदाजाने निवडले आहे. हे मूल्य निवडण्यासाठी चांगल्या पद्धती आहेत, जसे की `resampling` आणि मॉडेलचे `tuning` करणे, ज्याबद्दल आपण नंतर चर्चा करू.\n",
    ">\n",
    "> मॉडेल हायपरपॅरामिटर्स ट्यून करण्याबद्दल अधिक जाणून घ्यायचे असल्यास [Tidymodels: Get Started](https://www.tidymodels.org/start/tuning/) पहा.\n"
   ],
   "metadata": {
    "id": "gWMsVcbBJemu"
   }
  },
  {
   "cell_type": "code",
   "execution_count": 6,
   "source": [
    "# Create a multinomial regression model specification\r\n",
    "mr_spec <- multinom_reg(penalty = 1) %>% \r\n",
    "  set_engine(\"nnet\", MaxNWts = 2086) %>% \r\n",
    "  set_mode(\"classification\")\r\n",
    "\r\n",
    "# Print model specification\r\n",
    "mr_spec"
   ],
   "outputs": [
    {
     "output_type": "display_data",
     "data": {
      "text/plain": [
       "Multinomial Regression Model Specification (classification)\n",
       "\n",
       "Main Arguments:\n",
       "  penalty = 1\n",
       "\n",
       "Engine-Specific Arguments:\n",
       "  MaxNWts = 2086\n",
       "\n",
       "Computational engine: nnet \n"
      ]
     },
     "metadata": {}
    }
   ],
   "metadata": {
    "colab": {
     "base_uri": "https://localhost:8080/",
     "height": 166
    },
    "id": "Wq_fcyQiJvfG",
    "outputId": "c30449c7-3864-4be7-f810-72a003743e2d"
   }
  },
  {
   "cell_type": "markdown",
   "source": [
    "छान काम केले 🥳! आता आपल्याकडे एक रेसिपी आणि एक मॉडेल स्पेसिफिकेशन आहे, त्यामुळे आपल्याला त्यांना एकत्र बांधून एक असे ऑब्जेक्ट तयार करायचे आहे जे प्रथम डेटा पूर्व-प्रक्रिया करेल, नंतर पूर्व-प्रक्रिया केलेल्या डेटावर मॉडेल फिट करेल आणि संभाव्य पोस्ट-प्रोसेसिंग क्रियाकलापांसाठीही परवानगी देईल. Tidymodels मध्ये, हा सोयीस्कर ऑब्जेक्ट [`workflow`](https://workflows.tidymodels.org/) म्हणून ओळखला जातो आणि तुमच्या मॉडेलिंग घटकांना सोयीस्करपणे सामावून घेतो! यालाच आपण *Python* मध्ये *pipelines* म्हणतो.\n",
    "\n",
    "तर चला, सगळं एकत्र करून एक workflow तयार करूया!📦\n"
   ],
   "metadata": {
    "id": "NlSbzDfgJ0zh"
   }
  },
  {
   "cell_type": "code",
   "execution_count": 7,
   "source": [
    "# Bundle recipe and model specification\r\n",
    "mr_wf <- workflow() %>% \r\n",
    "  add_recipe(cuisines_recipe) %>% \r\n",
    "  add_model(mr_spec)\r\n",
    "\r\n",
    "# Print out workflow\r\n",
    "mr_wf"
   ],
   "outputs": [
    {
     "output_type": "display_data",
     "data": {
      "text/plain": [
       "══ Workflow ════════════════════════════════════════════════════════════════════\n",
       "\u001b[3mPreprocessor:\u001b[23m Recipe\n",
       "\u001b[3mModel:\u001b[23m multinom_reg()\n",
       "\n",
       "── Preprocessor ────────────────────────────────────────────────────────────────\n",
       "1 Recipe Step\n",
       "\n",
       "• step_smote()\n",
       "\n",
       "── Model ───────────────────────────────────────────────────────────────────────\n",
       "Multinomial Regression Model Specification (classification)\n",
       "\n",
       "Main Arguments:\n",
       "  penalty = 1\n",
       "\n",
       "Engine-Specific Arguments:\n",
       "  MaxNWts = 2086\n",
       "\n",
       "Computational engine: nnet \n"
      ]
     },
     "metadata": {}
    }
   ],
   "metadata": {
    "colab": {
     "base_uri": "https://localhost:8080/",
     "height": 333
    },
    "id": "Sc1TfPA4Ke3_",
    "outputId": "82c70013-e431-4e7e-cef6-9fcf8aad4a6c"
   }
  },
  {
   "cell_type": "markdown",
   "source": [
    "वर्कफ्लो 👌👌! **`workflow()`** मॉडेलप्रमाणेच फिट केला जाऊ शकतो. तर, मॉडेल प्रशिक्षण देण्याची वेळ आली आहे!\n"
   ],
   "metadata": {
    "id": "TNQ8i85aKf9L"
   }
  },
  {
   "cell_type": "code",
   "execution_count": 8,
   "source": [
    "# Train a multinomial regression model\n",
    "mr_fit <- fit(object = mr_wf, data = cuisines_train)\n",
    "\n",
    "mr_fit"
   ],
   "outputs": [
    {
     "output_type": "display_data",
     "data": {
      "text/plain": [
       "══ Workflow [trained] ══════════════════════════════════════════════════════════\n",
       "\u001b[3mPreprocessor:\u001b[23m Recipe\n",
       "\u001b[3mModel:\u001b[23m multinom_reg()\n",
       "\n",
       "── Preprocessor ────────────────────────────────────────────────────────────────\n",
       "1 Recipe Step\n",
       "\n",
       "• step_smote()\n",
       "\n",
       "── Model ───────────────────────────────────────────────────────────────────────\n",
       "Call:\n",
       "nnet::multinom(formula = ..y ~ ., data = data, decay = ~1, MaxNWts = ~2086, \n",
       "    trace = FALSE)\n",
       "\n",
       "Coefficients:\n",
       "         (Intercept)     almond angelica         anise anise_seed       apple\n",
       "indian    0.19723325  0.2409661        0 -5.004955e-05 -0.1657635 -0.05769734\n",
       "japanese  0.13961959 -0.6262400        0 -1.169155e-04 -0.4893596 -0.08585717\n",
       "korean    0.22377347 -0.1833485        0 -5.560395e-05 -0.2489401 -0.15657804\n",
       "thai     -0.04336577 -0.6106258        0  4.903828e-04 -0.5782866  0.63451105\n",
       "         apple_brandy     apricot armagnac   artemisia artichoke   asparagus\n",
       "indian              0  0.37042636        0 -0.09122797         0 -0.27181970\n",
       "japanese            0  0.28895643        0 -0.12651100         0  0.14054037\n",
       "korean              0 -0.07981259        0  0.55756709         0 -0.66979948\n",
       "thai                0 -0.33160904        0 -0.10725182         0 -0.02602152\n",
       "             avocado       bacon baked_potato balm     banana     barley\n",
       "indian   -0.46624197  0.16008055            0    0 -0.2838796  0.2230625\n",
       "japanese  0.90341344  0.02932727            0    0 -0.4142787  2.0953906\n",
       "korean   -0.06925382 -0.35804134            0    0 -0.2686963 -0.7233404\n",
       "thai     -0.21473955 -0.75594439            0    0  0.6784880 -0.4363320\n",
       "         bartlett_pear      basil        bay       bean         beech\n",
       "indian               0 -0.7128756  0.1011587 -0.8777275 -0.0004380795\n",
       "japanese             0  0.1288697  0.9425626 -0.2380748  0.3373437611\n",
       "korean               0 -0.2445193 -0.4744318 -0.8957870 -0.0048784496\n",
       "thai                 0  1.5365848  0.1333256  0.2196970 -0.0113078024\n",
       "               beef beef_broth   beef_liver         beer        beet\n",
       "indian   -0.7985278  0.2430186 -0.035598065 -0.002173738  0.01005813\n",
       "japanese  0.2241875 -0.3653020 -0.139551027  0.128905553  0.04923911\n",
       "korean    0.5366515 -0.6153237  0.213455197 -0.010828645  0.27325423\n",
       "thai      0.1570012 -0.9364154 -0.008032213 -0.035063746 -0.28279823\n",
       "         bell_pepper bergamot       berry bitter_orange black_bean\n",
       "indian    0.49074330        0  0.58947607   0.191256164 -0.1945233\n",
       "japanese  0.09074167        0 -0.25917977  -0.118915977 -0.3442400\n",
       "korean   -0.57876763        0 -0.07874180  -0.007729435 -0.5220672\n",
       "thai      0.92554006        0 -0.07210196  -0.002983296 -0.4614426\n",
       "         black_currant black_mustard_seed_oil black_pepper black_raspberry\n",
       "indian               0             0.38935801   -0.4453495               0\n",
       "japanese             0            -0.05452887   -0.5440869               0\n",
       "korean               0            -0.03929970    0.8025454               0\n",
       "thai                 0            -0.21498372   -0.9854806               0\n",
       "         black_sesame_seed  black_tea   blackberry blackberry_brandy\n",
       "indian          -0.2759246  0.3079977  0.191256164                 0\n",
       "japanese        -0.6101687 -0.1671913 -0.118915977                 0\n",
       "korean           1.5197674 -0.3036261 -0.007729435                 0\n",
       "thai            -0.1755656 -0.1487033 -0.002983296                 0\n",
       "         blue_cheese    blueberry   bone_oil bourbon_whiskey      brandy\n",
       "indian             0  0.216164294 -0.2276744               0  0.22427587\n",
       "japanese           0 -0.119186087  0.3913019               0 -0.15595599\n",
       "korean             0 -0.007821986  0.2854487               0 -0.02562342\n",
       "thai               0 -0.004947048 -0.0253658               0 -0.05715244\n",
       "\n",
       "...\n",
       "and 308 more lines."
      ]
     },
     "metadata": {}
    }
   ],
   "metadata": {
    "colab": {
     "base_uri": "https://localhost:8080/",
     "height": 1000
    },
    "id": "GMbdfVmTKkJI",
    "outputId": "adf9ebdf-d69d-4a64-e9fd-e06e5322292e"
   }
  },
  {
   "cell_type": "markdown",
   "source": [
    "मॉडेलने प्रशिक्षणादरम्यान शिकलेल्या गुणांकांचे आउटपुट दाखवते.\n",
    "\n",
    "### प्रशिक्षित मॉडेलचे मूल्यांकन करा\n",
    "\n",
    "चाचणी संचावर मॉडेलने कसे काम केले हे मोजून पाहण्याची वेळ आली आहे 📏! चाचणी संचावर अंदाज वर्तवून सुरुवात करूया.\n"
   ],
   "metadata": {
    "id": "tt2BfOxrKmcJ"
   }
  },
  {
   "cell_type": "code",
   "execution_count": 9,
   "source": [
    "# Make predictions on the test set\n",
    "results <- cuisines_test %>% select(cuisine) %>% \n",
    "  bind_cols(mr_fit %>% predict(new_data = cuisines_test))\n",
    "\n",
    "# Print out results\n",
    "results %>% \n",
    "  slice_head(n = 5)"
   ],
   "outputs": [
    {
     "output_type": "display_data",
     "data": {
      "text/plain": [
       "  cuisine .pred_class\n",
       "1 indian  thai       \n",
       "2 indian  indian     \n",
       "3 indian  indian     \n",
       "4 indian  indian     \n",
       "5 indian  indian     "
      ],
      "text/markdown": [
       "\n",
       "A tibble: 5 × 2\n",
       "\n",
       "| cuisine &lt;fct&gt; | .pred_class &lt;fct&gt; |\n",
       "|---|---|\n",
       "| indian | thai   |\n",
       "| indian | indian |\n",
       "| indian | indian |\n",
       "| indian | indian |\n",
       "| indian | indian |\n",
       "\n"
      ],
      "text/latex": [
       "A tibble: 5 × 2\n",
       "\\begin{tabular}{ll}\n",
       " cuisine & .pred\\_class\\\\\n",
       " <fct> & <fct>\\\\\n",
       "\\hline\n",
       "\t indian & thai  \\\\\n",
       "\t indian & indian\\\\\n",
       "\t indian & indian\\\\\n",
       "\t indian & indian\\\\\n",
       "\t indian & indian\\\\\n",
       "\\end{tabular}\n"
      ],
      "text/html": [
       "<table class=\"dataframe\">\n",
       "<caption>A tibble: 5 × 2</caption>\n",
       "<thead>\n",
       "\t<tr><th scope=col>cuisine</th><th scope=col>.pred_class</th></tr>\n",
       "\t<tr><th scope=col>&lt;fct&gt;</th><th scope=col>&lt;fct&gt;</th></tr>\n",
       "</thead>\n",
       "<tbody>\n",
       "\t<tr><td>indian</td><td>thai  </td></tr>\n",
       "\t<tr><td>indian</td><td>indian</td></tr>\n",
       "\t<tr><td>indian</td><td>indian</td></tr>\n",
       "\t<tr><td>indian</td><td>indian</td></tr>\n",
       "\t<tr><td>indian</td><td>indian</td></tr>\n",
       "</tbody>\n",
       "</table>\n"
      ]
     },
     "metadata": {}
    }
   ],
   "metadata": {
    "colab": {
     "base_uri": "https://localhost:8080/",
     "height": 248
    },
    "id": "CqtckvtsKqax",
    "outputId": "e57fe557-6a68-4217-fe82-173328c5436d"
   }
  },
  {
   "cell_type": "markdown",
   "source": [
    "छान काम! टायडीमॉडेल्समध्ये, मॉडेलच्या कार्यक्षमतेचे मूल्यांकन [यार्डस्टिक](https://yardstick.tidymodels.org/) चा वापर करून केले जाऊ शकते - कार्यक्षमतेचे मेट्रिक्स वापरून मॉडेल्सची परिणामकारकता मोजण्यासाठी वापरले जाणारे एक पॅकेज. जसे आपण आपल्या लॉजिस्टिक रिग्रेशन धड्यात केले, तसेच सुरुवात करूया एका कन्फ्युजन मॅट्रिक्सची गणना करून.\n"
   ],
   "metadata": {
    "id": "8w5N6XsBKss7"
   }
  },
  {
   "cell_type": "code",
   "execution_count": 10,
   "source": [
    "# Confusion matrix for categorical data\n",
    "conf_mat(data = results, truth = cuisine, estimate = .pred_class)\n"
   ],
   "outputs": [
    {
     "output_type": "display_data",
     "data": {
      "text/plain": [
       "          Truth\n",
       "Prediction chinese indian japanese korean thai\n",
       "  chinese       83      1        8     15   10\n",
       "  indian         4    163        1      2    6\n",
       "  japanese      21      5       73     25    1\n",
       "  korean        15      0       11    191    0\n",
       "  thai          10     11        3      7   70"
      ]
     },
     "metadata": {}
    }
   ],
   "metadata": {
    "colab": {
     "base_uri": "https://localhost:8080/",
     "height": 133
    },
    "id": "YvODvsLkK0iG",
    "outputId": "bb69da84-1266-47ad-b174-d43b88ca2988"
   }
  },
  {
   "cell_type": "markdown",
   "source": [],
   "metadata": {
    "id": "c0HfPL16Lr6U"
   }
  },
  {
   "cell_type": "code",
   "execution_count": 11,
   "source": [
    "update_geom_defaults(geom = \"tile\", new = list(color = \"black\", alpha = 0.7))\n",
    "# Visualize confusion matrix\n",
    "results %>% \n",
    "  conf_mat(cuisine, .pred_class) %>% \n",
    "  autoplot(type = \"heatmap\")"
   ],
   "outputs": [
    {
     "output_type": "display_data",
     "data": {
      "text/plain": [
       "plot without title"
      ],
      "image/png": "[encoded data removed]"
     },
     "metadata": {
      "image/png": {
       "width": 420,
       "height": 420
      }
     }
    }
   ],
   "metadata": {
    "colab": {
     "base_uri": "https://localhost:8080/",
     "height": 436
    },
    "id": "HsAtwukyLsvt",
    "outputId": "3032a224-a2c8-4270-b4f2-7bb620317400"
   }
  },
  {
   "cell_type": "markdown",
   "source": [
    "गोंधळ मॅट्रिक्स प्लॉटमधील गडद चौकोन उच्च संख्येने प्रकरणे दर्शवतात, आणि तुम्हाला शक्यतो गडद चौकोनांची तिरपी रेषा दिसेल जी दर्शवते की जिथे अंदाजित आणि वास्तविक लेबल समान आहेत.\n",
    "\n",
    "आता गोंधळ मॅट्रिक्ससाठी सारांश आकडेवारीची गणना करूया.\n"
   ],
   "metadata": {
    "id": "oOJC87dkLwPr"
   }
  },
  {
   "cell_type": "code",
   "execution_count": 12,
   "source": [
    "# Summary stats for confusion matrix\n",
    "conf_mat(data = results, truth = cuisine, estimate = .pred_class) %>% \n",
    "summary()"
   ],
   "outputs": [
    {
     "output_type": "display_data",
     "data": {
      "text/plain": [
       "   .metric              .estimator .estimate\n",
       "1  accuracy             multiclass 0.7880435\n",
       "2  kap                  multiclass 0.7276583\n",
       "3  sens                 macro      0.7780927\n",
       "4  spec                 macro      0.9477598\n",
       "5  ppv                  macro      0.7585583\n",
       "6  npv                  macro      0.9460080\n",
       "7  mcc                  multiclass 0.7292724\n",
       "8  j_index              macro      0.7258524\n",
       "9  bal_accuracy         macro      0.8629262\n",
       "10 detection_prevalence macro      0.2000000\n",
       "11 precision            macro      0.7585583\n",
       "12 recall               macro      0.7780927\n",
       "13 f_meas               macro      0.7641862"
      ],
      "text/markdown": [
       "\n",
       "A tibble: 13 × 3\n",
       "\n",
       "| .metric &lt;chr&gt; | .estimator &lt;chr&gt; | .estimate &lt;dbl&gt; |\n",
       "|---|---|---|\n",
       "| accuracy             | multiclass | 0.7880435 |\n",
       "| kap                  | multiclass | 0.7276583 |\n",
       "| sens                 | macro      | 0.7780927 |\n",
       "| spec                 | macro      | 0.9477598 |\n",
       "| ppv                  | macro      | 0.7585583 |\n",
       "| npv                  | macro      | 0.9460080 |\n",
       "| mcc                  | multiclass | 0.7292724 |\n",
       "| j_index              | macro      | 0.7258524 |\n",
       "| bal_accuracy         | macro      | 0.8629262 |\n",
       "| detection_prevalence | macro      | 0.2000000 |\n",
       "| precision            | macro      | 0.7585583 |\n",
       "| recall               | macro      | 0.7780927 |\n",
       "| f_meas               | macro      | 0.7641862 |\n",
       "\n"
      ],
      "text/latex": [
       "A tibble: 13 × 3\n",
       "\\begin{tabular}{lll}\n",
       " .metric & .estimator & .estimate\\\\\n",
       " <chr> & <chr> & <dbl>\\\\\n",
       "\\hline\n",
       "\t accuracy             & multiclass & 0.7880435\\\\\n",
       "\t kap                  & multiclass & 0.7276583\\\\\n",
       "\t sens                 & macro      & 0.7780927\\\\\n",
       "\t spec                 & macro      & 0.9477598\\\\\n",
       "\t ppv                  & macro      & 0.7585583\\\\\n",
       "\t npv                  & macro      & 0.9460080\\\\\n",
       "\t mcc                  & multiclass & 0.7292724\\\\\n",
       "\t j\\_index              & macro      & 0.7258524\\\\\n",
       "\t bal\\_accuracy         & macro      & 0.8629262\\\\\n",
       "\t detection\\_prevalence & macro      & 0.2000000\\\\\n",
       "\t precision            & macro      & 0.7585583\\\\\n",
       "\t recall               & macro      & 0.7780927\\\\\n",
       "\t f\\_meas               & macro      & 0.7641862\\\\\n",
       "\\end{tabular}\n"
      ],
      "text/html": [
       "<table class=\"dataframe\">\n",
       "<caption>A tibble: 13 × 3</caption>\n",
       "<thead>\n",
       "\t<tr><th scope=col>.metric</th><th scope=col>.estimator</th><th scope=col>.estimate</th></tr>\n",
       "\t<tr><th scope=col>&lt;chr&gt;</th><th scope=col>&lt;chr&gt;</th><th scope=col>&lt;dbl&gt;</th></tr>\n",
       "</thead>\n",
       "<tbody>\n",
       "\t<tr><td>accuracy            </td><td>multiclass</td><td>0.7880435</td></tr>\n",
       "\t<tr><td>kap                 </td><td>multiclass</td><td>0.7276583</td></tr>\n",
       "\t<tr><td>sens                </td><td>macro     </td><td>0.7780927</td></tr>\n",
       "\t<tr><td>spec                </td><td>macro     </td><td>0.9477598</td></tr>\n",
       "\t<tr><td>ppv                 </td><td>macro     </td><td>0.7585583</td></tr>\n",
       "\t<tr><td>npv                 </td><td>macro     </td><td>0.9460080</td></tr>\n",
       "\t<tr><td>mcc                 </td><td>multiclass</td><td>0.7292724</td></tr>\n",
       "\t<tr><td>j_index             </td><td>macro     </td><td>0.7258524</td></tr>\n",
       "\t<tr><td>bal_accuracy        </td><td>macro     </td><td>0.8629262</td></tr>\n",
       "\t<tr><td>detection_prevalence</td><td>macro     </td><td>0.2000000</td></tr>\n",
       "\t<tr><td>precision           </td><td>macro     </td><td>0.7585583</td></tr>\n",
       "\t<tr><td>recall              </td><td>macro     </td><td>0.7780927</td></tr>\n",
       "\t<tr><td>f_meas              </td><td>macro     </td><td>0.7641862</td></tr>\n",
       "</tbody>\n",
       "</table>\n"
      ]
     },
     "metadata": {}
    }
   ],
   "metadata": {
    "colab": {
     "base_uri": "https://localhost:8080/",
     "height": 494
    },
    "id": "OYqetUyzL5Wz",
    "outputId": "6a84d65e-113d-4281-dfc1-16e8b70f37e6"
   }
  },
  {
   "cell_type": "markdown",
   "source": [
    "जर आपण अचूकता, संवेदनशीलता, ppv यासारख्या काही मेट्रिक्सवर लक्ष केंद्रित केले, तर सुरुवातीसाठी आपण फारसे वाईट नाही आहोत 🥳!\n",
    "\n",
    "## 4. अधिक सखोल विचार\n",
    "\n",
    "चला एक सूक्ष्म प्रश्न विचारू: दिलेल्या प्रकारच्या खाद्यपदार्थाला अंदाजित परिणाम म्हणून स्वीकारण्यासाठी कोणती निकष वापरली जातात?\n",
    "\n",
    "तर, सांख्यिकीय मशीन लर्निंग अल्गोरिदम, जसे की लॉजिस्टिक रिग्रेशन, हे `प्रायिकता`वर आधारित असतात; त्यामुळे वर्गीकरण करणाऱ्या मॉडेलने प्रत्यक्षात जे अंदाजित केले जाते ते म्हणजे संभाव्य परिणामांच्या संचावर आधारित प्रायिकता वितरण. ज्या वर्गाची प्रायिकता सर्वाधिक असते, तो वर्ग दिलेल्या निरीक्षणांसाठी सर्वात संभाव्य परिणाम म्हणून निवडला जातो.\n",
    "\n",
    "चला हे कृतीत पाहू, जिथे आपण कठोर वर्ग अंदाज आणि प्रायिकता दोन्ही तयार करू.\n"
   ],
   "metadata": {
    "id": "43t7vz8vMJtW"
   }
  },
  {
   "cell_type": "code",
   "execution_count": 13,
   "source": [
    "# Make hard class prediction and probabilities\n",
    "results_prob <- cuisines_test %>%\n",
    "  select(cuisine) %>% \n",
    "  bind_cols(mr_fit %>% predict(new_data = cuisines_test)) %>% \n",
    "  bind_cols(mr_fit %>% predict(new_data = cuisines_test, type = \"prob\"))\n",
    "\n",
    "# Print out results\n",
    "results_prob %>% \n",
    "  slice_head(n = 5)"
   ],
   "outputs": [
    {
     "output_type": "display_data",
     "data": {
      "text/plain": [
       "  cuisine .pred_class .pred_chinese .pred_indian .pred_japanese .pred_korean\n",
       "1 indian  thai        1.551259e-03  0.4587877    5.988039e-04   2.428503e-04\n",
       "2 indian  indian      2.637133e-05  0.9999488    6.648651e-07   2.259993e-05\n",
       "3 indian  indian      1.049433e-03  0.9909982    1.060937e-03   1.644947e-05\n",
       "4 indian  indian      6.237482e-02  0.4763035    9.136702e-02   3.660913e-01\n",
       "5 indian  indian      1.431745e-02  0.9418551    2.945239e-02   8.721782e-03\n",
       "  .pred_thai  \n",
       "1 5.388194e-01\n",
       "2 1.577948e-06\n",
       "3 6.874989e-03\n",
       "4 3.863391e-03\n",
       "5 5.653283e-03"
      ],
      "text/markdown": [
       "\n",
       "A tibble: 5 × 7\n",
       "\n",
       "| cuisine &lt;fct&gt; | .pred_class &lt;fct&gt; | .pred_chinese &lt;dbl&gt; | .pred_indian &lt;dbl&gt; | .pred_japanese &lt;dbl&gt; | .pred_korean &lt;dbl&gt; | .pred_thai &lt;dbl&gt; |\n",
       "|---|---|---|---|---|---|---|\n",
       "| indian | thai   | 1.551259e-03 | 0.4587877 | 5.988039e-04 | 2.428503e-04 | 5.388194e-01 |\n",
       "| indian | indian | 2.637133e-05 | 0.9999488 | 6.648651e-07 | 2.259993e-05 | 1.577948e-06 |\n",
       "| indian | indian | 1.049433e-03 | 0.9909982 | 1.060937e-03 | 1.644947e-05 | 6.874989e-03 |\n",
       "| indian | indian | 6.237482e-02 | 0.4763035 | 9.136702e-02 | 3.660913e-01 | 3.863391e-03 |\n",
       "| indian | indian | 1.431745e-02 | 0.9418551 | 2.945239e-02 | 8.721782e-03 | 5.653283e-03 |\n",
       "\n"
      ],
      "text/latex": [
       "A tibble: 5 × 7\n",
       "\\begin{tabular}{lllllll}\n",
       " cuisine & .pred\\_class & .pred\\_chinese & .pred\\_indian & .pred\\_japanese & .pred\\_korean & .pred\\_thai\\\\\n",
       " <fct> & <fct> & <dbl> & <dbl> & <dbl> & <dbl> & <dbl>\\\\\n",
       "\\hline\n",
       "\t indian & thai   & 1.551259e-03 & 0.4587877 & 5.988039e-04 & 2.428503e-04 & 5.388194e-01\\\\\n",
       "\t indian & indian & 2.637133e-05 & 0.9999488 & 6.648651e-07 & 2.259993e-05 & 1.577948e-06\\\\\n",
       "\t indian & indian & 1.049433e-03 & 0.9909982 & 1.060937e-03 & 1.644947e-05 & 6.874989e-03\\\\\n",
       "\t indian & indian & 6.237482e-02 & 0.4763035 & 9.136702e-02 & 3.660913e-01 & 3.863391e-03\\\\\n",
       "\t indian & indian & 1.431745e-02 & 0.9418551 & 2.945239e-02 & 8.721782e-03 & 5.653283e-03\\\\\n",
       "\\end{tabular}\n"
      ],
      "text/html": [
       "<table class=\"dataframe\">\n",
       "<caption>A tibble: 5 × 7</caption>\n",
       "<thead>\n",
       "\t<tr><th scope=col>cuisine</th><th scope=col>.pred_class</th><th scope=col>.pred_chinese</th><th scope=col>.pred_indian</th><th scope=col>.pred_japanese</th><th scope=col>.pred_korean</th><th scope=col>.pred_thai</th></tr>\n",
       "\t<tr><th scope=col>&lt;fct&gt;</th><th scope=col>&lt;fct&gt;</th><th scope=col>&lt;dbl&gt;</th><th scope=col>&lt;dbl&gt;</th><th scope=col>&lt;dbl&gt;</th><th scope=col>&lt;dbl&gt;</th><th scope=col>&lt;dbl&gt;</th></tr>\n",
       "</thead>\n",
       "<tbody>\n",
       "\t<tr><td>indian</td><td>thai  </td><td>1.551259e-03</td><td>0.4587877</td><td>5.988039e-04</td><td>2.428503e-04</td><td>5.388194e-01</td></tr>\n",
       "\t<tr><td>indian</td><td>indian</td><td>2.637133e-05</td><td>0.9999488</td><td>6.648651e-07</td><td>2.259993e-05</td><td>1.577948e-06</td></tr>\n",
       "\t<tr><td>indian</td><td>indian</td><td>1.049433e-03</td><td>0.9909982</td><td>1.060937e-03</td><td>1.644947e-05</td><td>6.874989e-03</td></tr>\n",
       "\t<tr><td>indian</td><td>indian</td><td>6.237482e-02</td><td>0.4763035</td><td>9.136702e-02</td><td>3.660913e-01</td><td>3.863391e-03</td></tr>\n",
       "\t<tr><td>indian</td><td>indian</td><td>1.431745e-02</td><td>0.9418551</td><td>2.945239e-02</td><td>8.721782e-03</td><td>5.653283e-03</td></tr>\n",
       "</tbody>\n",
       "</table>\n"
      ]
     },
     "metadata": {}
    }
   ],
   "metadata": {
    "colab": {
     "base_uri": "https://localhost:8080/",
     "height": 248
    },
    "id": "xdKNs-ZPMTJL",
    "outputId": "68f6ac5a-725a-4eff-9ea6-481fef00e008"
   }
  },
  {
   "cell_type": "markdown",
   "source": [
    "खूप छान!\n",
    "\n",
    "✅ तुम्ही स्पष्ट करू शकता का की मॉडेलला पहिली निरीक्षण थाई असल्याचा विश्वास का आहे?\n",
    "\n",
    "## **🚀चॅलेंज**\n",
    "\n",
    "या धड्यात, तुम्ही तुमचा स्वच्छ डेटा वापरून एक मशीन लर्निंग मॉडेल तयार केले जे घटकांच्या मालिकेवर आधारित राष्ट्रीय खाद्यपदार्थाचा अंदाज लावू शकते. Tidymodels डेटा वर्गीकृत करण्यासाठी प्रदान करत असलेल्या [अनेक पर्यायां](https://www.tidymodels.org/find/parsnip/#models) आणि बहुपदीय प्रतिगमन फिट करण्याच्या [इतर पद्धतीं](https://parsnip.tidymodels.org/articles/articles/Examples.html#multinom_reg-models) वाचण्यासाठी थोडा वेळ घ्या.\n",
    "\n",
    "#### धन्यवाद:\n",
    "\n",
    "[`Allison Horst`](https://twitter.com/allison_horst/) यांना R अधिक स्वागतार्ह आणि आकर्षक बनवणाऱ्या अप्रतिम चित्रण तयार केल्याबद्दल. तिच्या [गॅलरी](https://www.google.com/url?q=https://github.com/allisonhorst/stats-illustrations&sa=D&source=editors&ust=1626380772530000&usg=AOvVaw3zcfyCizFQZpkSLzxiiQEM) मध्ये अधिक चित्रण शोधा.\n",
    "\n",
    "[Cassie Breviu](https://www.twitter.com/cassieview) आणि [Jen Looper](https://www.twitter.com/jenlooper) यांना या मॉड्यूलची मूळ Python आवृत्ती तयार केल्याबद्दल ♥️\n",
    "\n",
    "<br>\n",
    "मी काही विनोद टाकले असते, पण मला खाद्यपदार्थांवरील शब्दखेळ समजत नाही 😅.\n",
    "\n",
    "<br>\n",
    "\n",
    "आनंदी शिक्षण,\n",
    "\n",
    "[Eric](https://twitter.com/ericntay), गोल्ड Microsoft Learn स्टुडंट अॅम्बेसेडर.\n"
   ],
   "metadata": {
    "id": "2tWVHMeLMYdM"
   }
  },
  {
   "cell_type": "markdown",
   "metadata": {},
   "source": [
    "\n---\n\n**अस्वीकरण**:  \nहा दस्तऐवज AI भाषांतर सेवा [Co-op Translator](https://github.com/Azure/co-op-translator) वापरून भाषांतरित करण्यात आला आहे. आम्ही अचूकतेसाठी प्रयत्नशील असलो तरी कृपया लक्षात ठेवा की स्वयंचलित भाषांतरांमध्ये त्रुटी किंवा अचूकतेचा अभाव असू शकतो. मूळ भाषेतील दस्तऐवज हा अधिकृत स्रोत मानला जावा. महत्त्वाच्या माहितीसाठी व्यावसायिक मानवी भाषांतराची शिफारस केली जाते. या भाषांतराचा वापर करून निर्माण होणाऱ्या कोणत्याही गैरसमज किंवा चुकीच्या अर्थासाठी आम्ही जबाबदार राहणार नाही.\n"
   ]
  }
 ]
}