{
 "cells": [
  {
   "source": [
    "# डेटा सेटअप\n",
    "\n",
    "या नोटबुकमध्ये, आम्ही कसे करायचे ते दाखवतो:\n",
    "\n",
    "या मॉड्यूलसाठी टाइम सिरीज डेटा सेटअप करणे  \n",
    "डेटा व्हिज्युअलाइझ करणे  \n",
    "या उदाहरणातील डेटा GEFCom2014 अंदाज स्पर्धेतून घेतलेला आहे. यात 2012 ते 2014 दरम्यान 3 वर्षांचे तासवार वीज लोड आणि तापमान मूल्ये समाविष्ट आहेत.\n",
    "\n",
    "1ताओ हाँग, पियरे पिन्सन, शू फॅन, हमीदरेझा झारेइपूर, अल्बर्टो ट्रोक्कोली आणि रॉब जे. हायंडमन, \"प्रोबॅबिलिस्टिक एनर्जी फोरकास्टिंग: ग्लोबल एनर्जी फोरकास्टिंग कॉम्पिटिशन 2014 आणि त्यापुढे\", इंटरनॅशनल जर्नल ऑफ फोरकास्टिंग, खंड.32, क्र.3, पृष्ठ 896-913, जुलै-सप्टेंबर, 2016.\n"
   ],
   "cell_type": "markdown",
   "metadata": {}
  },
  {
   "cell_type": "markdown",
   "metadata": {},
   "source": [
    "\n---\n\n**अस्वीकरण**:  \nहा दस्तऐवज AI भाषांतर सेवा [Co-op Translator](https://github.com/Azure/co-op-translator) चा वापर करून भाषांतरित करण्यात आला आहे. आम्ही अचूकतेसाठी प्रयत्नशील असलो तरी कृपया लक्षात ठेवा की स्वयंचलित भाषांतरे त्रुटी किंवा अचूकतेच्या अभावाने युक्त असू शकतात. मूळ भाषेतील दस्तऐवज हा अधिकृत स्रोत मानला जावा. महत्त्वाच्या माहितीसाठी व्यावसायिक मानवी भाषांतराची शिफारस केली जाते. या भाषांतराचा वापर करून उद्भवलेल्या कोणत्याही गैरसमज किंवा चुकीच्या अर्थासाठी आम्ही जबाबदार राहणार नाही.\n"
   ]
  }
 ],
 "metadata": {
  "kernel_info": {
   "name": "python3"
  },
  "kernelspec": {
   "name": "python37364bit8d3b438fb5fc4430a93ac2cb74d693a7",
   "display_name": "Python 3.7.0 64-bit ('3.7')"
  },
  "language_info": {
   "codemirror_mode": {
    "name": "ipython",
    "version": 3
   },
   "file_extension": ".py",
   "mimetype": "text/x-python",
   "name": "python",
   "nbconvert_exporter": "python",
   "pygments_lexer": "ipython3",
   "version": "3.7.0"
  },
  "nteract": {
   "version": "nteract-front-end@1.0.0"
  },
  "metadata": {
   "interpreter": {
    "hash": "70b38d7a306a849643e446cd70466270a13445e5987dfa1344ef2b127438fa4d"
   }
  },
  "coopTranslator": {
   "original_hash": "5e2bbe594906dce3aaaa736d6dac6683",
   "translation_date": "2025-08-29T19:10:18+00:00",
   "source_file": "7-TimeSeries/1-Introduction/working/notebook.ipynb",
   "language_code": "mr"
  }
 },
 "nbformat": 4,
 "nbformat_minor": 2
}