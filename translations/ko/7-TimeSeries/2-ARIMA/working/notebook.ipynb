{
 "metadata": {
  "language_info": {
   "codemirror_mode": {
    "name": "ipython",
    "version": 3
   },
   "file_extension": ".py",
   "mimetype": "text/x-python",
   "name": "python",
   "nbconvert_exporter": "python",
   "pygments_lexer": "ipython3",
   "version": 3
  },
  "orig_nbformat": 2,
  "coopTranslator": {
   "original_hash": "523ec472196307b3c4235337353c9ceb",
   "translation_date": "2025-09-04T01:49:55+00:00",
   "source_file": "7-TimeSeries/2-ARIMA/working/notebook.ipynb",
   "language_code": "ko"
  }
 },
 "nbformat": 4,
 "nbformat_minor": 2,
 "cells": [
  {
   "source": [
    "# ARIMA를 활용한 시계열 예측\n",
    "\n",
    "이 노트북에서는 다음을 시연합니다:\n",
    "- ARIMA 시계열 예측 모델을 학습하기 위해 시계열 데이터를 준비하는 방법\n",
    "- 간단한 ARIMA 모델을 구현하여 시계열에서 다음 HORIZON 단계(시간 *t+1*부터 *t+HORIZON*까지)를 예측하는 방법\n",
    "- 모델을 평가하는 방법\n",
    "\n",
    "이 예제의 데이터는 GEFCom2014 예측 대회에서 가져왔습니다. 2012년부터 2014년까지 3년간의 시간별 전력 부하와 온도 값으로 구성되어 있습니다. 이 작업의 목표는 전력 부하의 미래 값을 예측하는 것입니다. 이 예제에서는 과거 부하 데이터만을 사용하여 한 시점 앞을 예측하는 방법을 보여줍니다.\n",
    "\n",
    "Tao Hong, Pierre Pinson, Shu Fan, Hamidreza Zareipour, Alberto Troccoli 및 Rob J. Hyndman, \"Probabilistic energy forecasting: Global Energy Forecasting Competition 2014 and beyond\", International Journal of Forecasting, vol.32, no.3, pp 896-913, 2016년 7월-9월.\n"
   ],
   "cell_type": "markdown",
   "metadata": {}
  },
  {
   "cell_type": "code",
   "execution_count": null,
   "metadata": {},
   "outputs": [],
   "source": [
    "pip install statsmodels"
   ]
  },
  {
   "cell_type": "markdown",
   "metadata": {},
   "source": [
    "\n---\n\n**면책 조항**:  \n이 문서는 AI 번역 서비스 [Co-op Translator](https://github.com/Azure/co-op-translator)를 사용하여 번역되었습니다. 정확성을 위해 최선을 다하고 있지만, 자동 번역에는 오류나 부정확성이 포함될 수 있습니다. 원본 문서의 원어 버전을 권위 있는 자료로 간주해야 합니다. 중요한 정보의 경우, 전문적인 인간 번역을 권장합니다. 이 번역 사용으로 인해 발생하는 오해나 잘못된 해석에 대해 책임을 지지 않습니다.\n"
   ]
  }
 ]
}