{
 "metadata": {
  "language_info": {
   "codemirror_mode": {
    "name": "ipython",
    "version": 3
   },
   "file_extension": ".py",
   "mimetype": "text/x-python",
   "name": "python",
   "nbconvert_exporter": "python",
   "pygments_lexer": "ipython3",
   "version": 3
  },
  "orig_nbformat": 2,
  "coopTranslator": {
   "original_hash": "523ec472196307b3c4235337353c9ceb",
   "translation_date": "2025-09-04T01:50:06+00:00",
   "source_file": "7-TimeSeries/2-ARIMA/working/notebook.ipynb",
   "language_code": "de"
  }
 },
 "nbformat": 4,
 "nbformat_minor": 2,
 "cells": [
  {
   "source": [
    "# Zeitreihenprognose mit ARIMA\n",
    "\n",
    "In diesem Notebook zeigen wir, wie man:\n",
    "- Zeitreihendaten für das Training eines ARIMA-Zeitreihenprognosemodells vorbereitet\n",
    "- ein einfaches ARIMA-Modell implementiert, um die nächsten HORIZON-Schritte vorauszusagen (Zeit *t+1* bis *t+HORIZON*) in der Zeitreihe\n",
    "- das Modell bewertet\n",
    "\n",
    "Die Daten in diesem Beispiel stammen aus dem GEFCom2014 Prognosewettbewerb. Sie umfassen 3 Jahre stündliche Werte des Stromverbrauchs und der Temperatur zwischen 2012 und 2014. Die Aufgabe besteht darin, zukünftige Werte des Stromverbrauchs vorherzusagen. In diesem Beispiel zeigen wir, wie man einen Zeitschritt im Voraus prognostiziert, wobei nur historische Verbrauchsdaten verwendet werden.\n",
    "\n",
    "Tao Hong, Pierre Pinson, Shu Fan, Hamidreza Zareipour, Alberto Troccoli und Rob J. Hyndman, \"Probabilistic energy forecasting: Global Energy Forecasting Competition 2014 and beyond\", International Journal of Forecasting, Bd. 32, Nr. 3, S. 896-913, Juli-September, 2016.\n"
   ],
   "cell_type": "markdown",
   "metadata": {}
  },
  {
   "cell_type": "code",
   "execution_count": null,
   "metadata": {},
   "outputs": [],
   "source": [
    "pip install statsmodels"
   ]
  },
  {
   "cell_type": "markdown",
   "metadata": {},
   "source": [
    "\n---\n\n**Haftungsausschluss**:  \nDieses Dokument wurde mit dem KI-Übersetzungsdienst [Co-op Translator](https://github.com/Azure/co-op-translator) übersetzt. Obwohl wir uns um Genauigkeit bemühen, weisen wir darauf hin, dass automatisierte Übersetzungen Fehler oder Ungenauigkeiten enthalten können. Das Originaldokument in seiner ursprünglichen Sprache sollte als maßgebliche Quelle betrachtet werden. Für kritische Informationen wird eine professionelle menschliche Übersetzung empfohlen. Wir übernehmen keine Haftung für Missverständnisse oder Fehlinterpretationen, die aus der Nutzung dieser Übersetzung entstehen.\n"
   ]
  }
 ]
}