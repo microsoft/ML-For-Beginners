{
 "cells": [
  {
   "source": [
    "# הגדרת נתונים\n",
    "\n",
    "במחברת זו, אנו מדגימים כיצד:\n",
    "\n",
    "להגדיר נתוני סדרות זמן עבור מודול זה  \n",
    "ליצור ויזואליזציה של הנתונים  \n",
    "\n",
    "הנתונים בדוגמה זו נלקחו מתחרות התחזיות GEFCom2014. הם כוללים 3 שנים של נתוני עומס חשמלי וטמפרטורה לפי שעה בין השנים 2012 ל-2014.\n",
    "\n",
    "1טאו הונג, פייר פינסון, שו פאן, חמידרזה זרייפור, אלברטו טרוקולי ורוב ג' היינדמן, \"תחזיות אנרגיה הסתברותיות: תחרות התחזיות האנרגטיות העולמית 2014 ומעבר לכך\", כתב העת הבינלאומי לתחזיות, כרך 32, גיליון 3, עמ' 896-913, יולי-ספטמבר, 2016.\n"
   ],
   "cell_type": "markdown",
   "metadata": {}
  },
  {
   "cell_type": "markdown",
   "metadata": {},
   "source": [
    "\n---\n\n**כתב ויתור**:  \nמסמך זה תורגם באמצעות שירות תרגום מבוסס בינה מלאכותית [Co-op Translator](https://github.com/Azure/co-op-translator). בעוד שאנו שואפים לדיוק, יש לקחת בחשבון שתרגומים אוטומטיים עשויים להכיל שגיאות או אי-דיוקים. המסמך המקורי בשפתו המקורית צריך להיחשב כמקור הסמכותי. למידע קריטי, מומלץ להשתמש בתרגום מקצועי על ידי בני אדם. איננו נושאים באחריות לכל אי-הבנה או פרשנות שגויה הנובעת משימוש בתרגום זה.  \n"
   ]
  }
 ],
 "metadata": {
  "kernel_info": {
   "name": "python3"
  },
  "kernelspec": {
   "name": "python37364bit8d3b438fb5fc4430a93ac2cb74d693a7",
   "display_name": "Python 3.7.0 64-bit ('3.7')"
  },
  "language_info": {
   "codemirror_mode": {
    "name": "ipython",
    "version": 3
   },
   "file_extension": ".py",
   "mimetype": "text/x-python",
   "name": "python",
   "nbconvert_exporter": "python",
   "pygments_lexer": "ipython3",
   "version": "3.7.0"
  },
  "nteract": {
   "version": "nteract-front-end@1.0.0"
  },
  "metadata": {
   "interpreter": {
    "hash": "70b38d7a306a849643e446cd70466270a13445e5987dfa1344ef2b127438fa4d"
   }
  },
  "coopTranslator": {
   "original_hash": "5e2bbe594906dce3aaaa736d6dac6683",
   "translation_date": "2025-09-04T07:34:01+00:00",
   "source_file": "7-TimeSeries/1-Introduction/working/notebook.ipynb",
   "language_code": "he"
  }
 },
 "nbformat": 4,
 "nbformat_minor": 2
}