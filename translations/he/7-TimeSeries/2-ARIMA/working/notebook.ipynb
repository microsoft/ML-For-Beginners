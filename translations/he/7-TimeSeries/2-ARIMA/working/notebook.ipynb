{
 "metadata": {
  "language_info": {
   "codemirror_mode": {
    "name": "ipython",
    "version": 3
   },
   "file_extension": ".py",
   "mimetype": "text/x-python",
   "name": "python",
   "nbconvert_exporter": "python",
   "pygments_lexer": "ipython3",
   "version": 3
  },
  "orig_nbformat": 2,
  "coopTranslator": {
   "original_hash": "523ec472196307b3c4235337353c9ceb",
   "translation_date": "2025-09-04T07:31:19+00:00",
   "source_file": "7-TimeSeries/2-ARIMA/working/notebook.ipynb",
   "language_code": "he"
  }
 },
 "nbformat": 4,
 "nbformat_minor": 2,
 "cells": [
  {
   "source": [
    "# תחזית סדרות זמן עם ARIMA\n",
    "\n",
    "במחברת זו, אנו מדגימים כיצד:\n",
    "- להכין נתוני סדרות זמן לאימון מודל תחזית סדרות זמן מסוג ARIMA\n",
    "- ליישם מודל ARIMA פשוט כדי לחזות את HORIZON הצעדים הבאים (זמן *t+1* עד *t+HORIZON*) בסדרת הזמן\n",
    "- להעריך את המודל\n",
    "\n",
    "הנתונים בדוגמה זו נלקחו מתחרות התחזיות GEFCom2014. הם כוללים 3 שנים של נתוני עומס חשמל וטמפרטורה שעתיים בין השנים 2012 ל-2014. המשימה היא לחזות ערכים עתידיים של עומס חשמל. בדוגמה זו, אנו מראים כיצד לחזות צעד זמן אחד קדימה, תוך שימוש בנתוני עומס היסטוריים בלבד.\n",
    "\n",
    "טאו הונג, פייר פינסון, שו פאן, חמידרזה זרייפור, אלברטו טרוקולי ורוב ג'. הינדמן, \"תחזית אנרגיה הסתברותית: תחרות התחזיות העולמית 2014 ומעבר לכך\", כתב העת הבינלאומי לתחזיות, כרך 32, גיליון 3, עמ' 896-913, יולי-ספטמבר, 2016.\n"
   ],
   "cell_type": "markdown",
   "metadata": {}
  },
  {
   "cell_type": "code",
   "execution_count": null,
   "metadata": {},
   "outputs": [],
   "source": [
    "pip install statsmodels"
   ]
  },
  {
   "cell_type": "markdown",
   "metadata": {},
   "source": [
    "\n---\n\n**כתב ויתור**:  \nמסמך זה תורגם באמצעות שירות תרגום מבוסס בינה מלאכותית [Co-op Translator](https://github.com/Azure/co-op-translator). למרות שאנו שואפים לדיוק, יש לקחת בחשבון שתרגומים אוטומטיים עשויים להכיל שגיאות או אי-דיוקים. המסמך המקורי בשפתו המקורית נחשב למקור הסמכותי. למידע קריטי, מומלץ להשתמש בתרגום מקצועי על ידי מתרגם אנושי. איננו נושאים באחריות לכל אי-הבנה או פרשנות שגויה הנובעת משימוש בתרגום זה.\n"
   ]
  }
 ]
}