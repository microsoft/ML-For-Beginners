{
 "metadata": {
  "language_info": {
   "codemirror_mode": {
    "name": "ipython",
    "version": 3
   },
   "file_extension": ".py",
   "mimetype": "text/x-python",
   "name": "python",
   "nbconvert_exporter": "python",
   "pygments_lexer": "ipython3",
   "version": 3
  },
  "orig_nbformat": 2,
  "coopTranslator": {
   "original_hash": "523ec472196307b3c4235337353c9ceb",
   "translation_date": "2025-09-06T14:00:49+00:00",
   "source_file": "7-TimeSeries/2-ARIMA/working/notebook.ipynb",
   "language_code": "tr"
  }
 },
 "nbformat": 4,
 "nbformat_minor": 2,
 "cells": [
  {
   "source": [
    "# ARIMA ile Zaman Serisi Tahmini\n",
    "\n",
    "Bu not defterinde, aşağıdaki adımları nasıl gerçekleştireceğimizi göstereceğiz:\n",
    "- ARIMA zaman serisi tahmin modeli için zaman serisi verilerini eğitime hazırlama\n",
    "- Zaman serisinde bir sonraki HORIZON adımlarını (zaman *t+1*'den *t+HORIZON*'a kadar) tahmin etmek için basit bir ARIMA modeli uygulama\n",
    "- Modeli değerlendirme\n",
    "\n",
    "Bu örnekteki veriler, GEFCom2014 tahmin yarışmasından alınmıştır. 2012 ile 2014 yılları arasında 3 yıllık saatlik elektrik yükü ve sıcaklık değerlerinden oluşmaktadır. Görev, elektrik yükünün gelecekteki değerlerini tahmin etmektir. Bu örnekte, yalnızca geçmiş yük verilerini kullanarak bir zaman adımı ileriye tahmin yapmayı göstereceğiz.\n",
    "\n",
    "Tao Hong, Pierre Pinson, Shu Fan, Hamidreza Zareipour, Alberto Troccoli ve Rob J. Hyndman, \"Probabilistic energy forecasting: Global Energy Forecasting Competition 2014 and beyond\", International Journal of Forecasting, cilt 32, sayı 3, s. 896-913, Temmuz-Eylül, 2016.\n"
   ],
   "cell_type": "markdown",
   "metadata": {}
  },
  {
   "cell_type": "code",
   "execution_count": null,
   "metadata": {},
   "outputs": [],
   "source": [
    "pip install statsmodels"
   ]
  },
  {
   "cell_type": "markdown",
   "metadata": {},
   "source": [
    "\n---\n\n**Feragatname**:  \nBu belge, AI çeviri hizmeti [Co-op Translator](https://github.com/Azure/co-op-translator) kullanılarak çevrilmiştir. Doğruluk için çaba göstersek de, otomatik çevirilerin hata veya yanlışlık içerebileceğini lütfen unutmayın. Belgenin orijinal dili, yetkili kaynak olarak kabul edilmelidir. Kritik bilgiler için profesyonel insan çevirisi önerilir. Bu çevirinin kullanımından kaynaklanan yanlış anlamalar veya yanlış yorumlamalardan sorumlu değiliz.\n"
   ]
  }
 ]
}