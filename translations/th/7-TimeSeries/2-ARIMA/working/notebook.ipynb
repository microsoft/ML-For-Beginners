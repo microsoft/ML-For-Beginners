{
 "metadata": {
  "language_info": {
   "codemirror_mode": {
    "name": "ipython",
    "version": 3
   },
   "file_extension": ".py",
   "mimetype": "text/x-python",
   "name": "python",
   "nbconvert_exporter": "python",
   "pygments_lexer": "ipython3",
   "version": 3
  },
  "orig_nbformat": 2,
  "coopTranslator": {
   "original_hash": "523ec472196307b3c4235337353c9ceb",
   "translation_date": "2025-09-06T14:00:42+00:00",
   "source_file": "7-TimeSeries/2-ARIMA/working/notebook.ipynb",
   "language_code": "th"
  }
 },
 "nbformat": 4,
 "nbformat_minor": 2,
 "cells": [
  {
   "source": [
    "# การพยากรณ์ข้อมูลอนุกรมเวลาด้วย ARIMA\n",
    "\n",
    "ในโน้ตบุ๊กนี้ เราจะแสดงวิธีการ:\n",
    "- เตรียมข้อมูลอนุกรมเวลาเพื่อฝึกโมเดลการพยากรณ์อนุกรมเวลาด้วย ARIMA\n",
    "- สร้างโมเดล ARIMA แบบง่ายเพื่อพยากรณ์ค่าล่วงหน้าในช่วง HORIZON (ตั้งแต่เวลา *t+1* ถึง *t+HORIZON*) ในอนุกรมเวลา\n",
    "- ประเมินผลโมเดล\n",
    "\n",
    "ข้อมูลในตัวอย่างนี้นำมาจากการแข่งขัน GEFCom2014 ด้านการพยากรณ์ \n",
    "\n",
    "ประกอบด้วยข้อมูลโหลดไฟฟ้ารายชั่วโมงและค่าอุณหภูมิเป็นเวลา 3 ปี ระหว่างปี 2012 ถึง 2014 โดยมีเป้าหมายเพื่อพยากรณ์ค่าโหลดไฟฟ้าในอนาคต ในตัวอย่างนี้ เราจะแสดงวิธีพยากรณ์ค่าล่วงหน้าเพียงหนึ่งช่วงเวลา โดยใช้ข้อมูลโหลดในอดีตเท่านั้น\n",
    "\n",
    "Tao Hong, Pierre Pinson, Shu Fan, Hamidreza Zareipour, Alberto Troccoli และ Rob J. Hyndman, \"Probabilistic energy forecasting: Global Energy Forecasting Competition 2014 and beyond\", International Journal of Forecasting, vol.32, no.3, pp 896-913, กรกฎาคม-กันยายน, 2016.\n"
   ],
   "cell_type": "markdown",
   "metadata": {}
  },
  {
   "cell_type": "code",
   "execution_count": null,
   "metadata": {},
   "outputs": [],
   "source": [
    "pip install statsmodels"
   ]
  },
  {
   "cell_type": "markdown",
   "metadata": {},
   "source": [
    "\n---\n\n**ข้อจำกัดความรับผิดชอบ**:  \nเอกสารนี้ได้รับการแปลโดยใช้บริการแปลภาษา AI [Co-op Translator](https://github.com/Azure/co-op-translator) แม้ว่าเราจะพยายามให้การแปลมีความถูกต้อง แต่โปรดทราบว่าการแปลอัตโนมัติอาจมีข้อผิดพลาดหรือความไม่แม่นยำ เอกสารต้นฉบับในภาษาดั้งเดิมควรถือเป็นแหล่งข้อมูลที่เชื่อถือได้ สำหรับข้อมูลที่สำคัญ แนะนำให้ใช้บริการแปลภาษาจากผู้เชี่ยวชาญ เราไม่รับผิดชอบต่อความเข้าใจผิดหรือการตีความที่ผิดพลาดซึ่งเกิดจากการใช้การแปลนี้\n"
   ]
  }
 ]
}