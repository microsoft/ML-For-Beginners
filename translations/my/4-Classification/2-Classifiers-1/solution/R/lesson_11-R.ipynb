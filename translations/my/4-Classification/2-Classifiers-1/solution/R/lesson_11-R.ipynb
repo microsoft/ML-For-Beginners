{
 "nbformat": 4,
 "nbformat_minor": 2,
 "metadata": {
  "colab": {
   "name": "lesson_11-R.ipynb",
   "provenance": [],
   "collapsed_sections": [],
   "toc_visible": true
  },
  "kernelspec": {
   "name": "ir",
   "display_name": "R"
  },
  "language_info": {
   "name": "R"
  },
  "coopTranslator": {
   "original_hash": "6ea6a5171b1b99b7b5a55f7469c048d2",
   "translation_date": "2025-09-06T12:24:33+00:00",
   "source_file": "4-Classification/2-Classifiers-1/solution/R/lesson_11-R.ipynb",
   "language_code": "my"
  }
 },
 "cells": [
  {
   "cell_type": "markdown",
   "source": [],
   "metadata": {
    "id": "zs2woWv_HoE8"
   }
  },
  {
   "cell_type": "markdown",
   "source": [
    "## အစားအစာအမျိုးအစား ခွဲခြားမှု ၁\n",
    "\n",
    "ဒီသင်ခန်းစာမှာ *ပေးထားတဲ့ အစားအစာပစ္စည်းအစုအပေါ် အခြေခံပြီး တစ်ခုခုသော နိုင်ငံ၏ အစားအစာအမျိုးအစားကို ခန့်မှန်းနိုင်ရန်* အမျိုးမျိုးသော ခွဲခြားမှုအမျိုးအစားများကို လေ့လာသွားမှာဖြစ်ပါတယ်။ ဒီလိုလုပ်ရင်းနဲ့ ခွဲခြားမှုလုပ်ငန်းစဉ်များအတွက် အယ်လဂိုရစ်သုံးနိုင်တဲ့ နည်းလမ်းအချို့ကို ပိုမိုနားလည်သွားမှာဖြစ်ပါတယ်။\n",
    "\n",
    "### [**သင်ခန်းစာမတိုင်မီ စမ်းမေးခွန်း**](https://gray-sand-07a10f403.1.azurestaticapps.net/quiz/21/)\n",
    "\n",
    "### **ပြင်ဆင်မှု**\n",
    "\n",
    "ဒီသင်ခန်းစာဟာ [အရင်သင်ခန်းစာ](https://github.com/microsoft/ML-For-Beginners/blob/main/4-Classification/1-Introduction/solution/lesson_10-R.ipynb) ကို အခြေခံထားပြီး ဆက်လက်တည်ဆောက်ထားပါတယ်။ အရင်သင်ခန်းစာမှာ:\n",
    "\n",
    "-   အာရှနဲ့ အိန္ဒိယရဲ့ အစားအစာအမျိုးအစားများကို အသုံးပြုပြီး ခွဲခြားမှုအကြောင်းကို အနည်းငယ် ရှင်းလင်းပြသခဲ့ပါတယ် 😋။\n",
    "\n",
    "-   [dplyr verbs](https://dplyr.tidyverse.org/) ကို အသုံးပြုပြီး ဒေတာကို ပြင်ဆင်ခြင်းနှင့် သန့်စင်ခြင်းကို လေ့လာခဲ့ပါတယ်။\n",
    "\n",
    "-   ggplot2 ကို အသုံးပြုပြီး လှပတဲ့ ရှုထောင့်များ ဖန်တီးခဲ့ပါတယ်။\n",
    "\n",
    "-   [recipes](https://recipes.tidymodels.org/articles/Simple_Example.html) ကို အသုံးပြုပြီး မညီမျှတဲ့ ဒေတာကို ပြင်ဆင်ခြင်းနည်းလမ်းကို ပြသခဲ့ပါတယ်။\n",
    "\n",
    "-   `prep` နဲ့ `bake` ကို အသုံးပြုပြီး သင့်ရဲ့ recipe က အကောင်းအကျိုးဖြစ်စေမယ်လို့ အတည်ပြုခဲ့ပါတယ်။\n",
    "\n",
    "#### **လိုအပ်ချက်**\n",
    "\n",
    "ဒီသင်ခန်းစာအတွက် ဒေတာကို သန့်စင်ခြင်း၊ ပြင်ဆင်ခြင်းနဲ့ ရှုထောင့်ဖန်တီးခြင်းအတွက် အောက်ပါ packages များလိုအပ်ပါမယ်:\n",
    "\n",
    "-   `tidyverse`: [tidyverse](https://www.tidyverse.org/) ဟာ [R packages စုစည်းမှု](https://www.tidyverse.org/packages) တစ်ခုဖြစ်ပြီး ဒေတာသိပ္ပံကို ပိုမိုလွယ်ကူစေပြီး ပျော်ရွှင်စေပါတယ်။\n",
    "\n",
    "-   `tidymodels`: [tidymodels](https://www.tidymodels.org/) framework ဟာ [packages စုစည်းမှု](https://www.tidymodels.org/packages/) တစ်ခုဖြစ်ပြီး မော်ဒယ်ဖန်တီးခြင်းနဲ့ machine learning အတွက် အသုံးပြုပါတယ်။\n",
    "\n",
    "-   `themis`: [themis package](https://themis.tidymodels.org/) ဟာ မညီမျှတဲ့ ဒေတာကို ကိုင်တွယ်နိုင်ဖို့ အပို Recipes လုပ်ငန်းစဉ်များကို ပေးစွမ်းပါတယ်။\n",
    "\n",
    "-   `nnet`: [nnet package](https://cran.r-project.org/web/packages/nnet/nnet.pdf) ဟာ feed-forward neural networks ကို တစ်ခုတည်းသော hidden layer နဲ့ ခန့်မှန်းခြင်း၊ နောက်ပြီး multinomial logistic regression models အတွက် functions များကို ပေးစွမ်းပါတယ်။\n",
    "\n",
    "သင့်ရဲ့ system မှာ အောက်ပါအတိုင်း install လုပ်နိုင်ပါတယ်:\n"
   ],
   "metadata": {
    "id": "iDFOb3ebHwQC"
   }
  },
  {
   "cell_type": "markdown",
   "source": [
    "`install.packages(c(\"tidyverse\", \"tidymodels\", \"DataExplorer\", \"here\"))`\n",
    "\n",
    "အခြားနည်းလမ်းအနေနဲ့ အောက်ပါ script က သင့်မှာ ဒီ module ကို ပြီးမြောက်စွာ လုပ်ဆောင်ရန် လိုအပ်တဲ့ packages ရှိ/မရှိ စစ်ဆေးပြီး မရှိပါက အလိုအလျောက် install လုပ်ပေးပါမည်။\n"
   ],
   "metadata": {
    "id": "4V85BGCjII7F"
   }
  },
  {
   "cell_type": "code",
   "execution_count": 2,
   "source": [
    "suppressWarnings(if (!require(\"pacman\"))install.packages(\"pacman\"))\r\n",
    "\r\n",
    "pacman::p_load(tidyverse, tidymodels, themis, here)"
   ],
   "outputs": [
    {
     "output_type": "stream",
     "name": "stderr",
     "text": [
      "Loading required package: pacman\n",
      "\n"
     ]
    }
   ],
   "metadata": {
    "colab": {
     "base_uri": "https://localhost:8080/"
    },
    "id": "an5NPyyKIKNR",
    "outputId": "834d5e74-f4b8-49f9-8ab5-4c52ff2d7bc8"
   }
  },
  {
   "cell_type": "markdown",
   "source": [
    "## 1. အချက်အလက်များကို လေ့ကျင့်မှုနှင့် စမ်းသပ်မှုအစုအဖွဲ့များအဖြစ် ခွဲခြားပါ။\n",
    "\n",
    "ယခင်သင်ခန်းစာမှ အဆင့်အချို့ကို ရွေးချယ်ပြီး စတင်ပါမည်။\n",
    "\n",
    "### `dplyr::select()` ကို အသုံးပြု၍ မတူကွဲပြားသော အစားအစာများအကြား ရှုပ်ထွေးမှုကို ဖြစ်စေသော အများဆုံး တွေ့ရသော ပါဝင်ပစ္စည်းများကို ဖယ်ရှားပါ။\n",
    "\n",
    "ထမင်း၊ ကြက်သွန်နီ၊ နှင့် ဂျင်းကို လူတိုင်းကြိုက်ပါတယ်!\n"
   ],
   "metadata": {
    "id": "0ax9GQLBINVv"
   }
  },
  {
   "cell_type": "code",
   "execution_count": 3,
   "source": [
    "# Load the original cuisines data\r\n",
    "df <- read_csv(file = \"https://raw.githubusercontent.com/microsoft/ML-For-Beginners/main/4-Classification/data/cuisines.csv\")\r\n",
    "\r\n",
    "# Drop id column, rice, garlic and ginger from our original data set\r\n",
    "df_select <- df %>% \r\n",
    "  select(-c(1, rice, garlic, ginger)) %>%\r\n",
    "  # Encode cuisine column as categorical\r\n",
    "  mutate(cuisine = factor(cuisine))\r\n",
    "\r\n",
    "# Display new data set\r\n",
    "df_select %>% \r\n",
    "  slice_head(n = 5)\r\n",
    "\r\n",
    "# Display distribution of cuisines\r\n",
    "df_select %>% \r\n",
    "  count(cuisine) %>% \r\n",
    "  arrange(desc(n))"
   ],
   "outputs": [
    {
     "output_type": "stream",
     "name": "stderr",
     "text": [
      "New names:\n",
      "* `` -> ...1\n",
      "\n",
      "\u001b[1m\u001b[1mRows: \u001b[1m\u001b[22m\u001b[34m\u001b[34m2448\u001b[34m\u001b[39m \u001b[1m\u001b[1mColumns: \u001b[1m\u001b[22m\u001b[34m\u001b[34m385\u001b[34m\u001b[39m\n",
      "\n",
      "\u001b[36m──\u001b[39m \u001b[1m\u001b[1mColumn specification\u001b[1m\u001b[22m \u001b[36m────────────────────────────────────────────────────────\u001b[39m\n",
      "\u001b[1mDelimiter:\u001b[22m \",\"\n",
      "\u001b[31mchr\u001b[39m   (1): cuisine\n",
      "\u001b[32mdbl\u001b[39m (384): ...1, almond, angelica, anise, anise_seed, apple, apple_brandy, a...\n",
      "\n",
      "\n",
      "\u001b[36mℹ\u001b[39m Use \u001b[30m\u001b[47m\u001b[30m\u001b[47m`spec()`\u001b[47m\u001b[30m\u001b[49m\u001b[39m to retrieve the full column specification for this data.\n",
      "\u001b[36mℹ\u001b[39m Specify the column types or set \u001b[30m\u001b[47m\u001b[30m\u001b[47m`show_col_types = FALSE`\u001b[47m\u001b[30m\u001b[49m\u001b[39m to quiet this message.\n",
      "\n"
     ]
    },
    {
     "output_type": "display_data",
     "data": {
      "text/plain": [
       "  cuisine almond angelica anise anise_seed apple apple_brandy apricot armagnac\n",
       "1 indian  0      0        0     0          0     0            0       0       \n",
       "2 indian  1      0        0     0          0     0            0       0       \n",
       "3 indian  0      0        0     0          0     0            0       0       \n",
       "4 indian  0      0        0     0          0     0            0       0       \n",
       "5 indian  0      0        0     0          0     0            0       0       \n",
       "  artemisia ⋯ whiskey white_bread white_wine whole_grain_wheat_flour wine wood\n",
       "1 0         ⋯ 0       0           0          0                       0    0   \n",
       "2 0         ⋯ 0       0           0          0                       0    0   \n",
       "3 0         ⋯ 0       0           0          0                       0    0   \n",
       "4 0         ⋯ 0       0           0          0                       0    0   \n",
       "5 0         ⋯ 0       0           0          0                       0    0   \n",
       "  yam yeast yogurt zucchini\n",
       "1 0   0     0      0       \n",
       "2 0   0     0      0       \n",
       "3 0   0     0      0       \n",
       "4 0   0     0      0       \n",
       "5 0   0     1      0       "
      ],
      "text/markdown": [
       "\n",
       "A tibble: 5 × 381\n",
       "\n",
       "| cuisine &lt;fct&gt; | almond &lt;dbl&gt; | angelica &lt;dbl&gt; | anise &lt;dbl&gt; | anise_seed &lt;dbl&gt; | apple &lt;dbl&gt; | apple_brandy &lt;dbl&gt; | apricot &lt;dbl&gt; | armagnac &lt;dbl&gt; | artemisia &lt;dbl&gt; | ⋯ ⋯ | whiskey &lt;dbl&gt; | white_bread &lt;dbl&gt; | white_wine &lt;dbl&gt; | whole_grain_wheat_flour &lt;dbl&gt; | wine &lt;dbl&gt; | wood &lt;dbl&gt; | yam &lt;dbl&gt; | yeast &lt;dbl&gt; | yogurt &lt;dbl&gt; | zucchini &lt;dbl&gt; |\n",
       "|---|---|---|---|---|---|---|---|---|---|---|---|---|---|---|---|---|---|---|---|---|\n",
       "| indian | 0 | 0 | 0 | 0 | 0 | 0 | 0 | 0 | 0 | ⋯ | 0 | 0 | 0 | 0 | 0 | 0 | 0 | 0 | 0 | 0 |\n",
       "| indian | 1 | 0 | 0 | 0 | 0 | 0 | 0 | 0 | 0 | ⋯ | 0 | 0 | 0 | 0 | 0 | 0 | 0 | 0 | 0 | 0 |\n",
       "| indian | 0 | 0 | 0 | 0 | 0 | 0 | 0 | 0 | 0 | ⋯ | 0 | 0 | 0 | 0 | 0 | 0 | 0 | 0 | 0 | 0 |\n",
       "| indian | 0 | 0 | 0 | 0 | 0 | 0 | 0 | 0 | 0 | ⋯ | 0 | 0 | 0 | 0 | 0 | 0 | 0 | 0 | 0 | 0 |\n",
       "| indian | 0 | 0 | 0 | 0 | 0 | 0 | 0 | 0 | 0 | ⋯ | 0 | 0 | 0 | 0 | 0 | 0 | 0 | 0 | 1 | 0 |\n",
       "\n"
      ],
      "text/latex": [
       "A tibble: 5 × 381\n",
       "\\begin{tabular}{lllllllllllllllllllll}\n",
       " cuisine & almond & angelica & anise & anise\\_seed & apple & apple\\_brandy & apricot & armagnac & artemisia & ⋯ & whiskey & white\\_bread & white\\_wine & whole\\_grain\\_wheat\\_flour & wine & wood & yam & yeast & yogurt & zucchini\\\\\n",
       " <fct> & <dbl> & <dbl> & <dbl> & <dbl> & <dbl> & <dbl> & <dbl> & <dbl> & <dbl> & ⋯ & <dbl> & <dbl> & <dbl> & <dbl> & <dbl> & <dbl> & <dbl> & <dbl> & <dbl> & <dbl>\\\\\n",
       "\\hline\n",
       "\t indian & 0 & 0 & 0 & 0 & 0 & 0 & 0 & 0 & 0 & ⋯ & 0 & 0 & 0 & 0 & 0 & 0 & 0 & 0 & 0 & 0\\\\\n",
       "\t indian & 1 & 0 & 0 & 0 & 0 & 0 & 0 & 0 & 0 & ⋯ & 0 & 0 & 0 & 0 & 0 & 0 & 0 & 0 & 0 & 0\\\\\n",
       "\t indian & 0 & 0 & 0 & 0 & 0 & 0 & 0 & 0 & 0 & ⋯ & 0 & 0 & 0 & 0 & 0 & 0 & 0 & 0 & 0 & 0\\\\\n",
       "\t indian & 0 & 0 & 0 & 0 & 0 & 0 & 0 & 0 & 0 & ⋯ & 0 & 0 & 0 & 0 & 0 & 0 & 0 & 0 & 0 & 0\\\\\n",
       "\t indian & 0 & 0 & 0 & 0 & 0 & 0 & 0 & 0 & 0 & ⋯ & 0 & 0 & 0 & 0 & 0 & 0 & 0 & 0 & 1 & 0\\\\\n",
       "\\end{tabular}\n"
      ],
      "text/html": [
       "<table class=\"dataframe\">\n",
       "<caption>A tibble: 5 × 381</caption>\n",
       "<thead>\n",
       "\t<tr><th scope=col>cuisine</th><th scope=col>almond</th><th scope=col>angelica</th><th scope=col>anise</th><th scope=col>anise_seed</th><th scope=col>apple</th><th scope=col>apple_brandy</th><th scope=col>apricot</th><th scope=col>armagnac</th><th scope=col>artemisia</th><th scope=col>⋯</th><th scope=col>whiskey</th><th scope=col>white_bread</th><th scope=col>white_wine</th><th scope=col>whole_grain_wheat_flour</th><th scope=col>wine</th><th scope=col>wood</th><th scope=col>yam</th><th scope=col>yeast</th><th scope=col>yogurt</th><th scope=col>zucchini</th></tr>\n",
       "\t<tr><th scope=col>&lt;fct&gt;</th><th scope=col>&lt;dbl&gt;</th><th scope=col>&lt;dbl&gt;</th><th scope=col>&lt;dbl&gt;</th><th scope=col>&lt;dbl&gt;</th><th scope=col>&lt;dbl&gt;</th><th scope=col>&lt;dbl&gt;</th><th scope=col>&lt;dbl&gt;</th><th scope=col>&lt;dbl&gt;</th><th scope=col>&lt;dbl&gt;</th><th scope=col>⋯</th><th scope=col>&lt;dbl&gt;</th><th scope=col>&lt;dbl&gt;</th><th scope=col>&lt;dbl&gt;</th><th scope=col>&lt;dbl&gt;</th><th scope=col>&lt;dbl&gt;</th><th scope=col>&lt;dbl&gt;</th><th scope=col>&lt;dbl&gt;</th><th scope=col>&lt;dbl&gt;</th><th scope=col>&lt;dbl&gt;</th><th scope=col>&lt;dbl&gt;</th></tr>\n",
       "</thead>\n",
       "<tbody>\n",
       "\t<tr><td>indian</td><td>0</td><td>0</td><td>0</td><td>0</td><td>0</td><td>0</td><td>0</td><td>0</td><td>0</td><td>⋯</td><td>0</td><td>0</td><td>0</td><td>0</td><td>0</td><td>0</td><td>0</td><td>0</td><td>0</td><td>0</td></tr>\n",
       "\t<tr><td>indian</td><td>1</td><td>0</td><td>0</td><td>0</td><td>0</td><td>0</td><td>0</td><td>0</td><td>0</td><td>⋯</td><td>0</td><td>0</td><td>0</td><td>0</td><td>0</td><td>0</td><td>0</td><td>0</td><td>0</td><td>0</td></tr>\n",
       "\t<tr><td>indian</td><td>0</td><td>0</td><td>0</td><td>0</td><td>0</td><td>0</td><td>0</td><td>0</td><td>0</td><td>⋯</td><td>0</td><td>0</td><td>0</td><td>0</td><td>0</td><td>0</td><td>0</td><td>0</td><td>0</td><td>0</td></tr>\n",
       "\t<tr><td>indian</td><td>0</td><td>0</td><td>0</td><td>0</td><td>0</td><td>0</td><td>0</td><td>0</td><td>0</td><td>⋯</td><td>0</td><td>0</td><td>0</td><td>0</td><td>0</td><td>0</td><td>0</td><td>0</td><td>0</td><td>0</td></tr>\n",
       "\t<tr><td>indian</td><td>0</td><td>0</td><td>0</td><td>0</td><td>0</td><td>0</td><td>0</td><td>0</td><td>0</td><td>⋯</td><td>0</td><td>0</td><td>0</td><td>0</td><td>0</td><td>0</td><td>0</td><td>0</td><td>1</td><td>0</td></tr>\n",
       "</tbody>\n",
       "</table>\n"
      ]
     },
     "metadata": {}
    },
    {
     "output_type": "display_data",
     "data": {
      "text/plain": [
       "  cuisine  n  \n",
       "1 korean   799\n",
       "2 indian   598\n",
       "3 chinese  442\n",
       "4 japanese 320\n",
       "5 thai     289"
      ],
      "text/markdown": [
       "\n",
       "A tibble: 5 × 2\n",
       "\n",
       "| cuisine &lt;fct&gt; | n &lt;int&gt; |\n",
       "|---|---|\n",
       "| korean   | 799 |\n",
       "| indian   | 598 |\n",
       "| chinese  | 442 |\n",
       "| japanese | 320 |\n",
       "| thai     | 289 |\n",
       "\n"
      ],
      "text/latex": [
       "A tibble: 5 × 2\n",
       "\\begin{tabular}{ll}\n",
       " cuisine & n\\\\\n",
       " <fct> & <int>\\\\\n",
       "\\hline\n",
       "\t korean   & 799\\\\\n",
       "\t indian   & 598\\\\\n",
       "\t chinese  & 442\\\\\n",
       "\t japanese & 320\\\\\n",
       "\t thai     & 289\\\\\n",
       "\\end{tabular}\n"
      ],
      "text/html": [
       "<table class=\"dataframe\">\n",
       "<caption>A tibble: 5 × 2</caption>\n",
       "<thead>\n",
       "\t<tr><th scope=col>cuisine</th><th scope=col>n</th></tr>\n",
       "\t<tr><th scope=col>&lt;fct&gt;</th><th scope=col>&lt;int&gt;</th></tr>\n",
       "</thead>\n",
       "<tbody>\n",
       "\t<tr><td>korean  </td><td>799</td></tr>\n",
       "\t<tr><td>indian  </td><td>598</td></tr>\n",
       "\t<tr><td>chinese </td><td>442</td></tr>\n",
       "\t<tr><td>japanese</td><td>320</td></tr>\n",
       "\t<tr><td>thai    </td><td>289</td></tr>\n",
       "</tbody>\n",
       "</table>\n"
      ]
     },
     "metadata": {}
    }
   ],
   "metadata": {
    "colab": {
     "base_uri": "https://localhost:8080/",
     "height": 735
    },
    "id": "jhCrrH22IWVR",
    "outputId": "d444a85c-1d8b-485f-bc4f-8be2e8f8217c"
   }
  },
  {
   "cell_type": "markdown",
   "source": [
    "အရမ်းကောင်းပါတယ်! အခုတော့ ဒေတာကို ၇၀% သင်ကြားမှုအတွက် သုံးပြီး ၃၀% ကို စမ်းသပ်မှုအတွက် သုံးဖို့ ခွဲလိုက်ရအောင်။ ဒေတာကို ခွဲခြားတဲ့အခါမှာ `stratification` နည်းလမ်းကို အသုံးပြုပြီး `အစားအစာအမျိုးအစားတစ်ခုချင်းစီရဲ့ အချိုးအစားကို` သင်ကြားမှုနှင့် စမ်းသပ်မှု ဒေတာအတွင်းမှာ ထိန်းသိမ်းထားနိုင်အောင် လုပ်ဆောင်ပါမယ်။\n",
    "\n",
    "[rsample](https://rsample.tidymodels.org/) ဟာ Tidymodels မှာ ပါဝင်တဲ့ package တစ်ခုဖြစ်ပြီး ဒေတာကို ထိရောက်စွာ ခွဲခြားခြင်းနှင့် ပြန်လည်စမ်းသပ်ခြင်းအတွက် အခြေခံအဆောက်အအုံကို ပံ့ပိုးပေးပါတယ်:\n"
   ],
   "metadata": {
    "id": "AYTjVyajIdny"
   }
  },
  {
   "cell_type": "code",
   "execution_count": 4,
   "source": [
    "# Load the core Tidymodels packages into R session\r\n",
    "library(tidymodels)\r\n",
    "\r\n",
    "# Create split specification\r\n",
    "set.seed(2056)\r\n",
    "cuisines_split <- initial_split(data = df_select,\r\n",
    "                                strata = cuisine,\r\n",
    "                                prop = 0.7)\r\n",
    "\r\n",
    "# Extract the data in each split\r\n",
    "cuisines_train <- training(cuisines_split)\r\n",
    "cuisines_test <- testing(cuisines_split)\r\n",
    "\r\n",
    "# Print the number of cases in each split\r\n",
    "cat(\"Training cases: \", nrow(cuisines_train), \"\\n\",\r\n",
    "    \"Test cases: \", nrow(cuisines_test), sep = \"\")\r\n",
    "\r\n",
    "# Display the first few rows of the training set\r\n",
    "cuisines_train %>% \r\n",
    "  slice_head(n = 5)\r\n",
    "\r\n",
    "\r\n",
    "# Display distribution of cuisines in the training set\r\n",
    "cuisines_train %>% \r\n",
    "  count(cuisine) %>% \r\n",
    "  arrange(desc(n))"
   ],
   "outputs": [
    {
     "output_type": "stream",
     "name": "stdout",
     "text": [
      "Training cases: 1712\n",
      "Test cases: 736"
     ]
    },
    {
     "output_type": "display_data",
     "data": {
      "text/plain": [
       "  cuisine almond angelica anise anise_seed apple apple_brandy apricot armagnac\n",
       "1 chinese 0      0        0     0          0     0            0       0       \n",
       "2 chinese 0      0        0     0          0     0            0       0       \n",
       "3 chinese 0      0        0     0          0     0            0       0       \n",
       "4 chinese 0      0        0     0          0     0            0       0       \n",
       "5 chinese 0      0        0     0          0     0            0       0       \n",
       "  artemisia ⋯ whiskey white_bread white_wine whole_grain_wheat_flour wine wood\n",
       "1 0         ⋯ 0       0           0          0                       1    0   \n",
       "2 0         ⋯ 0       0           0          0                       1    0   \n",
       "3 0         ⋯ 0       0           0          0                       0    0   \n",
       "4 0         ⋯ 0       0           0          0                       0    0   \n",
       "5 0         ⋯ 0       0           0          0                       0    0   \n",
       "  yam yeast yogurt zucchini\n",
       "1 0   0     0      0       \n",
       "2 0   0     0      0       \n",
       "3 0   0     0      0       \n",
       "4 0   0     0      0       \n",
       "5 0   0     0      0       "
      ],
      "text/markdown": [
       "\n",
       "A tibble: 5 × 381\n",
       "\n",
       "| cuisine &lt;fct&gt; | almond &lt;dbl&gt; | angelica &lt;dbl&gt; | anise &lt;dbl&gt; | anise_seed &lt;dbl&gt; | apple &lt;dbl&gt; | apple_brandy &lt;dbl&gt; | apricot &lt;dbl&gt; | armagnac &lt;dbl&gt; | artemisia &lt;dbl&gt; | ⋯ ⋯ | whiskey &lt;dbl&gt; | white_bread &lt;dbl&gt; | white_wine &lt;dbl&gt; | whole_grain_wheat_flour &lt;dbl&gt; | wine &lt;dbl&gt; | wood &lt;dbl&gt; | yam &lt;dbl&gt; | yeast &lt;dbl&gt; | yogurt &lt;dbl&gt; | zucchini &lt;dbl&gt; |\n",
       "|---|---|---|---|---|---|---|---|---|---|---|---|---|---|---|---|---|---|---|---|---|\n",
       "| chinese | 0 | 0 | 0 | 0 | 0 | 0 | 0 | 0 | 0 | ⋯ | 0 | 0 | 0 | 0 | 1 | 0 | 0 | 0 | 0 | 0 |\n",
       "| chinese | 0 | 0 | 0 | 0 | 0 | 0 | 0 | 0 | 0 | ⋯ | 0 | 0 | 0 | 0 | 1 | 0 | 0 | 0 | 0 | 0 |\n",
       "| chinese | 0 | 0 | 0 | 0 | 0 | 0 | 0 | 0 | 0 | ⋯ | 0 | 0 | 0 | 0 | 0 | 0 | 0 | 0 | 0 | 0 |\n",
       "| chinese | 0 | 0 | 0 | 0 | 0 | 0 | 0 | 0 | 0 | ⋯ | 0 | 0 | 0 | 0 | 0 | 0 | 0 | 0 | 0 | 0 |\n",
       "| chinese | 0 | 0 | 0 | 0 | 0 | 0 | 0 | 0 | 0 | ⋯ | 0 | 0 | 0 | 0 | 0 | 0 | 0 | 0 | 0 | 0 |\n",
       "\n"
      ],
      "text/latex": [
       "A tibble: 5 × 381\n",
       "\\begin{tabular}{lllllllllllllllllllll}\n",
       " cuisine & almond & angelica & anise & anise\\_seed & apple & apple\\_brandy & apricot & armagnac & artemisia & ⋯ & whiskey & white\\_bread & white\\_wine & whole\\_grain\\_wheat\\_flour & wine & wood & yam & yeast & yogurt & zucchini\\\\\n",
       " <fct> & <dbl> & <dbl> & <dbl> & <dbl> & <dbl> & <dbl> & <dbl> & <dbl> & <dbl> & ⋯ & <dbl> & <dbl> & <dbl> & <dbl> & <dbl> & <dbl> & <dbl> & <dbl> & <dbl> & <dbl>\\\\\n",
       "\\hline\n",
       "\t chinese & 0 & 0 & 0 & 0 & 0 & 0 & 0 & 0 & 0 & ⋯ & 0 & 0 & 0 & 0 & 1 & 0 & 0 & 0 & 0 & 0\\\\\n",
       "\t chinese & 0 & 0 & 0 & 0 & 0 & 0 & 0 & 0 & 0 & ⋯ & 0 & 0 & 0 & 0 & 1 & 0 & 0 & 0 & 0 & 0\\\\\n",
       "\t chinese & 0 & 0 & 0 & 0 & 0 & 0 & 0 & 0 & 0 & ⋯ & 0 & 0 & 0 & 0 & 0 & 0 & 0 & 0 & 0 & 0\\\\\n",
       "\t chinese & 0 & 0 & 0 & 0 & 0 & 0 & 0 & 0 & 0 & ⋯ & 0 & 0 & 0 & 0 & 0 & 0 & 0 & 0 & 0 & 0\\\\\n",
       "\t chinese & 0 & 0 & 0 & 0 & 0 & 0 & 0 & 0 & 0 & ⋯ & 0 & 0 & 0 & 0 & 0 & 0 & 0 & 0 & 0 & 0\\\\\n",
       "\\end{tabular}\n"
      ],
      "text/html": [
       "<table class=\"dataframe\">\n",
       "<caption>A tibble: 5 × 381</caption>\n",
       "<thead>\n",
       "\t<tr><th scope=col>cuisine</th><th scope=col>almond</th><th scope=col>angelica</th><th scope=col>anise</th><th scope=col>anise_seed</th><th scope=col>apple</th><th scope=col>apple_brandy</th><th scope=col>apricot</th><th scope=col>armagnac</th><th scope=col>artemisia</th><th scope=col>⋯</th><th scope=col>whiskey</th><th scope=col>white_bread</th><th scope=col>white_wine</th><th scope=col>whole_grain_wheat_flour</th><th scope=col>wine</th><th scope=col>wood</th><th scope=col>yam</th><th scope=col>yeast</th><th scope=col>yogurt</th><th scope=col>zucchini</th></tr>\n",
       "\t<tr><th scope=col>&lt;fct&gt;</th><th scope=col>&lt;dbl&gt;</th><th scope=col>&lt;dbl&gt;</th><th scope=col>&lt;dbl&gt;</th><th scope=col>&lt;dbl&gt;</th><th scope=col>&lt;dbl&gt;</th><th scope=col>&lt;dbl&gt;</th><th scope=col>&lt;dbl&gt;</th><th scope=col>&lt;dbl&gt;</th><th scope=col>&lt;dbl&gt;</th><th scope=col>⋯</th><th scope=col>&lt;dbl&gt;</th><th scope=col>&lt;dbl&gt;</th><th scope=col>&lt;dbl&gt;</th><th scope=col>&lt;dbl&gt;</th><th scope=col>&lt;dbl&gt;</th><th scope=col>&lt;dbl&gt;</th><th scope=col>&lt;dbl&gt;</th><th scope=col>&lt;dbl&gt;</th><th scope=col>&lt;dbl&gt;</th><th scope=col>&lt;dbl&gt;</th></tr>\n",
       "</thead>\n",
       "<tbody>\n",
       "\t<tr><td>chinese</td><td>0</td><td>0</td><td>0</td><td>0</td><td>0</td><td>0</td><td>0</td><td>0</td><td>0</td><td>⋯</td><td>0</td><td>0</td><td>0</td><td>0</td><td>1</td><td>0</td><td>0</td><td>0</td><td>0</td><td>0</td></tr>\n",
       "\t<tr><td>chinese</td><td>0</td><td>0</td><td>0</td><td>0</td><td>0</td><td>0</td><td>0</td><td>0</td><td>0</td><td>⋯</td><td>0</td><td>0</td><td>0</td><td>0</td><td>1</td><td>0</td><td>0</td><td>0</td><td>0</td><td>0</td></tr>\n",
       "\t<tr><td>chinese</td><td>0</td><td>0</td><td>0</td><td>0</td><td>0</td><td>0</td><td>0</td><td>0</td><td>0</td><td>⋯</td><td>0</td><td>0</td><td>0</td><td>0</td><td>0</td><td>0</td><td>0</td><td>0</td><td>0</td><td>0</td></tr>\n",
       "\t<tr><td>chinese</td><td>0</td><td>0</td><td>0</td><td>0</td><td>0</td><td>0</td><td>0</td><td>0</td><td>0</td><td>⋯</td><td>0</td><td>0</td><td>0</td><td>0</td><td>0</td><td>0</td><td>0</td><td>0</td><td>0</td><td>0</td></tr>\n",
       "\t<tr><td>chinese</td><td>0</td><td>0</td><td>0</td><td>0</td><td>0</td><td>0</td><td>0</td><td>0</td><td>0</td><td>⋯</td><td>0</td><td>0</td><td>0</td><td>0</td><td>0</td><td>0</td><td>0</td><td>0</td><td>0</td><td>0</td></tr>\n",
       "</tbody>\n",
       "</table>\n"
      ]
     },
     "metadata": {}
    },
    {
     "output_type": "display_data",
     "data": {
      "text/plain": [
       "  cuisine  n  \n",
       "1 korean   559\n",
       "2 indian   418\n",
       "3 chinese  309\n",
       "4 japanese 224\n",
       "5 thai     202"
      ],
      "text/markdown": [
       "\n",
       "A tibble: 5 × 2\n",
       "\n",
       "| cuisine &lt;fct&gt; | n &lt;int&gt; |\n",
       "|---|---|\n",
       "| korean   | 559 |\n",
       "| indian   | 418 |\n",
       "| chinese  | 309 |\n",
       "| japanese | 224 |\n",
       "| thai     | 202 |\n",
       "\n"
      ],
      "text/latex": [
       "A tibble: 5 × 2\n",
       "\\begin{tabular}{ll}\n",
       " cuisine & n\\\\\n",
       " <fct> & <int>\\\\\n",
       "\\hline\n",
       "\t korean   & 559\\\\\n",
       "\t indian   & 418\\\\\n",
       "\t chinese  & 309\\\\\n",
       "\t japanese & 224\\\\\n",
       "\t thai     & 202\\\\\n",
       "\\end{tabular}\n"
      ],
      "text/html": [
       "<table class=\"dataframe\">\n",
       "<caption>A tibble: 5 × 2</caption>\n",
       "<thead>\n",
       "\t<tr><th scope=col>cuisine</th><th scope=col>n</th></tr>\n",
       "\t<tr><th scope=col>&lt;fct&gt;</th><th scope=col>&lt;int&gt;</th></tr>\n",
       "</thead>\n",
       "<tbody>\n",
       "\t<tr><td>korean  </td><td>559</td></tr>\n",
       "\t<tr><td>indian  </td><td>418</td></tr>\n",
       "\t<tr><td>chinese </td><td>309</td></tr>\n",
       "\t<tr><td>japanese</td><td>224</td></tr>\n",
       "\t<tr><td>thai    </td><td>202</td></tr>\n",
       "</tbody>\n",
       "</table>\n"
      ]
     },
     "metadata": {}
    }
   ],
   "metadata": {
    "colab": {
     "base_uri": "https://localhost:8080/",
     "height": 535
    },
    "id": "w5FWIkEiIjdN",
    "outputId": "2e195fd9-1a8f-4b91-9573-cce5582242df"
   }
  },
  {
   "cell_type": "markdown",
   "source": [
    "## 2. မတူညီတဲ့ ဒေတာကို ကိုင်တွယ်ခြင်း\n",
    "\n",
    "မူရင်းဒေတာစုပေါင်းနှင့် ကျွန်ုပ်တို့၏ လေ့ကျင့်မှုဒေတာစုပေါင်းတွင် သတိထားမိနိုင်သလို၊ အစားအစာအမျိုးအစားအရေအတွက်တွင် မတူညီမှုများရှိနေသည်။ ကိုရီးယားအစားအစာများသည် ထိုင်းအစားအစာများထက် *အနည်းဆုံး* ၃ ဆလောက်များနေသည်။ မတူညီတဲ့ ဒေတာများသည် မော်ဒယ်၏ စွမ်းဆောင်ရည်အပေါ် အနုတ်လက္ခဏာများ ရှိတတ်သည်။ မော်ဒယ်များအများစုသည် အချက်အလက်အရေအတွက်များ တန်းတူရှိသောအခါ အကောင်းဆုံးလုပ်ဆောင်နိုင်ပြီး၊ မတူညီသော ဒေတာများတွင် အခက်အခဲများ ရှိတတ်သည်။\n",
    "\n",
    "မတူညီတဲ့ ဒေတာစုပေါင်းများကို ကိုင်တွယ်ရန် နည်းလမ်းများမှာ အဓိကအားဖြင့် နှစ်မျိုးရှိသည်-\n",
    "\n",
    "-   အနည်းဆုံးအမျိုးအစားတွင် အချက်အလက်များ ထည့်သွင်းခြင်း: `Over-sampling` ဥပမာ SMOTE algorithm ကို အသုံးပြုခြင်းဖြင့် အနည်းဆုံးအမျိုးအစား၏ အနီးအနားရှိ အချက်အလက်များကို အသုံးပြု၍ အသစ်သော ဥပမာများကို စက်မှုတုတိစဉ်ဖြင့် ဖန်တီးခြင်း။\n",
    "\n",
    "-   အများဆုံးအမျိုးအစားမှ အချက်အလက်များ ဖယ်ရှားခြင်း: `Under-sampling`\n",
    "\n",
    "ယခင်သင်ခန်းစာတွင် မတူညီတဲ့ ဒေတာစုပေါင်းများကို `recipe` အသုံးပြု၍ ကိုင်တွယ်နည်းကို ပြသခဲ့သည်။ `recipe` ဆိုသည်မှာ ဒေတာစုပေါင်းကို ဒေတာခွဲခြမ်းစိတ်ဖြာလုပ်ဆောင်ရန် အသင့်ဖြစ်စေရန် ဘယ်လိုအဆင့်များကို အကောင်အထည်ဖော်ရမည်ကို ဖော်ပြထားသော အခြေခံအစီအစဉ်တစ်ခုအဖြစ် တွေးဆနိုင်သည်။ ကျွန်ုပ်တို့၏ `training set` အတွက် အစားအစာအမျိုးအစားအရေအတွက်များ တန်းတူရှိစေရန် ကျွန်ုပ်တို့လိုချင်သည်။ အခုမှစလိုက်ကြစို့။\n"
   ],
   "metadata": {
    "id": "daBi9qJNIwqW"
   }
  },
  {
   "cell_type": "code",
   "execution_count": 5,
   "source": [
    "# Load themis package for dealing with imbalanced data\r\n",
    "library(themis)\r\n",
    "\r\n",
    "# Create a recipe for preprocessing training data\r\n",
    "cuisines_recipe <- recipe(cuisine ~ ., data = cuisines_train) %>% \r\n",
    "  step_smote(cuisine)\r\n",
    "\r\n",
    "# Print recipe\r\n",
    "cuisines_recipe"
   ],
   "outputs": [
    {
     "output_type": "display_data",
     "data": {
      "text/plain": [
       "Data Recipe\n",
       "\n",
       "Inputs:\n",
       "\n",
       "      role #variables\n",
       "   outcome          1\n",
       " predictor        380\n",
       "\n",
       "Operations:\n",
       "\n",
       "SMOTE based on cuisine"
      ]
     },
     "metadata": {}
    }
   ],
   "metadata": {
    "colab": {
     "base_uri": "https://localhost:8080/",
     "height": 200
    },
    "id": "Az6LFBGxI1X0",
    "outputId": "29d71d85-64b0-4e62-871e-bcd5398573b6"
   }
  },
  {
   "cell_type": "markdown",
   "source": [
    "သင်အတိအကျ မျှော်မှန်းထားသလို အစားအစာအမျိုးအစားများ `559` အချက်အလက်များပါရှိသည်ဟု အတည်ပြုနိုင်ပါသည် - prep နှင့် bake ကိုအသုံးပြု၍ အစားအစာလုပ်ငန်းစဉ်ကို စမ်းသပ်နိုင်ပါသည်။\n",
    "\n",
    "အဆိုပါ recipe ကို မော်ဒယ်တည်ဆောက်ရန်အတွက် preprocessor အဖြစ်အသုံးပြုမည်ဖြစ်သောကြောင့် `workflow()` သည် prep နှင့် bake အားလုံးကို အလိုအလျောက်လုပ်ဆောင်ပေးမည်ဖြစ်ပြီး recipe ကို ကိုယ်တိုင် ခန့်မှန်းရန် မလိုအပ်တော့ပါ။\n",
    "\n",
    "အခုတော့ မော်ဒယ်ကို လေ့ကျင့်ရန် အဆင်သင့်ဖြစ်ပါပြီ 👩‍💻👨‍💻!\n",
    "\n",
    "## 3. သင့် classifier ကို ရွေးချယ်ခြင်း\n",
    "\n",
    "<p >\n",
    "   <img src=\"../../images/parsnip.jpg\"\n",
    "   width=\"600\"/>\n",
    "   <figcaption>@allison_horst မှ ဖန်တီးထားသော အနုပညာ</figcaption>\n"
   ],
   "metadata": {
    "id": "NBL3PqIWJBBB"
   }
  },
  {
   "cell_type": "markdown",
   "source": [
    "အခုတော့ အလုပ်အတွက် ဘယ် algorithm ကို သုံးရမလဲဆိုတာ ဆုံးဖြတ်ရမယ် 🤔။\n",
    "\n",
    "Tidymodels မှာ [`parsnip package`](https://parsnip.tidymodels.org/index.html) က မတူညီတဲ့ engine (packages) တွေမှာ model တွေကို အဆင်ပြေပြေ အသုံးပြုနိုင်ဖို့ တစ်ခုတည်းသော interface ကို ပေးထားပါတယ်။ [model types & engines](https://www.tidymodels.org/find/parsnip/#models) နဲ့ [model arguments](https://www.tidymodels.org/find/parsnip/#model-args) တွေကို ရှာဖွေဖို့ parsnip documentation ကို ကြည့်ပါ။ အစမှာတော့ အမျိုးအစားတွေက အတော်လေး စိတ်ရှုပ်စရာကောင်းပါတယ်။ ဥပမာအားဖြင့် အောက်ပါနည်းလမ်းတွေဟာ classification နည်းပညာတွေကို ပါဝင်ထားပါတယ်။\n",
    "\n",
    "-   C5.0 Rule-Based Classification Models\n",
    "\n",
    "-   Flexible Discriminant Models\n",
    "\n",
    "-   Linear Discriminant Models\n",
    "\n",
    "-   Regularized Discriminant Models\n",
    "\n",
    "-   Logistic Regression Models\n",
    "\n",
    "-   Multinomial Regression Models\n",
    "\n",
    "-   Naive Bayes Models\n",
    "\n",
    "-   Support Vector Machines\n",
    "\n",
    "-   Nearest Neighbors\n",
    "\n",
    "-   Decision Trees\n",
    "\n",
    "-   Ensemble methods\n",
    "\n",
    "-   Neural Networks\n",
    "\n",
    "ဒီစာရင်းက ဆက်လက်တိုးတက်နေပါတယ်!\n",
    "\n",
    "### **ဘယ် classifier ကို သုံးမလဲ?**\n",
    "\n",
    "ဒါဆို ဘယ် classifier ကို ရွေးချယ်သင့်လဲ? အများအားဖြင့် အမျိုးမျိုးကို စမ်းသပ်ပြီး ရလဒ်ကောင်းတစ်ခုကို ရှာဖွေဖို့ နည်းလမ်းတစ်ခုဖြစ်ပါတယ်။\n",
    "\n",
    "> AutoML က ဒီပြဿနာကို cloud မှာ ဒီ comparison တွေကို အလိုအလျောက် လုပ်ဆောင်ပေးပြီး သင့် data အတွက် အကောင်းဆုံး algorithm ကို ရွေးချယ်နိုင်အောင် အဆင်ပြေစေပါတယ်။ [ဒီမှာ](https://docs.microsoft.com/learn/modules/automate-model-selection-with-azure-automl/?WT.mc_id=academic-77952-leestott) စမ်းကြည့်ပါ။\n",
    "\n",
    "အဲဒီ classifier ရွေးချယ်မှုက သင့်ပြဿနာပေါ်မူတည်ပါတယ်။ ဥပမာအားဖြင့် ရလဒ်ကို `နှစ်ခုထက်ပိုသော အတန်းအစားများ` အဖြစ် ခွဲခြားနိုင်ရမယ်ဆိုရင် `multiclass classification algorithm` ကို သုံးရမယ်၊ `binary classification` ကို မသုံးရပါဘူး။\n",
    "\n",
    "### **ပိုမိုကောင်းမွန်တဲ့ နည်းလမ်း**\n",
    "\n",
    "အကြမ်းမသိအောင် လုပ်ဆောင်တာထက် ပိုမိုကောင်းမွန်တဲ့ နည်းလမ်းကတော့ ဒီ [ML Cheat sheet](https://docs.microsoft.com/azure/machine-learning/algorithm-cheat-sheet?WT.mc_id=academic-77952-leestott) ကို download လုပ်ပြီး အဲဒီမှာ idea တွေကို လိုက်နာဖို့ ဖြစ်ပါတယ်။ ဒီမှာတော့ ကျွန်တော်တို့ multiclass ပြဿနာအတွက် ရွေးချယ်စရာတွေ ရှိတယ်ဆိုတာ တွေ့ရပါတယ်။\n",
    "\n",
    "<p >\n",
    "   <img src=\"../../images/cheatsheet.png\"\n",
    "   width=\"500\"/>\n",
    "   <figcaption>Microsoft ရဲ့ Algorithm Cheat Sheet မှ Multiclass Classification ရွေးချယ်မှုများကို ဖော်ပြထားသော အပိုင်း</figcaption>\n"
   ],
   "metadata": {
    "id": "a6DLAZ3vJZ14"
   }
  },
  {
   "cell_type": "markdown",
   "source": [
    "### **အကြောင်းအရင်း**\n",
    "\n",
    "အခြေအနေများအရ အမျိုးမျိုးသောနည်းလမ်းများကို စဉ်းစားကြည့်ရအောင်—\n",
    "\n",
    "-   **Deep Neural networks များသည် များလွန်းသည်**။ ကျွန်ုပ်တို့တွင် ရှင်းလင်းသော်လည်း အနည်းငယ်သာရှိသော dataset ရှိပြီး training ကို notebooks တွင် locally ပြုလုပ်နေသောကြောင့် deep neural networks များသည် အလုပ်များလွန်းသည်။\n",
    "\n",
    "-   **Two-class classifier မရှိပါ**။ ကျွန်ုပ်တို့သည် two-class classifier မသုံးသဖြင့် one-vs-all ကိုလည်း မသုံးနိုင်ပါ။\n",
    "\n",
    "-   **Decision tree သို့မဟုတ် logistic regression သုံးနိုင်သည်**။ Decision tree သို့မဟုတ် multinomial regression/multiclass logistic regression သည် multiclass data အတွက် အသုံးဝင်နိုင်သည်။\n",
    "\n",
    "-   **Multiclass Boosted Decision Trees သည် အခြားအရာကို ဖြေရှင်းသည်**။ Multiclass boosted decision tree သည် nonparametric tasks များအတွက် အထူးသင့်လျော်ပြီး ဥပမာ ranking များတည်ဆောက်ရန်အတွက် အသုံးပြုသည်။ ထို့ကြောင့် ကျွန်ုပ်တို့အတွက် အသုံးမဝင်ပါ။\n",
    "\n",
    "အခြားသော complex machine learning models (ဥပမာ ensemble methods) မစတင်မီ အလွယ်ဆုံးသော model တစ်ခုကို တည်ဆောက်ကာ အခြေအနေကို နားလည်ရန် ကြိုးစားသင့်သည်။ ထို့ကြောင့် ဒီသင်ခန်းစာအတွက် ကျွန်ုပ်တို့သည် `multinomial regression` model ကို စတင်အသုံးပြုမည်ဖြစ်သည်။\n",
    "\n",
    "> Logistic regression သည် outcome variable သည် categorical (သို့မဟုတ် nominal) ဖြစ်သောအခါ အသုံးပြုသောနည်းလမ်းတစ်ခုဖြစ်သည်။ Binary logistic regression အတွက် outcome variables အရေအတွက်မှာ နှစ်ခုဖြစ်ပြီး multinomial logistic regression အတွက် outcome variables အရေအတွက်မှာ နှစ်ခုထက်ပိုများသည်။ [Advanced Regression Methods](https://bookdown.org/chua/ber642_advanced_regression/multinomial-logistic-regression.html) တွင် ပိုမိုသိရှိရန် ဖတ်ရှုနိုင်ပါသည်။\n",
    "\n",
    "## 4. Multinomial logistic regression model တစ်ခုကို training ပြုလုပ်ပြီး အကဲဖြတ်ပါ။\n",
    "\n",
    "Tidymodels တွင် `parsnip::multinom_reg()` သည် linear predictors များကို အသုံးပြုကာ multinomial distribution ကို အသုံးပြု၍ multiclass data ကို ခန့်မှန်းရန် model တစ်ခုကို သတ်မှတ်သည်။ ဒီ model ကို fit ပြုလုပ်ရန် အသုံးပြုနိုင်သော နည်းလမ်းများ/engines များကို `?multinom_reg()` တွင် ကြည့်ရှုနိုင်ပါသည်။\n",
    "\n",
    "ဒီဥပမာအတွက် ကျွန်ုပ်တို့သည် default [nnet](https://cran.r-project.org/web/packages/nnet/nnet.pdf) engine ကို အသုံးပြုကာ Multinomial regression model တစ်ခုကို fit ပြုလုပ်မည်ဖြစ်သည်။\n",
    "\n",
    "> ကျွန်ုပ်သည် `penalty` အတွက် တန်ဖိုးတစ်ခုကို အလွတ်ရွေးချယ်ခဲ့သည်။ ဒီတန်ဖိုးကို ရွေးချယ်ရန် ပိုမိုကောင်းသောနည်းလမ်းများရှိသည်။ ဥပမာ `resampling` နှင့် `tuning` ကို အသုံးပြုကာ model ကို ပြုပြင်ခြင်းဖြင့်။ ဒီအကြောင်းကို နောက်ပိုင်းတွင် ဆွေးနွေးမည်ဖြစ်သည်။\n",
    ">\n",
    "> Model hyperparameters များကို tune ပြုလုပ်နည်းကို ပိုမိုလေ့လာလိုပါက [Tidymodels: Get Started](https://www.tidymodels.org/start/tuning/) ကို ကြည့်ရှုနိုင်ပါသည်။\n"
   ],
   "metadata": {
    "id": "gWMsVcbBJemu"
   }
  },
  {
   "cell_type": "code",
   "execution_count": 6,
   "source": [
    "# Create a multinomial regression model specification\r\n",
    "mr_spec <- multinom_reg(penalty = 1) %>% \r\n",
    "  set_engine(\"nnet\", MaxNWts = 2086) %>% \r\n",
    "  set_mode(\"classification\")\r\n",
    "\r\n",
    "# Print model specification\r\n",
    "mr_spec"
   ],
   "outputs": [
    {
     "output_type": "display_data",
     "data": {
      "text/plain": [
       "Multinomial Regression Model Specification (classification)\n",
       "\n",
       "Main Arguments:\n",
       "  penalty = 1\n",
       "\n",
       "Engine-Specific Arguments:\n",
       "  MaxNWts = 2086\n",
       "\n",
       "Computational engine: nnet \n"
      ]
     },
     "metadata": {}
    }
   ],
   "metadata": {
    "colab": {
     "base_uri": "https://localhost:8080/",
     "height": 166
    },
    "id": "Wq_fcyQiJvfG",
    "outputId": "c30449c7-3864-4be7-f810-72a003743e2d"
   }
  },
  {
   "cell_type": "markdown",
   "source": [
    "အရမ်းကောင်းပါတယ် 🥳! အခုတော့ ကျွန်တော်တို့မှာ အစားအစာချက်နည်းနဲ့ မော်ဒယ်အကြောင်းအရာ ရှိပြီးသားဖြစ်တဲ့အတွက်၊ ဒေတာကို အရင်ဆုံး ကြိုတင်လုပ်ဆောင်ပြီးနောက် မော်ဒယ်ကို ကြိုတင်လုပ်ဆောင်ထားတဲ့ ဒေတာပေါ်မှာ ထည့်သွင်းနိုင်မယ့်အရာတစ်ခုကို ရှာဖွေရမယ်။ ထို့အပြင် နောက်ဆက်တွဲလုပ်ဆောင်မှုများကိုလည်း လုပ်ဆောင်နိုင်ဖို့ လိုအပ်ပါတယ်။ Tidymodels မှာ ဒီအဆင်ပြေတဲ့ အရာကို [`workflow`](https://workflows.tidymodels.org/) လို့ခေါ်ပြီး မော်ဒယ်ဖွဲ့စည်းမှု အစိတ်အပိုင်းတွေကို အဆင်ပြေစွာ ထည့်သွင်းထားနိုင်ပါတယ်! Python မှာ *pipelines* လို့ခေါ်တဲ့အရာကို ဒီမှာ ခေါ်ဆိုနိုင်ပါတယ်။\n",
    "\n",
    "ဒါကြောင့် အားလုံးကို workflow အဖြစ် စုပေါင်းလိုက်ရအောင်!📦\n"
   ],
   "metadata": {
    "id": "NlSbzDfgJ0zh"
   }
  },
  {
   "cell_type": "code",
   "execution_count": 7,
   "source": [
    "# Bundle recipe and model specification\r\n",
    "mr_wf <- workflow() %>% \r\n",
    "  add_recipe(cuisines_recipe) %>% \r\n",
    "  add_model(mr_spec)\r\n",
    "\r\n",
    "# Print out workflow\r\n",
    "mr_wf"
   ],
   "outputs": [
    {
     "output_type": "display_data",
     "data": {
      "text/plain": [
       "══ Workflow ════════════════════════════════════════════════════════════════════\n",
       "\u001b[3mPreprocessor:\u001b[23m Recipe\n",
       "\u001b[3mModel:\u001b[23m multinom_reg()\n",
       "\n",
       "── Preprocessor ────────────────────────────────────────────────────────────────\n",
       "1 Recipe Step\n",
       "\n",
       "• step_smote()\n",
       "\n",
       "── Model ───────────────────────────────────────────────────────────────────────\n",
       "Multinomial Regression Model Specification (classification)\n",
       "\n",
       "Main Arguments:\n",
       "  penalty = 1\n",
       "\n",
       "Engine-Specific Arguments:\n",
       "  MaxNWts = 2086\n",
       "\n",
       "Computational engine: nnet \n"
      ]
     },
     "metadata": {}
    }
   ],
   "metadata": {
    "colab": {
     "base_uri": "https://localhost:8080/",
     "height": 333
    },
    "id": "Sc1TfPA4Ke3_",
    "outputId": "82c70013-e431-4e7e-cef6-9fcf8aad4a6c"
   }
  },
  {
   "cell_type": "markdown",
   "source": [
    "Workflows 👌👌! **`workflow()`** ကို မော်ဒယ်တစ်ခုလိုပဲ အလားတူအောင် ပြင်ဆင်နိုင်ပါတယ်။ ဒါဆိုရင် မော်ဒယ်တစ်ခုကို လေ့ကျင့်ပေးဖို့ အချိန်ရောက်ပါပြီ!\n"
   ],
   "metadata": {
    "id": "TNQ8i85aKf9L"
   }
  },
  {
   "cell_type": "code",
   "execution_count": 8,
   "source": [
    "# Train a multinomial regression model\n",
    "mr_fit <- fit(object = mr_wf, data = cuisines_train)\n",
    "\n",
    "mr_fit"
   ],
   "outputs": [
    {
     "output_type": "display_data",
     "data": {
      "text/plain": [
       "══ Workflow [trained] ══════════════════════════════════════════════════════════\n",
       "\u001b[3mPreprocessor:\u001b[23m Recipe\n",
       "\u001b[3mModel:\u001b[23m multinom_reg()\n",
       "\n",
       "── Preprocessor ────────────────────────────────────────────────────────────────\n",
       "1 Recipe Step\n",
       "\n",
       "• step_smote()\n",
       "\n",
       "── Model ───────────────────────────────────────────────────────────────────────\n",
       "Call:\n",
       "nnet::multinom(formula = ..y ~ ., data = data, decay = ~1, MaxNWts = ~2086, \n",
       "    trace = FALSE)\n",
       "\n",
       "Coefficients:\n",
       "         (Intercept)     almond angelica         anise anise_seed       apple\n",
       "indian    0.19723325  0.2409661        0 -5.004955e-05 -0.1657635 -0.05769734\n",
       "japanese  0.13961959 -0.6262400        0 -1.169155e-04 -0.4893596 -0.08585717\n",
       "korean    0.22377347 -0.1833485        0 -5.560395e-05 -0.2489401 -0.15657804\n",
       "thai     -0.04336577 -0.6106258        0  4.903828e-04 -0.5782866  0.63451105\n",
       "         apple_brandy     apricot armagnac   artemisia artichoke   asparagus\n",
       "indian              0  0.37042636        0 -0.09122797         0 -0.27181970\n",
       "japanese            0  0.28895643        0 -0.12651100         0  0.14054037\n",
       "korean              0 -0.07981259        0  0.55756709         0 -0.66979948\n",
       "thai                0 -0.33160904        0 -0.10725182         0 -0.02602152\n",
       "             avocado       bacon baked_potato balm     banana     barley\n",
       "indian   -0.46624197  0.16008055            0    0 -0.2838796  0.2230625\n",
       "japanese  0.90341344  0.02932727            0    0 -0.4142787  2.0953906\n",
       "korean   -0.06925382 -0.35804134            0    0 -0.2686963 -0.7233404\n",
       "thai     -0.21473955 -0.75594439            0    0  0.6784880 -0.4363320\n",
       "         bartlett_pear      basil        bay       bean         beech\n",
       "indian               0 -0.7128756  0.1011587 -0.8777275 -0.0004380795\n",
       "japanese             0  0.1288697  0.9425626 -0.2380748  0.3373437611\n",
       "korean               0 -0.2445193 -0.4744318 -0.8957870 -0.0048784496\n",
       "thai                 0  1.5365848  0.1333256  0.2196970 -0.0113078024\n",
       "               beef beef_broth   beef_liver         beer        beet\n",
       "indian   -0.7985278  0.2430186 -0.035598065 -0.002173738  0.01005813\n",
       "japanese  0.2241875 -0.3653020 -0.139551027  0.128905553  0.04923911\n",
       "korean    0.5366515 -0.6153237  0.213455197 -0.010828645  0.27325423\n",
       "thai      0.1570012 -0.9364154 -0.008032213 -0.035063746 -0.28279823\n",
       "         bell_pepper bergamot       berry bitter_orange black_bean\n",
       "indian    0.49074330        0  0.58947607   0.191256164 -0.1945233\n",
       "japanese  0.09074167        0 -0.25917977  -0.118915977 -0.3442400\n",
       "korean   -0.57876763        0 -0.07874180  -0.007729435 -0.5220672\n",
       "thai      0.92554006        0 -0.07210196  -0.002983296 -0.4614426\n",
       "         black_currant black_mustard_seed_oil black_pepper black_raspberry\n",
       "indian               0             0.38935801   -0.4453495               0\n",
       "japanese             0            -0.05452887   -0.5440869               0\n",
       "korean               0            -0.03929970    0.8025454               0\n",
       "thai                 0            -0.21498372   -0.9854806               0\n",
       "         black_sesame_seed  black_tea   blackberry blackberry_brandy\n",
       "indian          -0.2759246  0.3079977  0.191256164                 0\n",
       "japanese        -0.6101687 -0.1671913 -0.118915977                 0\n",
       "korean           1.5197674 -0.3036261 -0.007729435                 0\n",
       "thai            -0.1755656 -0.1487033 -0.002983296                 0\n",
       "         blue_cheese    blueberry   bone_oil bourbon_whiskey      brandy\n",
       "indian             0  0.216164294 -0.2276744               0  0.22427587\n",
       "japanese           0 -0.119186087  0.3913019               0 -0.15595599\n",
       "korean             0 -0.007821986  0.2854487               0 -0.02562342\n",
       "thai               0 -0.004947048 -0.0253658               0 -0.05715244\n",
       "\n",
       "...\n",
       "and 308 more lines."
      ]
     },
     "metadata": {}
    }
   ],
   "metadata": {
    "colab": {
     "base_uri": "https://localhost:8080/",
     "height": 1000
    },
    "id": "GMbdfVmTKkJI",
    "outputId": "adf9ebdf-d69d-4a64-e9fd-e06e5322292e"
   }
  },
  {
   "cell_type": "markdown",
   "source": [
    "မော်ဒယ်ကိုလေ့ကျင့်စဉ်အတွင်း သင်ယူခဲ့သော ကိန်းဂဏန်းများကို ရလဒ်အနေနဲ့ ပြသပါသည်။\n",
    "\n",
    "### လေ့ကျင့်ပြီးသော မော်ဒယ်ကို အကဲဖြတ်ပါ\n",
    "\n",
    "မော်ဒယ်က ဘယ်လိုလုပ်ဆောင်ခဲ့သလဲ 📏 ဆိုတာကို စမ်းသပ်မှုအစုအပေါ်မှာ အကဲဖြတ်ပြီး ကြည့်ဖို့ အချိန်ရောက်ပါပြီ! စမ်းသပ်မှုအစုအပေါ်မှာ အတိအကျခန့်မှန်းချက်တွေကို စတင်လုပ်ဆောင်ကြည့်ရအောင်!\n"
   ],
   "metadata": {
    "id": "tt2BfOxrKmcJ"
   }
  },
  {
   "cell_type": "code",
   "execution_count": 9,
   "source": [
    "# Make predictions on the test set\n",
    "results <- cuisines_test %>% select(cuisine) %>% \n",
    "  bind_cols(mr_fit %>% predict(new_data = cuisines_test))\n",
    "\n",
    "# Print out results\n",
    "results %>% \n",
    "  slice_head(n = 5)"
   ],
   "outputs": [
    {
     "output_type": "display_data",
     "data": {
      "text/plain": [
       "  cuisine .pred_class\n",
       "1 indian  thai       \n",
       "2 indian  indian     \n",
       "3 indian  indian     \n",
       "4 indian  indian     \n",
       "5 indian  indian     "
      ],
      "text/markdown": [
       "\n",
       "A tibble: 5 × 2\n",
       "\n",
       "| cuisine &lt;fct&gt; | .pred_class &lt;fct&gt; |\n",
       "|---|---|\n",
       "| indian | thai   |\n",
       "| indian | indian |\n",
       "| indian | indian |\n",
       "| indian | indian |\n",
       "| indian | indian |\n",
       "\n"
      ],
      "text/latex": [
       "A tibble: 5 × 2\n",
       "\\begin{tabular}{ll}\n",
       " cuisine & .pred\\_class\\\\\n",
       " <fct> & <fct>\\\\\n",
       "\\hline\n",
       "\t indian & thai  \\\\\n",
       "\t indian & indian\\\\\n",
       "\t indian & indian\\\\\n",
       "\t indian & indian\\\\\n",
       "\t indian & indian\\\\\n",
       "\\end{tabular}\n"
      ],
      "text/html": [
       "<table class=\"dataframe\">\n",
       "<caption>A tibble: 5 × 2</caption>\n",
       "<thead>\n",
       "\t<tr><th scope=col>cuisine</th><th scope=col>.pred_class</th></tr>\n",
       "\t<tr><th scope=col>&lt;fct&gt;</th><th scope=col>&lt;fct&gt;</th></tr>\n",
       "</thead>\n",
       "<tbody>\n",
       "\t<tr><td>indian</td><td>thai  </td></tr>\n",
       "\t<tr><td>indian</td><td>indian</td></tr>\n",
       "\t<tr><td>indian</td><td>indian</td></tr>\n",
       "\t<tr><td>indian</td><td>indian</td></tr>\n",
       "\t<tr><td>indian</td><td>indian</td></tr>\n",
       "</tbody>\n",
       "</table>\n"
      ]
     },
     "metadata": {}
    }
   ],
   "metadata": {
    "colab": {
     "base_uri": "https://localhost:8080/",
     "height": 248
    },
    "id": "CqtckvtsKqax",
    "outputId": "e57fe557-6a68-4217-fe82-173328c5436d"
   }
  },
  {
   "cell_type": "markdown",
   "source": [
    "Tidymodels တွင် မော်ဒယ်၏ စွမ်းဆောင်ရည်ကို အကဲဖြတ်ရန် [yardstick](https://yardstick.tidymodels.org/) ကို အသုံးပြုနိုင်ပါသည်။ ယင်းသည် စွမ်းဆောင်ရည် မီတရစ်များကို အသုံးပြု၍ မော်ဒယ်များ၏ ထိရောက်မှုကို တိုင်းတာရန် အသုံးပြုသော package တစ်ခုဖြစ်သည်။ ကျွန်ုပ်တို့၏ logistic regression သင်ခန်းစာတွင် ပြုလုပ်ခဲ့သကဲ့သို့၊ confusion matrix ကိုတွက်ချက်ခြင်းဖြင့် စတင်ကြပါစို့။\n"
   ],
   "metadata": {
    "id": "8w5N6XsBKss7"
   }
  },
  {
   "cell_type": "code",
   "execution_count": 10,
   "source": [
    "# Confusion matrix for categorical data\n",
    "conf_mat(data = results, truth = cuisine, estimate = .pred_class)\n"
   ],
   "outputs": [
    {
     "output_type": "display_data",
     "data": {
      "text/plain": [
       "          Truth\n",
       "Prediction chinese indian japanese korean thai\n",
       "  chinese       83      1        8     15   10\n",
       "  indian         4    163        1      2    6\n",
       "  japanese      21      5       73     25    1\n",
       "  korean        15      0       11    191    0\n",
       "  thai          10     11        3      7   70"
      ]
     },
     "metadata": {}
    }
   ],
   "metadata": {
    "colab": {
     "base_uri": "https://localhost:8080/",
     "height": 133
    },
    "id": "YvODvsLkK0iG",
    "outputId": "bb69da84-1266-47ad-b174-d43b88ca2988"
   }
  },
  {
   "cell_type": "markdown",
   "source": [],
   "metadata": {
    "id": "c0HfPL16Lr6U"
   }
  },
  {
   "cell_type": "code",
   "execution_count": 11,
   "source": [
    "update_geom_defaults(geom = \"tile\", new = list(color = \"black\", alpha = 0.7))\n",
    "# Visualize confusion matrix\n",
    "results %>% \n",
    "  conf_mat(cuisine, .pred_class) %>% \n",
    "  autoplot(type = \"heatmap\")"
   ],
   "outputs": [
    {
     "output_type": "display_data",
     "data": {
      "text/plain": [
       "plot without title"
      ],
      "image/png": "[encoded data removed]"
     },
     "metadata": {
      "image/png": {
       "width": 420,
       "height": 420
      }
     }
    }
   ],
   "metadata": {
    "colab": {
     "base_uri": "https://localhost:8080/",
     "height": 436
    },
    "id": "HsAtwukyLsvt",
    "outputId": "3032a224-a2c8-4270-b4f2-7bb620317400"
   }
  },
  {
   "cell_type": "markdown",
   "source": [
    "အမှားအမှန်ဇယားပုံတွင် အမည်းရောင်နက်သောစတုရန်းများသည် အမှုအရေအတွက်များမြင့်မားမှုကို ပြသပြီး၊ ခန့်မှန်းထားသောအမှတ်အသားနှင့် အမှန်တကယ်အမှတ်အသားတူညီသောအမှုများကို ပြသသည့် အမည်းရောင်နက်သောစတုရန်းများဖြင့် တန်းတူလိုက်နေသောလိုင်းကို မျှော်လင့်စွာမြင်နိုင်ပါမည်။\n",
    "\n",
    "အခုတော့ အမှားအမှန်ဇယားအတွက် အကျဉ်းချုပ်စာရင်းအင်းများကိုတွက်ချက်ကြည့်ရအောင်။\n"
   ],
   "metadata": {
    "id": "oOJC87dkLwPr"
   }
  },
  {
   "cell_type": "code",
   "execution_count": 12,
   "source": [
    "# Summary stats for confusion matrix\n",
    "conf_mat(data = results, truth = cuisine, estimate = .pred_class) %>% \n",
    "summary()"
   ],
   "outputs": [
    {
     "output_type": "display_data",
     "data": {
      "text/plain": [
       "   .metric              .estimator .estimate\n",
       "1  accuracy             multiclass 0.7880435\n",
       "2  kap                  multiclass 0.7276583\n",
       "3  sens                 macro      0.7780927\n",
       "4  spec                 macro      0.9477598\n",
       "5  ppv                  macro      0.7585583\n",
       "6  npv                  macro      0.9460080\n",
       "7  mcc                  multiclass 0.7292724\n",
       "8  j_index              macro      0.7258524\n",
       "9  bal_accuracy         macro      0.8629262\n",
       "10 detection_prevalence macro      0.2000000\n",
       "11 precision            macro      0.7585583\n",
       "12 recall               macro      0.7780927\n",
       "13 f_meas               macro      0.7641862"
      ],
      "text/markdown": [
       "\n",
       "A tibble: 13 × 3\n",
       "\n",
       "| .metric &lt;chr&gt; | .estimator &lt;chr&gt; | .estimate &lt;dbl&gt; |\n",
       "|---|---|---|\n",
       "| accuracy             | multiclass | 0.7880435 |\n",
       "| kap                  | multiclass | 0.7276583 |\n",
       "| sens                 | macro      | 0.7780927 |\n",
       "| spec                 | macro      | 0.9477598 |\n",
       "| ppv                  | macro      | 0.7585583 |\n",
       "| npv                  | macro      | 0.9460080 |\n",
       "| mcc                  | multiclass | 0.7292724 |\n",
       "| j_index              | macro      | 0.7258524 |\n",
       "| bal_accuracy         | macro      | 0.8629262 |\n",
       "| detection_prevalence | macro      | 0.2000000 |\n",
       "| precision            | macro      | 0.7585583 |\n",
       "| recall               | macro      | 0.7780927 |\n",
       "| f_meas               | macro      | 0.7641862 |\n",
       "\n"
      ],
      "text/latex": [
       "A tibble: 13 × 3\n",
       "\\begin{tabular}{lll}\n",
       " .metric & .estimator & .estimate\\\\\n",
       " <chr> & <chr> & <dbl>\\\\\n",
       "\\hline\n",
       "\t accuracy             & multiclass & 0.7880435\\\\\n",
       "\t kap                  & multiclass & 0.7276583\\\\\n",
       "\t sens                 & macro      & 0.7780927\\\\\n",
       "\t spec                 & macro      & 0.9477598\\\\\n",
       "\t ppv                  & macro      & 0.7585583\\\\\n",
       "\t npv                  & macro      & 0.9460080\\\\\n",
       "\t mcc                  & multiclass & 0.7292724\\\\\n",
       "\t j\\_index              & macro      & 0.7258524\\\\\n",
       "\t bal\\_accuracy         & macro      & 0.8629262\\\\\n",
       "\t detection\\_prevalence & macro      & 0.2000000\\\\\n",
       "\t precision            & macro      & 0.7585583\\\\\n",
       "\t recall               & macro      & 0.7780927\\\\\n",
       "\t f\\_meas               & macro      & 0.7641862\\\\\n",
       "\\end{tabular}\n"
      ],
      "text/html": [
       "<table class=\"dataframe\">\n",
       "<caption>A tibble: 13 × 3</caption>\n",
       "<thead>\n",
       "\t<tr><th scope=col>.metric</th><th scope=col>.estimator</th><th scope=col>.estimate</th></tr>\n",
       "\t<tr><th scope=col>&lt;chr&gt;</th><th scope=col>&lt;chr&gt;</th><th scope=col>&lt;dbl&gt;</th></tr>\n",
       "</thead>\n",
       "<tbody>\n",
       "\t<tr><td>accuracy            </td><td>multiclass</td><td>0.7880435</td></tr>\n",
       "\t<tr><td>kap                 </td><td>multiclass</td><td>0.7276583</td></tr>\n",
       "\t<tr><td>sens                </td><td>macro     </td><td>0.7780927</td></tr>\n",
       "\t<tr><td>spec                </td><td>macro     </td><td>0.9477598</td></tr>\n",
       "\t<tr><td>ppv                 </td><td>macro     </td><td>0.7585583</td></tr>\n",
       "\t<tr><td>npv                 </td><td>macro     </td><td>0.9460080</td></tr>\n",
       "\t<tr><td>mcc                 </td><td>multiclass</td><td>0.7292724</td></tr>\n",
       "\t<tr><td>j_index             </td><td>macro     </td><td>0.7258524</td></tr>\n",
       "\t<tr><td>bal_accuracy        </td><td>macro     </td><td>0.8629262</td></tr>\n",
       "\t<tr><td>detection_prevalence</td><td>macro     </td><td>0.2000000</td></tr>\n",
       "\t<tr><td>precision           </td><td>macro     </td><td>0.7585583</td></tr>\n",
       "\t<tr><td>recall              </td><td>macro     </td><td>0.7780927</td></tr>\n",
       "\t<tr><td>f_meas              </td><td>macro     </td><td>0.7641862</td></tr>\n",
       "</tbody>\n",
       "</table>\n"
      ]
     },
     "metadata": {}
    }
   ],
   "metadata": {
    "colab": {
     "base_uri": "https://localhost:8080/",
     "height": 494
    },
    "id": "OYqetUyzL5Wz",
    "outputId": "6a84d65e-113d-4281-dfc1-16e8b70f37e6"
   }
  },
  {
   "cell_type": "markdown",
   "source": [
    "ကျွန်တော်တို့ အချက်အလက်တွေကို တိကျမှု (accuracy), အထိန်းသိမ်းမှု (sensitivity), ppv စတဲ့ metrics တချို့အပေါ် အခြေခံပြီး ကြည့်မယ်ဆိုရင် စတင်ဖို့အတွက် အဆင်ပြေပါတယ် 🥳!\n",
    "\n",
    "## ၄။ နက်နက်ရှိုင်းရှိုင်း လေ့လာကြည့်ခြင်း\n",
    "\n",
    "အရမ်းသိပ်မမြင်သာတဲ့ မေးခွန်းတစ်ခု မေးကြည့်ရအောင် - တစ်ခုသော အစားအစာအမျိုးအစားကို အနက်အဖြေ အဖြစ် သတ်မှတ်ဖို့ ဘယ်လိုအခြေခံချက်တွေကို အသုံးပြုထားတာလဲ?\n",
    "\n",
    "အဆင်ပြေပါတယ်၊ စာရင်းအင်းအခြေပြု စက်မောင်းနှင်မှု (Statistical machine learning) အယ်လဂိုရီသမ်တွေ၊ ဥပမာ logistic regression တို့ဟာ `probability` (ဖြစ်နိုင်မှု) ကို အခြေခံထားပါတယ်။ ဒါကြောင့် classifier က အမှန်တကယ် ခန့်မှန်းပေးတာကတော့ ဖြစ်နိုင်တဲ့ အဖြေတွေကို ဖြန့်ဖြူးမှုအနေနဲ့ ဖြစ်ပါတယ်။ အမြင့်ဆုံး ဖြစ်နိုင်မှုရှိတဲ့ class ကို အဆိုပါ observation အတွက် အများဆုံး ဖြစ်နိုင်တဲ့ အဖြေ အဖြစ် ရွေးချယ်ပေးပါတယ်။\n",
    "\n",
    "ဒါကို လက်တွေ့မှာ ဘယ်လို အလုပ်လုပ်သလဲဆိုတာကို ကြည့်ကြရအောင်။ အတိအကျ class ခန့်မှန်းမှုတွေနဲ့ ဖြစ်နိုင်မှုတွေ (probabilities) နှစ်မျိုးလုံးကို ပြုလုပ်ကြည့်မယ်။\n"
   ],
   "metadata": {
    "id": "43t7vz8vMJtW"
   }
  },
  {
   "cell_type": "code",
   "execution_count": 13,
   "source": [
    "# Make hard class prediction and probabilities\n",
    "results_prob <- cuisines_test %>%\n",
    "  select(cuisine) %>% \n",
    "  bind_cols(mr_fit %>% predict(new_data = cuisines_test)) %>% \n",
    "  bind_cols(mr_fit %>% predict(new_data = cuisines_test, type = \"prob\"))\n",
    "\n",
    "# Print out results\n",
    "results_prob %>% \n",
    "  slice_head(n = 5)"
   ],
   "outputs": [
    {
     "output_type": "display_data",
     "data": {
      "text/plain": [
       "  cuisine .pred_class .pred_chinese .pred_indian .pred_japanese .pred_korean\n",
       "1 indian  thai        1.551259e-03  0.4587877    5.988039e-04   2.428503e-04\n",
       "2 indian  indian      2.637133e-05  0.9999488    6.648651e-07   2.259993e-05\n",
       "3 indian  indian      1.049433e-03  0.9909982    1.060937e-03   1.644947e-05\n",
       "4 indian  indian      6.237482e-02  0.4763035    9.136702e-02   3.660913e-01\n",
       "5 indian  indian      1.431745e-02  0.9418551    2.945239e-02   8.721782e-03\n",
       "  .pred_thai  \n",
       "1 5.388194e-01\n",
       "2 1.577948e-06\n",
       "3 6.874989e-03\n",
       "4 3.863391e-03\n",
       "5 5.653283e-03"
      ],
      "text/markdown": [
       "\n",
       "A tibble: 5 × 7\n",
       "\n",
       "| cuisine &lt;fct&gt; | .pred_class &lt;fct&gt; | .pred_chinese &lt;dbl&gt; | .pred_indian &lt;dbl&gt; | .pred_japanese &lt;dbl&gt; | .pred_korean &lt;dbl&gt; | .pred_thai &lt;dbl&gt; |\n",
       "|---|---|---|---|---|---|---|\n",
       "| indian | thai   | 1.551259e-03 | 0.4587877 | 5.988039e-04 | 2.428503e-04 | 5.388194e-01 |\n",
       "| indian | indian | 2.637133e-05 | 0.9999488 | 6.648651e-07 | 2.259993e-05 | 1.577948e-06 |\n",
       "| indian | indian | 1.049433e-03 | 0.9909982 | 1.060937e-03 | 1.644947e-05 | 6.874989e-03 |\n",
       "| indian | indian | 6.237482e-02 | 0.4763035 | 9.136702e-02 | 3.660913e-01 | 3.863391e-03 |\n",
       "| indian | indian | 1.431745e-02 | 0.9418551 | 2.945239e-02 | 8.721782e-03 | 5.653283e-03 |\n",
       "\n"
      ],
      "text/latex": [
       "A tibble: 5 × 7\n",
       "\\begin{tabular}{lllllll}\n",
       " cuisine & .pred\\_class & .pred\\_chinese & .pred\\_indian & .pred\\_japanese & .pred\\_korean & .pred\\_thai\\\\\n",
       " <fct> & <fct> & <dbl> & <dbl> & <dbl> & <dbl> & <dbl>\\\\\n",
       "\\hline\n",
       "\t indian & thai   & 1.551259e-03 & 0.4587877 & 5.988039e-04 & 2.428503e-04 & 5.388194e-01\\\\\n",
       "\t indian & indian & 2.637133e-05 & 0.9999488 & 6.648651e-07 & 2.259993e-05 & 1.577948e-06\\\\\n",
       "\t indian & indian & 1.049433e-03 & 0.9909982 & 1.060937e-03 & 1.644947e-05 & 6.874989e-03\\\\\n",
       "\t indian & indian & 6.237482e-02 & 0.4763035 & 9.136702e-02 & 3.660913e-01 & 3.863391e-03\\\\\n",
       "\t indian & indian & 1.431745e-02 & 0.9418551 & 2.945239e-02 & 8.721782e-03 & 5.653283e-03\\\\\n",
       "\\end{tabular}\n"
      ],
      "text/html": [
       "<table class=\"dataframe\">\n",
       "<caption>A tibble: 5 × 7</caption>\n",
       "<thead>\n",
       "\t<tr><th scope=col>cuisine</th><th scope=col>.pred_class</th><th scope=col>.pred_chinese</th><th scope=col>.pred_indian</th><th scope=col>.pred_japanese</th><th scope=col>.pred_korean</th><th scope=col>.pred_thai</th></tr>\n",
       "\t<tr><th scope=col>&lt;fct&gt;</th><th scope=col>&lt;fct&gt;</th><th scope=col>&lt;dbl&gt;</th><th scope=col>&lt;dbl&gt;</th><th scope=col>&lt;dbl&gt;</th><th scope=col>&lt;dbl&gt;</th><th scope=col>&lt;dbl&gt;</th></tr>\n",
       "</thead>\n",
       "<tbody>\n",
       "\t<tr><td>indian</td><td>thai  </td><td>1.551259e-03</td><td>0.4587877</td><td>5.988039e-04</td><td>2.428503e-04</td><td>5.388194e-01</td></tr>\n",
       "\t<tr><td>indian</td><td>indian</td><td>2.637133e-05</td><td>0.9999488</td><td>6.648651e-07</td><td>2.259993e-05</td><td>1.577948e-06</td></tr>\n",
       "\t<tr><td>indian</td><td>indian</td><td>1.049433e-03</td><td>0.9909982</td><td>1.060937e-03</td><td>1.644947e-05</td><td>6.874989e-03</td></tr>\n",
       "\t<tr><td>indian</td><td>indian</td><td>6.237482e-02</td><td>0.4763035</td><td>9.136702e-02</td><td>3.660913e-01</td><td>3.863391e-03</td></tr>\n",
       "\t<tr><td>indian</td><td>indian</td><td>1.431745e-02</td><td>0.9418551</td><td>2.945239e-02</td><td>8.721782e-03</td><td>5.653283e-03</td></tr>\n",
       "</tbody>\n",
       "</table>\n"
      ]
     },
     "metadata": {}
    }
   ],
   "metadata": {
    "colab": {
     "base_uri": "https://localhost:8080/",
     "height": 248
    },
    "id": "xdKNs-ZPMTJL",
    "outputId": "68f6ac5a-725a-4eff-9ea6-481fef00e008"
   }
  },
  {
   "cell_type": "markdown",
   "source": [
    "✅ မော်ဒယ်က ပထမဆုံး observation ကို ထိုင်းဟု သေချာစွာ ခန့်မှန်းနိုင်တဲ့ အကြောင်းကို ရှင်းပြပေးနိုင်မလား?\n",
    "\n",
    "## **🚀စိန်ခေါ်မှု**\n",
    "\n",
    "ဒီသင်ခန်းစာမှာ သင်ရဲ့ သန့်စင်ထားတဲ့ ဒေတာကို အသုံးပြုပြီး အစားအစာပေါင်းစပ်မှုအပေါ် မူတည်ပြီး နိုင်ငံတစ်ခုရဲ့ အစားအစာပုံစံကို ခန့်မှန်းနိုင်တဲ့ machine learning မော်ဒယ်တစ်ခုကို တည်ဆောက်ခဲ့ပါတယ်။ Tidymodels က [အမျိုးမျိုးသောရွေးချယ်စရာများ](https://www.tidymodels.org/find/parsnip/#models) ကို အသုံးပြုပြီး ဒေတာကို ခွဲခြားနိုင်စေတဲ့နည်းလမ်းများနှင့် [အခြားနည်းလမ်းများ](https://parsnip.tidymodels.org/articles/articles/Examples.html#multinom_reg-models) ကို အသုံးပြု multinomial regression ကို fit လုပ်နိုင်စေတဲ့နည်းလမ်းများကို ဖတ်ရှုကြည့်ပါ။\n",
    "\n",
    "#### ကျေးဇူးတင်စကား:\n",
    "\n",
    "[`Allison Horst`](https://twitter.com/allison_horst/) ကို R ကို ပိုမိုကြိုဆိုနိုင်ပြီး စိတ်ဝင်စားစေတဲ့ အံ့ဩဖွယ်ပုံရိပ်များ ဖန်တီးပေးတဲ့အတွက် ကျေးဇူးတင်ပါတယ်။ သူမရဲ့ [gallery](https://www.google.com/url?q=https://github.com/allisonhorst/stats-illustrations&sa=D&source=editors&ust=1626380772530000&usg=AOvVaw3zcfyCizFQZpkSLzxiiQEM) မှာ ပိုမိုများစွာသော ပုံရိပ်များကို ရှာဖွေကြည့်နိုင်ပါတယ်။\n",
    "\n",
    "[Cassie Breviu](https://www.twitter.com/cassieview) နှင့် [Jen Looper](https://www.twitter.com/jenlooper) ကို ဒီ module ရဲ့ Python မူရင်းကို ဖန်တီးပေးခဲ့တဲ့အတွက် ♥️\n",
    "\n",
    "<br>\n",
    "အစားအစာပုံစံနဲ့ ပတ်သက်ပြီး ဟာသတွေထည့်ပေးချင်ပေမယ့် food puns ကို နားမလည်လို့ 😅။\n",
    "\n",
    "<br>\n",
    "\n",
    "ပညာသင်ယူမှုကို ပျော်ရွှင်စွာ ဆက်လက်လုပ်ဆောင်ပါ,\n",
    "\n",
    "[Eric](https://twitter.com/ericntay), Gold Microsoft Learn Student Ambassador.\n"
   ],
   "metadata": {
    "id": "2tWVHMeLMYdM"
   }
  },
  {
   "cell_type": "markdown",
   "metadata": {},
   "source": [
    "\n---\n\n**ဝက်ဘ်ဆိုက်မှတ်ချက်**:  \nဤစာရွက်စာတမ်းကို AI ဘာသာပြန်ဝန်ဆောင်မှု [Co-op Translator](https://github.com/Azure/co-op-translator) ကို အသုံးပြု၍ ဘာသာပြန်ထားပါသည်။ ကျွန်ုပ်တို့သည် တိကျမှန်ကန်မှုအတွက် ကြိုးစားနေပါသော်လည်း၊ အလိုအလျောက်ဘာသာပြန်မှုများတွင် အမှားများ သို့မဟုတ် မမှန်ကန်မှုများ ပါဝင်နိုင်သည်ကို ကျေးဇူးပြု၍ သတိပြုပါ။ မူရင်းစာရွက်စာတမ်းကို ၎င်း၏ မူလဘာသာစကားဖြင့် အာဏာတည်သောရင်းမြစ်အဖြစ် သတ်မှတ်ရန် လိုအပ်ပါသည်။ အရေးကြီးသော အချက်အလက်များအတွက် လူ့ဘာသာပြန်ပညာရှင်များမှ အတည်ပြုထားသော ဘာသာပြန်မှုကို အသုံးပြုရန် အကြံပြုပါသည်။ ဤဘာသာပြန်မှုကို အသုံးပြုခြင်းမှ ဖြစ်ပေါ်လာသော နားလည်မှုမှားများ သို့မဟုတ် အဓိပ္ပာယ်မှားများအတွက် ကျွန်ုပ်တို့သည် တာဝန်မယူပါ။\n"
   ]
  }
 ]
}