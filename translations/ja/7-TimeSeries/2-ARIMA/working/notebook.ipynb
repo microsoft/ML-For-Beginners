{
 "metadata": {
  "language_info": {
   "codemirror_mode": {
    "name": "ipython",
    "version": 3
   },
   "file_extension": ".py",
   "mimetype": "text/x-python",
   "name": "python",
   "nbconvert_exporter": "python",
   "pygments_lexer": "ipython3",
   "version": 3
  },
  "orig_nbformat": 2,
  "coopTranslator": {
   "original_hash": "523ec472196307b3c4235337353c9ceb",
   "translation_date": "2025-09-04T01:49:47+00:00",
   "source_file": "7-TimeSeries/2-ARIMA/working/notebook.ipynb",
   "language_code": "ja"
  }
 },
 "nbformat": 4,
 "nbformat_minor": 2,
 "cells": [
  {
   "source": [
    "このノートブックでは以下を示します：\n",
    "- ARIMA時系列予測モデルのトレーニングのために時系列データを準備する方法\n",
    "- シンプルなARIMAモデルを実装して、時系列の次のHORIZONステップ先（時刻*t+1*から*t+HORIZON*まで）を予測する方法\n",
    "- モデルを評価する方法\n",
    "\n",
    "この例のデータはGEFCom2014予測コンペティションから取得されています。2012年から2014年までの3年間の1時間ごとの電力負荷と気温値で構成されています。タスクは将来の電力負荷値を予測することです。この例では、過去の負荷データのみを使用して1ステップ先を予測する方法を示します。\n",
    "\n",
    "Tao Hong, Pierre Pinson, Shu Fan, Hamidreza Zareipour, Alberto Troccoli, Rob J. Hyndman, 「確率的エネルギー予測：Global Energy Forecasting Competition 2014とその先」, International Journal of Forecasting, vol.32, no.3, pp 896-913, 2016年7月-9月。\n"
   ],
   "cell_type": "markdown",
   "metadata": {}
  },
  {
   "cell_type": "code",
   "execution_count": null,
   "metadata": {},
   "outputs": [],
   "source": [
    "pip install statsmodels"
   ]
  },
  {
   "cell_type": "markdown",
   "metadata": {},
   "source": [
    "\n---\n\n**免責事項**:  \nこの文書は、AI翻訳サービス[Co-op Translator](https://github.com/Azure/co-op-translator)を使用して翻訳されています。正確性を追求しておりますが、自動翻訳には誤りや不正確さが含まれる可能性があります。元の言語で記載された原文が正式な情報源と見なされるべきです。重要な情報については、専門の人間による翻訳を推奨します。この翻訳の使用に起因する誤解や誤訳について、当社は一切の責任を負いません。\n"
   ]
  }
 ]
}