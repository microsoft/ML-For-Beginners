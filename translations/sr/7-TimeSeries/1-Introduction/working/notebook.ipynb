{
 "cells": [
  {
   "source": [
    "# Подешавање података\n",
    "\n",
    "У овом нотебуку, показујемо како да:\n",
    "\n",
    "припремите временске серије података за овај модул  \n",
    "визуелизујете податке  \n",
    "Подаци у овом примеру преузети су из такмичења за прогнозирање GEFCom2014. Они обухватају 3 године података о сатној потрошњи електричне енергије и вредностима температуре у периоду од 2012. до 2014. године.\n",
    "\n",
    "1Таао Хонг, Пјер Пинсон, Шу Фан, Хамидреза Зареипур, Алберто Троколи и Роб Џ. Хајндман, \"Прогнозирање енергије са вероватноћом: Глобално такмичење за прогнозирање енергије 2014 и даље\", International Journal of Forecasting, вол.32, бр.3, стр. 896-913, јул-септембар, 2016.  \n"
   ],
   "cell_type": "markdown",
   "metadata": {}
  },
  {
   "cell_type": "markdown",
   "metadata": {},
   "source": [
    "\n---\n\n**Одрицање од одговорности**:  \nОвај документ је преведен коришћењем услуге за превођење помоћу вештачке интелигенције [Co-op Translator](https://github.com/Azure/co-op-translator). Иако тежимо тачности, молимо вас да имате у виду да аутоматски преводи могу садржати грешке или нетачности. Оригинални документ на изворном језику треба сматрати ауторитативним извором. За критичне информације препоручује се професионални превод од стране људи. Не сносимо одговорност за било каква погрешна тумачења или неспоразуме који могу произаћи из коришћења овог превода.\n"
   ]
  }
 ],
 "metadata": {
  "kernel_info": {
   "name": "python3"
  },
  "kernelspec": {
   "name": "python37364bit8d3b438fb5fc4430a93ac2cb74d693a7",
   "display_name": "Python 3.7.0 64-bit ('3.7')"
  },
  "language_info": {
   "codemirror_mode": {
    "name": "ipython",
    "version": 3
   },
   "file_extension": ".py",
   "mimetype": "text/x-python",
   "name": "python",
   "nbconvert_exporter": "python",
   "pygments_lexer": "ipython3",
   "version": "3.7.0"
  },
  "nteract": {
   "version": "nteract-front-end@1.0.0"
  },
  "metadata": {
   "interpreter": {
    "hash": "70b38d7a306a849643e446cd70466270a13445e5987dfa1344ef2b127438fa4d"
   }
  },
  "coopTranslator": {
   "original_hash": "5e2bbe594906dce3aaaa736d6dac6683",
   "translation_date": "2025-09-06T14:02:20+00:00",
   "source_file": "7-TimeSeries/1-Introduction/working/notebook.ipynb",
   "language_code": "sr"
  }
 },
 "nbformat": 4,
 "nbformat_minor": 2
}