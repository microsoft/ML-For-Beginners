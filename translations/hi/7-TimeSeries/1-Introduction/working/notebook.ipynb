{
 "cells": [
  {
   "source": [
    "# डेटा सेटअप\n",
    "\n",
    "इस नोटबुक में, हम यह दिखाएंगे कि कैसे:\n",
    "\n",
    "इस मॉड्यूल के लिए टाइम सीरीज़ डेटा सेटअप करें  \n",
    "डेटा को विज़ुअलाइज़ करें  \n",
    "\n",
    "इस उदाहरण में उपयोग किया गया डेटा GEFCom2014 फोरकास्टिंग प्रतियोगिता1 से लिया गया है। इसमें 2012 से 2014 के बीच 3 वर्षों के घंटेवार बिजली लोड और तापमान के मान शामिल हैं।  \n",
    "\n",
    "1ताओ होंग, पियरे पिन्सन, शू फैन, हमीदरेज़ा ज़ारिपूर, अल्बर्टो ट्रोक्कोली और रॉब जे. हाइंडमैन, \"प्रोबैबिलिस्टिक एनर्जी फोरकास्टिंग: ग्लोबल एनर्जी फोरकास्टिंग प्रतियोगिता 2014 और उससे आगे\", इंटरनेशनल जर्नल ऑफ फोरकास्टिंग, वॉल्यूम 32, नंबर 3, पृष्ठ 896-913, जुलाई-सितंबर, 2016।  \n"
   ],
   "cell_type": "markdown",
   "metadata": {}
  },
  {
   "cell_type": "markdown",
   "metadata": {},
   "source": [
    "\n---\n\n**अस्वीकरण**:  \nयह दस्तावेज़ AI अनुवाद सेवा [Co-op Translator](https://github.com/Azure/co-op-translator) का उपयोग करके अनुवादित किया गया है। जबकि हम सटीकता के लिए प्रयासरत हैं, कृपया ध्यान दें कि स्वचालित अनुवाद में त्रुटियां या अशुद्धियां हो सकती हैं। मूल भाषा में उपलब्ध मूल दस्तावेज़ को आधिकारिक स्रोत माना जाना चाहिए। महत्वपूर्ण जानकारी के लिए, पेशेवर मानव अनुवाद की सिफारिश की जाती है। इस अनुवाद के उपयोग से उत्पन्न किसी भी गलतफहमी या गलत व्याख्या के लिए हम उत्तरदायी नहीं हैं।  \n"
   ]
  }
 ],
 "metadata": {
  "kernel_info": {
   "name": "python3"
  },
  "kernelspec": {
   "name": "python37364bit8d3b438fb5fc4430a93ac2cb74d693a7",
   "display_name": "Python 3.7.0 64-bit ('3.7')"
  },
  "language_info": {
   "codemirror_mode": {
    "name": "ipython",
    "version": 3
   },
   "file_extension": ".py",
   "mimetype": "text/x-python",
   "name": "python",
   "nbconvert_exporter": "python",
   "pygments_lexer": "ipython3",
   "version": "3.7.0"
  },
  "nteract": {
   "version": "nteract-front-end@1.0.0"
  },
  "metadata": {
   "interpreter": {
    "hash": "70b38d7a306a849643e446cd70466270a13445e5987dfa1344ef2b127438fa4d"
   }
  },
  "coopTranslator": {
   "original_hash": "5e2bbe594906dce3aaaa736d6dac6683",
   "translation_date": "2025-09-04T01:52:17+00:00",
   "source_file": "7-TimeSeries/1-Introduction/working/notebook.ipynb",
   "language_code": "hi"
  }
 },
 "nbformat": 4,
 "nbformat_minor": 2
}