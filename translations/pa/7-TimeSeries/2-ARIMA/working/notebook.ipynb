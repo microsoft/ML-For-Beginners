{
 "metadata": {
  "language_info": {
   "codemirror_mode": {
    "name": "ipython",
    "version": 3
   },
   "file_extension": ".py",
   "mimetype": "text/x-python",
   "name": "python",
   "nbconvert_exporter": "python",
   "pygments_lexer": "ipython3",
   "version": 3
  },
  "orig_nbformat": 2,
  "coopTranslator": {
   "original_hash": "523ec472196307b3c4235337353c9ceb",
   "translation_date": "2025-08-29T19:09:39+00:00",
   "source_file": "7-TimeSeries/2-ARIMA/working/notebook.ipynb",
   "language_code": "pa"
  }
 },
 "nbformat": 4,
 "nbformat_minor": 2,
 "cells": [
  {
   "source": [
    "ਇਸ ਵਿੱਚ 3 ਸਾਲਾਂ (2012 ਤੋਂ 2014) ਦੇ ਘੰਟਾਵਾਰ ਬਿਜਲੀ ਲੋਡ ਅਤੇ ਤਾਪਮਾਨ ਦੇ ਡਾਟਾ ਸ਼ਾਮਲ ਹਨ। ਟਾਸਕ ਭਵਿੱਖ ਵਿੱਚ ਬਿਜਲੀ ਲੋਡ ਦੇ ਮੁੱਲਾਂ ਦੀ ਪੇਸ਼ਗੋਈ ਕਰਨਾ ਹੈ। ਇਸ ਉਦਾਹਰਨ ਵਿੱਚ, ਅਸੀਂ ਸਿਰਫ ਇਤਿਹਾਸਕ ਲੋਡ ਡਾਟਾ ਦੀ ਵਰਤੋਂ ਕਰਦੇ ਹੋਏ ਇੱਕ ਸਮੇਂ ਦੇ ਕਦਮ ਦੀ ਪੇਸ਼ਗੋਈ ਕਰਨ ਦਾ ਤਰੀਕਾ ਦਿਖਾਉਂਦੇ ਹਾਂ।\n",
    "\n",
    "ਤਾਓ ਹੋਂਗ, ਪੀਅਰ ਪਿੰਸਨ, ਸ਼ੂ ਫੈਨ, ਹਾਮਿਦਰੇਜ਼ਾ ਜ਼ਰੇਪੂਰ, ਅਲਬਰਟੋ ਟਰੋਕੋਲੀ ਅਤੇ ਰੌਬ ਜੇ. ਹਾਈਂਡਮੈਨ, \"ਸੰਭਾਵਨਾਤਮਕ ਊਰਜਾ ਪੇਸ਼ਗੋਈ: ਗਲੋਬਲ ਐਨਰਜੀ ਫੋਰਕਾਸਟਿੰਗ ਮੁਕਾਬਲਾ 2014 ਅਤੇ ਅੱਗੇ\", ਇੰਟਰਨੈਸ਼ਨਲ ਜਰਨਲ ਆਫ ਫੋਰਕਾਸਟਿੰਗ, ਵੋਲ.32, ਨੰ.3, ਪੰਨਾ 896-913, ਜੁਲਾਈ-ਸਤੰਬਰ, 2016।\n"
   ],
   "cell_type": "markdown",
   "metadata": {}
  },
  {
   "cell_type": "code",
   "execution_count": null,
   "metadata": {},
   "outputs": [],
   "source": [
    "pip install statsmodels"
   ]
  },
  {
   "cell_type": "markdown",
   "metadata": {},
   "source": [
    "\n---\n\n**ਅਸਵੀਕਰਤੀ**:  \nਇਹ ਦਸਤਾਵੇਜ਼ AI ਅਨੁਵਾਦ ਸੇਵਾ [Co-op Translator](https://github.com/Azure/co-op-translator) ਦੀ ਵਰਤੋਂ ਕਰਕੇ ਅਨੁਵਾਦ ਕੀਤਾ ਗਿਆ ਹੈ। ਜਦੋਂ ਕਿ ਅਸੀਂ ਸਹੀ ਹੋਣ ਦਾ ਯਤਨ ਕਰਦੇ ਹਾਂ, ਕਿਰਪਾ ਕਰਕੇ ਧਿਆਨ ਦਿਓ ਕਿ ਸਵੈਚਾਲਿਤ ਅਨੁਵਾਦਾਂ ਵਿੱਚ ਗਲਤੀਆਂ ਜਾਂ ਅਸੁੱਤੀਆਂ ਹੋ ਸਕਦੀਆਂ ਹਨ। ਇਸ ਦੀ ਮੂਲ ਭਾਸ਼ਾ ਵਿੱਚ ਮੌਜੂਦ ਮੂਲ ਦਸਤਾਵੇਜ਼ ਨੂੰ ਪ੍ਰਮਾਣਿਕ ਸਰੋਤ ਮੰਨਿਆ ਜਾਣਾ ਚਾਹੀਦਾ ਹੈ। ਮਹੱਤਵਪੂਰਨ ਜਾਣਕਾਰੀ ਲਈ, ਪੇਸ਼ੇਵਰ ਮਨੁੱਖੀ ਅਨੁਵਾਦ ਦੀ ਸਿਫਾਰਸ਼ ਕੀਤੀ ਜਾਂਦੀ ਹੈ। ਇਸ ਅਨੁਵਾਦ ਦੀ ਵਰਤੋਂ ਤੋਂ ਪੈਦਾ ਹੋਣ ਵਾਲੇ ਕਿਸੇ ਵੀ ਗਲਤਫਹਿਮੀ ਜਾਂ ਗਲਤ ਵਿਆਖਿਆ ਲਈ ਅਸੀਂ ਜ਼ਿੰਮੇਵਾਰ ਨਹੀਂ ਹਾਂ।  \n"
   ]
  }
 ]
}