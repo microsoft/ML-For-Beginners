{
 "metadata": {
  "language_info": {
   "codemirror_mode": {
    "name": "ipython",
    "version": 3
   },
   "file_extension": ".py",
   "mimetype": "text/x-python",
   "name": "python",
   "nbconvert_exporter": "python",
   "pygments_lexer": "ipython3",
   "version": 3
  },
  "orig_nbformat": 2,
  "coopTranslator": {
   "original_hash": "523ec472196307b3c4235337353c9ceb",
   "translation_date": "2025-09-06T14:00:17+00:00",
   "source_file": "7-TimeSeries/2-ARIMA/working/notebook.ipynb",
   "language_code": "sl"
  }
 },
 "nbformat": 4,
 "nbformat_minor": 2,
 "cells": [
  {
   "source": [
    "# Napovedovanje časovnih vrst z ARIMA\n",
    "\n",
    "V tem zvezku bomo prikazali, kako:\n",
    "- pripraviti podatke časovnih vrst za učenje napovednega modela ARIMA,\n",
    "- implementirati preprost model ARIMA za napovedovanje naslednjih korakov HORIZON (od časa *t+1* do *t+HORIZON*) v časovni vrsti,\n",
    "- oceniti model.\n",
    "\n",
    "Podatki v tem primeru so vzeti iz tekmovanja za napovedovanje GEFCom2014. Sestavljeni so iz 3 let urnih vrednosti porabe električne energije in temperature med letoma 2012 in 2014. Naloga je napovedati prihodnje vrednosti porabe električne energije. V tem primeru pokažemo, kako napovedati eno časovno točko naprej, pri čemer uporabimo samo zgodovinske podatke o porabi.\n",
    "\n",
    "Tao Hong, Pierre Pinson, Shu Fan, Hamidreza Zareipour, Alberto Troccoli in Rob J. Hyndman, \"Probabilistic energy forecasting: Global Energy Forecasting Competition 2014 and beyond\", International Journal of Forecasting, vol.32, št.3, str. 896-913, julij-september, 2016.\n"
   ],
   "cell_type": "markdown",
   "metadata": {}
  },
  {
   "cell_type": "code",
   "execution_count": null,
   "metadata": {},
   "outputs": [],
   "source": [
    "pip install statsmodels"
   ]
  },
  {
   "cell_type": "markdown",
   "metadata": {},
   "source": [
    "\n---\n\n**Omejitev odgovornosti**:  \nTa dokument je bil preveden z uporabo storitve za strojno prevajanje [Co-op Translator](https://github.com/Azure/co-op-translator). Čeprav si prizadevamo za natančnost, vas prosimo, da upoštevate, da lahko avtomatizirani prevodi vsebujejo napake ali netočnosti. Izvirni dokument v njegovem izvirnem jeziku je treba obravnavati kot avtoritativni vir. Za ključne informacije priporočamo strokovno človeško prevajanje. Ne prevzemamo odgovornosti za morebitna nesporazumevanja ali napačne razlage, ki izhajajo iz uporabe tega prevoda.\n"
   ]
  }
 ]
}