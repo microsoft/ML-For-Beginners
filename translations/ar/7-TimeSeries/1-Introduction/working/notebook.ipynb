{
 "cells": [
  {
   "source": [
    "# إعداد البيانات\n",
    "\n",
    "في هذا الدفتر، نستعرض كيفية:\n",
    "\n",
    "إعداد بيانات السلاسل الزمنية لهذا الوحدة  \n",
    "تصور البيانات  \n",
    "البيانات المستخدمة في هذا المثال مأخوذة من مسابقة التنبؤ GEFCom2014. تتكون من 3 سنوات من بيانات الحمل الكهربائي ودرجات الحرارة على أساس الساعة بين عامي 2012 و2014.\n",
    "\n",
    "1تاو هونغ، بيير بينسون، شو فان، حميد رضا زاريبور، ألبرتو تروكولي وروب جي. هايندمان، \"التنبؤ بالطاقة الاحتمالية: مسابقة التنبؤ بالطاقة العالمية 2014 وما بعدها\"، المجلة الدولية للتنبؤ، المجلد 32، العدد 3، الصفحات 896-913، يوليو-سبتمبر، 2016.\n"
   ],
   "cell_type": "markdown",
   "metadata": {}
  },
  {
   "cell_type": "markdown",
   "metadata": {},
   "source": [
    "\n---\n\n**إخلاء المسؤولية**:  \nتمت ترجمة هذا المستند باستخدام خدمة الترجمة بالذكاء الاصطناعي [Co-op Translator](https://github.com/Azure/co-op-translator). بينما نسعى لتحقيق الدقة، يرجى العلم أن الترجمات الآلية قد تحتوي على أخطاء أو معلومات غير دقيقة. يجب اعتبار المستند الأصلي بلغته الأصلية هو المصدر الموثوق. للحصول على معلومات حساسة، يُوصى بالاستعانة بترجمة بشرية احترافية. نحن غير مسؤولين عن أي سوء فهم أو تفسيرات خاطئة تنشأ عن استخدام هذه الترجمة.\n"
   ]
  }
 ],
 "metadata": {
  "kernel_info": {
   "name": "python3"
  },
  "kernelspec": {
   "name": "python37364bit8d3b438fb5fc4430a93ac2cb74d693a7",
   "display_name": "Python 3.7.0 64-bit ('3.7')"
  },
  "language_info": {
   "codemirror_mode": {
    "name": "ipython",
    "version": 3
   },
   "file_extension": ".py",
   "mimetype": "text/x-python",
   "name": "python",
   "nbconvert_exporter": "python",
   "pygments_lexer": "ipython3",
   "version": "3.7.0"
  },
  "nteract": {
   "version": "nteract-front-end@1.0.0"
  },
  "metadata": {
   "interpreter": {
    "hash": "70b38d7a306a849643e446cd70466270a13445e5987dfa1344ef2b127438fa4d"
   }
  },
  "coopTranslator": {
   "original_hash": "5e2bbe594906dce3aaaa736d6dac6683",
   "translation_date": "2025-08-29T15:05:45+00:00",
   "source_file": "7-TimeSeries/1-Introduction/working/notebook.ipynb",
   "language_code": "ar"
  }
 },
 "nbformat": 4,
 "nbformat_minor": 2
}