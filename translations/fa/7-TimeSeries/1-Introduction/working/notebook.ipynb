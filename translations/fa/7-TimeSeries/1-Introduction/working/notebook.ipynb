{
 "cells": [
  {
   "source": [
    "# تنظیم داده‌ها\n",
    "\n",
    "در این دفترچه، نحوه انجام موارد زیر را نشان می‌دهیم:\n",
    "\n",
    "تنظیم داده‌های سری زمانی برای این ماژول  \n",
    "تصویری‌سازی داده‌ها  \n",
    "\n",
    "داده‌های این مثال از مسابقه پیش‌بینی GEFCom2014 گرفته شده است. این داده‌ها شامل ۳ سال بار الکتریکی ساعتی و مقادیر دما بین سال‌های ۲۰۱۲ تا ۲۰۱۴ می‌باشد.\n",
    "\n",
    "1تائو هونگ، پیر پینسون، شو فن، حمیدرضا زری‌پور، آلبرتو تروکولی و راب جی. هیندمن، \"پیش‌بینی احتمالی انرژی: مسابقه جهانی پیش‌بینی انرژی ۲۰۱۴ و فراتر از آن\"، مجله بین‌المللی پیش‌بینی، جلد ۳۲، شماره ۳، صفحات ۸۹۶-۹۱۳، جولای-سپتامبر، ۲۰۱۶.\n"
   ],
   "cell_type": "markdown",
   "metadata": {}
  },
  {
   "cell_type": "markdown",
   "metadata": {},
   "source": [
    "\n---\n\n**سلب مسئولیت**:  \nاین سند با استفاده از سرویس ترجمه هوش مصنوعی [Co-op Translator](https://github.com/Azure/co-op-translator) ترجمه شده است. در حالی که ما برای دقت تلاش می‌کنیم، لطفاً توجه داشته باشید که ترجمه‌های خودکار ممکن است شامل خطاها یا نادقتی‌ها باشند. سند اصلی به زبان اصلی آن باید به عنوان منبع معتبر در نظر گرفته شود. برای اطلاعات حساس، ترجمه حرفه‌ای انسانی توصیه می‌شود. ما هیچ مسئولیتی در قبال سوءتفاهم‌ها یا تفسیرهای نادرست ناشی از استفاده از این ترجمه نداریم.\n"
   ]
  }
 ],
 "metadata": {
  "kernel_info": {
   "name": "python3"
  },
  "kernelspec": {
   "name": "python37364bit8d3b438fb5fc4430a93ac2cb74d693a7",
   "display_name": "Python 3.7.0 64-bit ('3.7')"
  },
  "language_info": {
   "codemirror_mode": {
    "name": "ipython",
    "version": 3
   },
   "file_extension": ".py",
   "mimetype": "text/x-python",
   "name": "python",
   "nbconvert_exporter": "python",
   "pygments_lexer": "ipython3",
   "version": "3.7.0"
  },
  "nteract": {
   "version": "nteract-front-end@1.0.0"
  },
  "metadata": {
   "interpreter": {
    "hash": "70b38d7a306a849643e446cd70466270a13445e5987dfa1344ef2b127438fa4d"
   }
  },
  "coopTranslator": {
   "original_hash": "5e2bbe594906dce3aaaa736d6dac6683",
   "translation_date": "2025-09-04T01:52:08+00:00",
   "source_file": "7-TimeSeries/1-Introduction/working/notebook.ipynb",
   "language_code": "fa"
  }
 },
 "nbformat": 4,
 "nbformat_minor": 2
}