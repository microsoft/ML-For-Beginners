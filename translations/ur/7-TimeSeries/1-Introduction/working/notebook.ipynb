{
 "cells": [
  {
   "source": [
    "# ڈیٹا سیٹ اپ\n",
    "\n",
    "اس نوٹ بک میں، ہم یہ دکھاتے ہیں کہ:\n",
    "\n",
    "اس ماڈیول کے لیے وقت کے سلسلے کا ڈیٹا کیسے سیٹ اپ کریں\n",
    "ڈیٹا کو کیسے بصری بنائیں\n",
    "اس مثال میں استعمال ہونے والا ڈیٹا GEFCom2014 کی پیش گوئی کے مقابلے سے لیا گیا ہے۔ یہ 2012 سے 2014 کے درمیان 3 سال کے گھنٹہ وار بجلی کے لوڈ اور درجہ حرارت کی قدروں پر مشتمل ہے۔\n",
    "\n",
    "1تاؤ ہونگ، پیئر پنسن، شو فان، حمیدرضا زری پور، البرٹو ٹروکولی اور راب جے ہائنڈمین، \"احتمالی توانائی کی پیش گوئی: گلوبل انرجی فورکاسٹنگ مقابلہ 2014 اور اس کے بعد\"، انٹرنیشنل جرنل آف فورکاسٹنگ، جلد32، نمبر3، صفحات 896-913، جولائی-ستمبر، 2016۔\n"
   ],
   "cell_type": "markdown",
   "metadata": {}
  },
  {
   "cell_type": "markdown",
   "metadata": {},
   "source": [
    "\n---\n\n**ڈسکلیمر**:  \nیہ دستاویز AI ترجمہ سروس [Co-op Translator](https://github.com/Azure/co-op-translator) کا استعمال کرتے ہوئے ترجمہ کی گئی ہے۔ ہم درستگی کے لیے کوشش کرتے ہیں، لیکن براہ کرم آگاہ رہیں کہ خودکار ترجمے میں غلطیاں یا عدم درستگی ہو سکتی ہیں۔ اصل دستاویز، جو اس کی مقامی زبان میں ہے، کو مستند ذریعہ سمجھا جانا چاہیے۔ اہم معلومات کے لیے، پیشہ ور انسانی ترجمہ کی سفارش کی جاتی ہے۔ اس ترجمے کے استعمال سے پیدا ہونے والی کسی بھی غلط فہمی یا غلط تشریح کے لیے ہم ذمہ دار نہیں ہیں۔\n"
   ]
  }
 ],
 "metadata": {
  "kernel_info": {
   "name": "python3"
  },
  "kernelspec": {
   "name": "python37364bit8d3b438fb5fc4430a93ac2cb74d693a7",
   "display_name": "Python 3.7.0 64-bit ('3.7')"
  },
  "language_info": {
   "codemirror_mode": {
    "name": "ipython",
    "version": 3
   },
   "file_extension": ".py",
   "mimetype": "text/x-python",
   "name": "python",
   "nbconvert_exporter": "python",
   "pygments_lexer": "ipython3",
   "version": "3.7.0"
  },
  "nteract": {
   "version": "nteract-front-end@1.0.0"
  },
  "metadata": {
   "interpreter": {
    "hash": "70b38d7a306a849643e446cd70466270a13445e5987dfa1344ef2b127438fa4d"
   }
  },
  "coopTranslator": {
   "original_hash": "5e2bbe594906dce3aaaa736d6dac6683",
   "translation_date": "2025-08-29T15:05:52+00:00",
   "source_file": "7-TimeSeries/1-Introduction/working/notebook.ipynb",
   "language_code": "ur"
  }
 },
 "nbformat": 4,
 "nbformat_minor": 2
}