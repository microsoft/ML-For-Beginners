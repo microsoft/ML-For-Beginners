{
 "cells": [
  {
   "source": [
    "# Настройка данных\n",
    "\n",
    "В этом ноутбуке мы демонстрируем, как:\n",
    "\n",
    "настроить временные ряды данных для этого модуля  \n",
    "визуализировать данные  \n",
    "Данные в этом примере взяты из конкурса прогнозирования GEFCom2014. Они включают 3 года почасовых значений потребления электроэнергии и температуры за период с 2012 по 2014 год.\n",
    "\n",
    "1Таао Хонг, Пьер Пинсон, Шу Фан, Хамидреза Зарейпур, Альберто Трокколи и Роб Дж. Хайндман, \"Вероятностное прогнозирование энергии: Глобальный конкурс прогнозирования энергии 2014 и далее\", International Journal of Forecasting, том 32, №3, стр. 896-913, июль-сентябрь, 2016.\n"
   ],
   "cell_type": "markdown",
   "metadata": {}
  },
  {
   "cell_type": "markdown",
   "metadata": {},
   "source": [
    "\n---\n\n**Отказ от ответственности**:  \nЭтот документ был переведен с помощью сервиса автоматического перевода [Co-op Translator](https://github.com/Azure/co-op-translator). Несмотря на наши усилия обеспечить точность, автоматические переводы могут содержать ошибки или неточности. Оригинальный документ на его родном языке следует считать авторитетным источником. Для получения критически важной информации рекомендуется профессиональный перевод человеком. Мы не несем ответственности за любые недоразумения или неправильные интерпретации, возникшие в результате использования данного перевода.\n"
   ]
  }
 ],
 "metadata": {
  "kernel_info": {
   "name": "python3"
  },
  "kernelspec": {
   "name": "python37364bit8d3b438fb5fc4430a93ac2cb74d693a7",
   "display_name": "Python 3.7.0 64-bit ('3.7')"
  },
  "language_info": {
   "codemirror_mode": {
    "name": "ipython",
    "version": 3
   },
   "file_extension": ".py",
   "mimetype": "text/x-python",
   "name": "python",
   "nbconvert_exporter": "python",
   "pygments_lexer": "ipython3",
   "version": "3.7.0"
  },
  "nteract": {
   "version": "nteract-front-end@1.0.0"
  },
  "metadata": {
   "interpreter": {
    "hash": "70b38d7a306a849643e446cd70466270a13445e5987dfa1344ef2b127438fa4d"
   }
  },
  "coopTranslator": {
   "original_hash": "5e2bbe594906dce3aaaa736d6dac6683",
   "translation_date": "2025-08-29T23:21:31+00:00",
   "source_file": "7-TimeSeries/1-Introduction/working/notebook.ipynb",
   "language_code": "ru"
  }
 },
 "nbformat": 4,
 "nbformat_minor": 2
}