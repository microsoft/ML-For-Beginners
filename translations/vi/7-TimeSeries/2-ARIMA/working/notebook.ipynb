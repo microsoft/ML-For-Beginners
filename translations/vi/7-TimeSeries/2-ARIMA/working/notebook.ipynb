{
 "metadata": {
  "language_info": {
   "codemirror_mode": {
    "name": "ipython",
    "version": 3
   },
   "file_extension": ".py",
   "mimetype": "text/x-python",
   "name": "python",
   "nbconvert_exporter": "python",
   "pygments_lexer": "ipython3",
   "version": 3
  },
  "orig_nbformat": 2,
  "coopTranslator": {
   "original_hash": "523ec472196307b3c4235337353c9ceb",
   "translation_date": "2025-09-06T14:00:55+00:00",
   "source_file": "7-TimeSeries/2-ARIMA/working/notebook.ipynb",
   "language_code": "vi"
  }
 },
 "nbformat": 4,
 "nbformat_minor": 2,
 "cells": [
  {
   "source": [
    "# Dự báo chuỗi thời gian với ARIMA\n",
    "\n",
    "Trong notebook này, chúng ta sẽ thực hiện:\n",
    "- chuẩn bị dữ liệu chuỗi thời gian để huấn luyện mô hình dự báo chuỗi thời gian ARIMA\n",
    "- triển khai một mô hình ARIMA đơn giản để dự báo các bước tiếp theo trong HORIZON (từ thời điểm *t+1* đến *t+HORIZON*) trong chuỗi thời gian\n",
    "- đánh giá mô hình\n",
    "\n",
    "Dữ liệu trong ví dụ này được lấy từ cuộc thi dự báo GEFCom2014. Nó bao gồm 3 năm dữ liệu tải điện và nhiệt độ theo giờ từ năm 2012 đến 2014. Nhiệm vụ là dự báo các giá trị tải điện trong tương lai. Trong ví dụ này, chúng ta sẽ minh họa cách dự báo một bước thời gian tiếp theo, chỉ sử dụng dữ liệu tải điện lịch sử.\n",
    "\n",
    "Tao Hong, Pierre Pinson, Shu Fan, Hamidreza Zareipour, Alberto Troccoli và Rob J. Hyndman, \"Dự báo năng lượng xác suất: Cuộc thi Dự báo Năng lượng Toàn cầu 2014 và xa hơn\", Tạp chí Quốc tế về Dự báo, tập 32, số 3, trang 896-913, tháng 7-tháng 9, 2016.\n"
   ],
   "cell_type": "markdown",
   "metadata": {}
  },
  {
   "cell_type": "code",
   "execution_count": null,
   "metadata": {},
   "outputs": [],
   "source": [
    "pip install statsmodels"
   ]
  },
  {
   "cell_type": "markdown",
   "metadata": {},
   "source": [
    "\n---\n\n**Tuyên bố miễn trừ trách nhiệm**:  \nTài liệu này đã được dịch bằng dịch vụ dịch thuật AI [Co-op Translator](https://github.com/Azure/co-op-translator). Mặc dù chúng tôi cố gắng đảm bảo độ chính xác, xin lưu ý rằng các bản dịch tự động có thể chứa lỗi hoặc không chính xác. Tài liệu gốc bằng ngôn ngữ bản địa nên được coi là nguồn tham khảo chính thức. Đối với các thông tin quan trọng, nên sử dụng dịch vụ dịch thuật chuyên nghiệp từ con người. Chúng tôi không chịu trách nhiệm cho bất kỳ sự hiểu lầm hoặc diễn giải sai nào phát sinh từ việc sử dụng bản dịch này.\n"
   ]
  }
 ]
}