{
 "nbformat": 4,
 "nbformat_minor": 2,
 "metadata": {
  "colab": {
   "name": "lesson_11-R.ipynb",
   "provenance": [],
   "collapsed_sections": [],
   "toc_visible": true
  },
  "kernelspec": {
   "name": "ir",
   "display_name": "R"
  },
  "language_info": {
   "name": "R"
  },
  "coopTranslator": {
   "original_hash": "6ea6a5171b1b99b7b5a55f7469c048d2",
   "translation_date": "2025-08-29T23:42:35+00:00",
   "source_file": "4-Classification/2-Classifiers-1/solution/R/lesson_11-R.ipynb",
   "language_code": "bn"
  }
 },
 "cells": [
  {
   "cell_type": "markdown",
   "source": [
    "# একটি শ্রেণীবিন্যাস মডেল তৈরি করুন: সুস্বাদু এশিয়ান এবং ভারতীয় খাবার\n"
   ],
   "metadata": {
    "id": "zs2woWv_HoE8"
   }
  },
  {
   "cell_type": "markdown",
   "source": [
    "## রান্নার শ্রেণীবিন্যাসকারী ১\n",
    "\n",
    "এই পাঠে, আমরা বিভিন্ন শ্রেণীবিন্যাসকারী নিয়ে আলোচনা করব যা *উপকরণের একটি গোষ্ঠীর উপর ভিত্তি করে একটি নির্দিষ্ট জাতীয় রান্নার পূর্বাভাস দিতে পারে।* এটি করতে গিয়ে, আমরা শিখব কীভাবে শ্রেণীবিন্যাস কাজের জন্য অ্যালগরিদম ব্যবহার করা যায়।\n",
    "\n",
    "### [**পাঠের আগে কুইজ**](https://gray-sand-07a10f403.1.azurestaticapps.net/quiz/21/)\n",
    "\n",
    "### **প্রস্তুতি**\n",
    "\n",
    "এই পাঠটি আমাদের [পূর্ববর্তী পাঠের](https://github.com/microsoft/ML-For-Beginners/blob/main/4-Classification/1-Introduction/solution/lesson_10-R.ipynb) উপর ভিত্তি করে তৈরি, যেখানে আমরা:\n",
    "\n",
    "-   এশিয়া এবং ভারতের সমস্ত অসাধারণ রান্না নিয়ে একটি ডেটাসেট ব্যবহার করে শ্রেণীবিন্যাসের একটি সহজ পরিচিতি দিয়েছিলাম 😋।\n",
    "\n",
    "-   আমাদের ডেটা প্রস্তুত ও পরিষ্কার করার জন্য কিছু [dplyr ক্রিয়া](https://dplyr.tidyverse.org/) অন্বেষণ করেছিলাম।\n",
    "\n",
    "-   ggplot2 ব্যবহার করে সুন্দর ভিজ্যুয়ালাইজেশন তৈরি করেছিলাম।\n",
    "\n",
    "-   [recipes](https://recipes.tidymodels.org/articles/Simple_Example.html) ব্যবহার করে ডেটা প্রিপ্রসেসিংয়ের মাধ্যমে ভারসাম্যহীন ডেটার সাথে কীভাবে কাজ করতে হয় তা দেখিয়েছিলাম।\n",
    "\n",
    "-   আমাদের রেসিপি `prep` এবং `bake` করে নিশ্চিত করেছিলাম যে এটি প্রত্যাশিতভাবে কাজ করবে।\n",
    "\n",
    "#### **প্রয়োজনীয় জ্ঞান**\n",
    "\n",
    "এই পাঠের জন্য, আমাদের ডেটা পরিষ্কার, প্রস্তুত এবং ভিজ্যুয়ালাইজ করার জন্য নিম্নলিখিত প্যাকেজগুলোর প্রয়োজন হবে:\n",
    "\n",
    "-   `tidyverse`: [tidyverse](https://www.tidyverse.org/) হলো একটি [R প্যাকেজের সংগ্রহ](https://www.tidyverse.org/packages) যা ডেটা সায়েন্সকে দ্রুত, সহজ এবং আরও মজাদার করে তোলে!\n",
    "\n",
    "-   `tidymodels`: [tidymodels](https://www.tidymodels.org/) ফ্রেমওয়ার্ক হলো মডেলিং এবং মেশিন লার্নিংয়ের জন্য একটি [প্যাকেজের সংগ্রহ](https://www.tidymodels.org/packages/)।\n",
    "\n",
    "-   `themis`: [themis প্যাকেজ](https://themis.tidymodels.org/) ভারসাম্যহীন ডেটার সাথে কাজ করার জন্য অতিরিক্ত রেসিপি ধাপ সরবরাহ করে।\n",
    "\n",
    "-   `nnet`: [nnet প্যাকেজ](https://cran.r-project.org/web/packages/nnet/nnet.pdf) একটি একক লুকানো স্তর সহ ফিড-ফরোয়ার্ড নিউরাল নেটওয়ার্ক এবং বহুপদী লজিস্টিক রিগ্রেশন মডেল অনুমান করার জন্য ফাংশন সরবরাহ করে।\n",
    "\n",
    "আপনি এগুলো নিম্নলিখিতভাবে ইনস্টল করতে পারেন:\n"
   ],
   "metadata": {
    "id": "iDFOb3ebHwQC"
   }
  },
  {
   "cell_type": "markdown",
   "source": [
    "`install.packages(c(\"tidyverse\", \"tidymodels\", \"DataExplorer\", \"here\"))`\n",
    "\n",
    "অন্যভাবে, নিচের স্ক্রিপ্টটি পরীক্ষা করে দেখবে আপনার কাছে এই মডিউল সম্পন্ন করার জন্য প্রয়োজনীয় প্যাকেজগুলো আছে কিনা এবং যদি না থাকে তবে সেগুলো ইনস্টল করবে।\n"
   ],
   "metadata": {
    "id": "4V85BGCjII7F"
   }
  },
  {
   "cell_type": "code",
   "execution_count": 2,
   "source": [
    "suppressWarnings(if (!require(\"pacman\"))install.packages(\"pacman\"))\r\n",
    "\r\n",
    "pacman::p_load(tidyverse, tidymodels, themis, here)"
   ],
   "outputs": [
    {
     "output_type": "stream",
     "name": "stderr",
     "text": [
      "Loading required package: pacman\n",
      "\n"
     ]
    }
   ],
   "metadata": {
    "colab": {
     "base_uri": "https://localhost:8080/"
    },
    "id": "an5NPyyKIKNR",
    "outputId": "834d5e74-f4b8-49f9-8ab5-4c52ff2d7bc8"
   }
  },
  {
   "cell_type": "markdown",
   "source": [
    "## ১. ডেটাকে প্রশিক্ষণ এবং পরীক্ষার সেটে ভাগ করুন।\n",
    "\n",
    "আমরা আমাদের আগের পাঠ থেকে কিছু ধাপ বেছে নিয়ে শুরু করব।\n",
    "\n",
    "### `dplyr::select()` ব্যবহার করে এমন সাধারণ উপাদানগুলো বাদ দিন যা বিভিন্ন রান্নার মধ্যে বিভ্রান্তি সৃষ্টি করে।\n",
    "\n",
    "সবাইই চাল, রসুন এবং আদা পছন্দ করে!\n"
   ],
   "metadata": {
    "id": "0ax9GQLBINVv"
   }
  },
  {
   "cell_type": "code",
   "execution_count": 3,
   "source": [
    "# Load the original cuisines data\r\n",
    "df <- read_csv(file = \"https://raw.githubusercontent.com/microsoft/ML-For-Beginners/main/4-Classification/data/cuisines.csv\")\r\n",
    "\r\n",
    "# Drop id column, rice, garlic and ginger from our original data set\r\n",
    "df_select <- df %>% \r\n",
    "  select(-c(1, rice, garlic, ginger)) %>%\r\n",
    "  # Encode cuisine column as categorical\r\n",
    "  mutate(cuisine = factor(cuisine))\r\n",
    "\r\n",
    "# Display new data set\r\n",
    "df_select %>% \r\n",
    "  slice_head(n = 5)\r\n",
    "\r\n",
    "# Display distribution of cuisines\r\n",
    "df_select %>% \r\n",
    "  count(cuisine) %>% \r\n",
    "  arrange(desc(n))"
   ],
   "outputs": [
    {
     "output_type": "stream",
     "name": "stderr",
     "text": [
      "New names:\n",
      "* `` -> ...1\n",
      "\n",
      "\u001b[1m\u001b[1mRows: \u001b[1m\u001b[22m\u001b[34m\u001b[34m2448\u001b[34m\u001b[39m \u001b[1m\u001b[1mColumns: \u001b[1m\u001b[22m\u001b[34m\u001b[34m385\u001b[34m\u001b[39m\n",
      "\n",
      "\u001b[36m──\u001b[39m \u001b[1m\u001b[1mColumn specification\u001b[1m\u001b[22m \u001b[36m────────────────────────────────────────────────────────\u001b[39m\n",
      "\u001b[1mDelimiter:\u001b[22m \",\"\n",
      "\u001b[31mchr\u001b[39m   (1): cuisine\n",
      "\u001b[32mdbl\u001b[39m (384): ...1, almond, angelica, anise, anise_seed, apple, apple_brandy, a...\n",
      "\n",
      "\n",
      "\u001b[36mℹ\u001b[39m Use \u001b[30m\u001b[47m\u001b[30m\u001b[47m`spec()`\u001b[47m\u001b[30m\u001b[49m\u001b[39m to retrieve the full column specification for this data.\n",
      "\u001b[36mℹ\u001b[39m Specify the column types or set \u001b[30m\u001b[47m\u001b[30m\u001b[47m`show_col_types = FALSE`\u001b[47m\u001b[30m\u001b[49m\u001b[39m to quiet this message.\n",
      "\n"
     ]
    },
    {
     "output_type": "display_data",
     "data": {
      "text/plain": [
       "  cuisine almond angelica anise anise_seed apple apple_brandy apricot armagnac\n",
       "1 indian  0      0        0     0          0     0            0       0       \n",
       "2 indian  1      0        0     0          0     0            0       0       \n",
       "3 indian  0      0        0     0          0     0            0       0       \n",
       "4 indian  0      0        0     0          0     0            0       0       \n",
       "5 indian  0      0        0     0          0     0            0       0       \n",
       "  artemisia ⋯ whiskey white_bread white_wine whole_grain_wheat_flour wine wood\n",
       "1 0         ⋯ 0       0           0          0                       0    0   \n",
       "2 0         ⋯ 0       0           0          0                       0    0   \n",
       "3 0         ⋯ 0       0           0          0                       0    0   \n",
       "4 0         ⋯ 0       0           0          0                       0    0   \n",
       "5 0         ⋯ 0       0           0          0                       0    0   \n",
       "  yam yeast yogurt zucchini\n",
       "1 0   0     0      0       \n",
       "2 0   0     0      0       \n",
       "3 0   0     0      0       \n",
       "4 0   0     0      0       \n",
       "5 0   0     1      0       "
      ],
      "text/markdown": [
       "\n",
       "A tibble: 5 × 381\n",
       "\n",
       "| cuisine &lt;fct&gt; | almond &lt;dbl&gt; | angelica &lt;dbl&gt; | anise &lt;dbl&gt; | anise_seed &lt;dbl&gt; | apple &lt;dbl&gt; | apple_brandy &lt;dbl&gt; | apricot &lt;dbl&gt; | armagnac &lt;dbl&gt; | artemisia &lt;dbl&gt; | ⋯ ⋯ | whiskey &lt;dbl&gt; | white_bread &lt;dbl&gt; | white_wine &lt;dbl&gt; | whole_grain_wheat_flour &lt;dbl&gt; | wine &lt;dbl&gt; | wood &lt;dbl&gt; | yam &lt;dbl&gt; | yeast &lt;dbl&gt; | yogurt &lt;dbl&gt; | zucchini &lt;dbl&gt; |\n",
       "|---|---|---|---|---|---|---|---|---|---|---|---|---|---|---|---|---|---|---|---|---|\n",
       "| indian | 0 | 0 | 0 | 0 | 0 | 0 | 0 | 0 | 0 | ⋯ | 0 | 0 | 0 | 0 | 0 | 0 | 0 | 0 | 0 | 0 |\n",
       "| indian | 1 | 0 | 0 | 0 | 0 | 0 | 0 | 0 | 0 | ⋯ | 0 | 0 | 0 | 0 | 0 | 0 | 0 | 0 | 0 | 0 |\n",
       "| indian | 0 | 0 | 0 | 0 | 0 | 0 | 0 | 0 | 0 | ⋯ | 0 | 0 | 0 | 0 | 0 | 0 | 0 | 0 | 0 | 0 |\n",
       "| indian | 0 | 0 | 0 | 0 | 0 | 0 | 0 | 0 | 0 | ⋯ | 0 | 0 | 0 | 0 | 0 | 0 | 0 | 0 | 0 | 0 |\n",
       "| indian | 0 | 0 | 0 | 0 | 0 | 0 | 0 | 0 | 0 | ⋯ | 0 | 0 | 0 | 0 | 0 | 0 | 0 | 0 | 1 | 0 |\n",
       "\n"
      ],
      "text/latex": [
       "A tibble: 5 × 381\n",
       "\\begin{tabular}{lllllllllllllllllllll}\n",
       " cuisine & almond & angelica & anise & anise\\_seed & apple & apple\\_brandy & apricot & armagnac & artemisia & ⋯ & whiskey & white\\_bread & white\\_wine & whole\\_grain\\_wheat\\_flour & wine & wood & yam & yeast & yogurt & zucchini\\\\\n",
       " <fct> & <dbl> & <dbl> & <dbl> & <dbl> & <dbl> & <dbl> & <dbl> & <dbl> & <dbl> & ⋯ & <dbl> & <dbl> & <dbl> & <dbl> & <dbl> & <dbl> & <dbl> & <dbl> & <dbl> & <dbl>\\\\\n",
       "\\hline\n",
       "\t indian & 0 & 0 & 0 & 0 & 0 & 0 & 0 & 0 & 0 & ⋯ & 0 & 0 & 0 & 0 & 0 & 0 & 0 & 0 & 0 & 0\\\\\n",
       "\t indian & 1 & 0 & 0 & 0 & 0 & 0 & 0 & 0 & 0 & ⋯ & 0 & 0 & 0 & 0 & 0 & 0 & 0 & 0 & 0 & 0\\\\\n",
       "\t indian & 0 & 0 & 0 & 0 & 0 & 0 & 0 & 0 & 0 & ⋯ & 0 & 0 & 0 & 0 & 0 & 0 & 0 & 0 & 0 & 0\\\\\n",
       "\t indian & 0 & 0 & 0 & 0 & 0 & 0 & 0 & 0 & 0 & ⋯ & 0 & 0 & 0 & 0 & 0 & 0 & 0 & 0 & 0 & 0\\\\\n",
       "\t indian & 0 & 0 & 0 & 0 & 0 & 0 & 0 & 0 & 0 & ⋯ & 0 & 0 & 0 & 0 & 0 & 0 & 0 & 0 & 1 & 0\\\\\n",
       "\\end{tabular}\n"
      ],
      "text/html": [
       "<table class=\"dataframe\">\n",
       "<caption>A tibble: 5 × 381</caption>\n",
       "<thead>\n",
       "\t<tr><th scope=col>cuisine</th><th scope=col>almond</th><th scope=col>angelica</th><th scope=col>anise</th><th scope=col>anise_seed</th><th scope=col>apple</th><th scope=col>apple_brandy</th><th scope=col>apricot</th><th scope=col>armagnac</th><th scope=col>artemisia</th><th scope=col>⋯</th><th scope=col>whiskey</th><th scope=col>white_bread</th><th scope=col>white_wine</th><th scope=col>whole_grain_wheat_flour</th><th scope=col>wine</th><th scope=col>wood</th><th scope=col>yam</th><th scope=col>yeast</th><th scope=col>yogurt</th><th scope=col>zucchini</th></tr>\n",
       "\t<tr><th scope=col>&lt;fct&gt;</th><th scope=col>&lt;dbl&gt;</th><th scope=col>&lt;dbl&gt;</th><th scope=col>&lt;dbl&gt;</th><th scope=col>&lt;dbl&gt;</th><th scope=col>&lt;dbl&gt;</th><th scope=col>&lt;dbl&gt;</th><th scope=col>&lt;dbl&gt;</th><th scope=col>&lt;dbl&gt;</th><th scope=col>&lt;dbl&gt;</th><th scope=col>⋯</th><th scope=col>&lt;dbl&gt;</th><th scope=col>&lt;dbl&gt;</th><th scope=col>&lt;dbl&gt;</th><th scope=col>&lt;dbl&gt;</th><th scope=col>&lt;dbl&gt;</th><th scope=col>&lt;dbl&gt;</th><th scope=col>&lt;dbl&gt;</th><th scope=col>&lt;dbl&gt;</th><th scope=col>&lt;dbl&gt;</th><th scope=col>&lt;dbl&gt;</th></tr>\n",
       "</thead>\n",
       "<tbody>\n",
       "\t<tr><td>indian</td><td>0</td><td>0</td><td>0</td><td>0</td><td>0</td><td>0</td><td>0</td><td>0</td><td>0</td><td>⋯</td><td>0</td><td>0</td><td>0</td><td>0</td><td>0</td><td>0</td><td>0</td><td>0</td><td>0</td><td>0</td></tr>\n",
       "\t<tr><td>indian</td><td>1</td><td>0</td><td>0</td><td>0</td><td>0</td><td>0</td><td>0</td><td>0</td><td>0</td><td>⋯</td><td>0</td><td>0</td><td>0</td><td>0</td><td>0</td><td>0</td><td>0</td><td>0</td><td>0</td><td>0</td></tr>\n",
       "\t<tr><td>indian</td><td>0</td><td>0</td><td>0</td><td>0</td><td>0</td><td>0</td><td>0</td><td>0</td><td>0</td><td>⋯</td><td>0</td><td>0</td><td>0</td><td>0</td><td>0</td><td>0</td><td>0</td><td>0</td><td>0</td><td>0</td></tr>\n",
       "\t<tr><td>indian</td><td>0</td><td>0</td><td>0</td><td>0</td><td>0</td><td>0</td><td>0</td><td>0</td><td>0</td><td>⋯</td><td>0</td><td>0</td><td>0</td><td>0</td><td>0</td><td>0</td><td>0</td><td>0</td><td>0</td><td>0</td></tr>\n",
       "\t<tr><td>indian</td><td>0</td><td>0</td><td>0</td><td>0</td><td>0</td><td>0</td><td>0</td><td>0</td><td>0</td><td>⋯</td><td>0</td><td>0</td><td>0</td><td>0</td><td>0</td><td>0</td><td>0</td><td>0</td><td>1</td><td>0</td></tr>\n",
       "</tbody>\n",
       "</table>\n"
      ]
     },
     "metadata": {}
    },
    {
     "output_type": "display_data",
     "data": {
      "text/plain": [
       "  cuisine  n  \n",
       "1 korean   799\n",
       "2 indian   598\n",
       "3 chinese  442\n",
       "4 japanese 320\n",
       "5 thai     289"
      ],
      "text/markdown": [
       "\n",
       "A tibble: 5 × 2\n",
       "\n",
       "| cuisine &lt;fct&gt; | n &lt;int&gt; |\n",
       "|---|---|\n",
       "| korean   | 799 |\n",
       "| indian   | 598 |\n",
       "| chinese  | 442 |\n",
       "| japanese | 320 |\n",
       "| thai     | 289 |\n",
       "\n"
      ],
      "text/latex": [
       "A tibble: 5 × 2\n",
       "\\begin{tabular}{ll}\n",
       " cuisine & n\\\\\n",
       " <fct> & <int>\\\\\n",
       "\\hline\n",
       "\t korean   & 799\\\\\n",
       "\t indian   & 598\\\\\n",
       "\t chinese  & 442\\\\\n",
       "\t japanese & 320\\\\\n",
       "\t thai     & 289\\\\\n",
       "\\end{tabular}\n"
      ],
      "text/html": [
       "<table class=\"dataframe\">\n",
       "<caption>A tibble: 5 × 2</caption>\n",
       "<thead>\n",
       "\t<tr><th scope=col>cuisine</th><th scope=col>n</th></tr>\n",
       "\t<tr><th scope=col>&lt;fct&gt;</th><th scope=col>&lt;int&gt;</th></tr>\n",
       "</thead>\n",
       "<tbody>\n",
       "\t<tr><td>korean  </td><td>799</td></tr>\n",
       "\t<tr><td>indian  </td><td>598</td></tr>\n",
       "\t<tr><td>chinese </td><td>442</td></tr>\n",
       "\t<tr><td>japanese</td><td>320</td></tr>\n",
       "\t<tr><td>thai    </td><td>289</td></tr>\n",
       "</tbody>\n",
       "</table>\n"
      ]
     },
     "metadata": {}
    }
   ],
   "metadata": {
    "colab": {
     "base_uri": "https://localhost:8080/",
     "height": 735
    },
    "id": "jhCrrH22IWVR",
    "outputId": "d444a85c-1d8b-485f-bc4f-8be2e8f8217c"
   }
  },
  {
   "cell_type": "markdown",
   "source": [
    "দারুণ! এখন ডেটা এমনভাবে ভাগ করার সময় এসেছে যাতে ৭০% ডেটা প্রশিক্ষণের জন্য এবং ৩০% ডেটা পরীক্ষার জন্য যায়। আমরা ডেটা ভাগ করার সময় `stratification` পদ্ধতিও প্রয়োগ করব, যাতে প্রশিক্ষণ এবং যাচাইকরণ ডেটাসেটে প্রতিটি রান্নার ধরন (cuisine)-এর অনুপাত বজায় থাকে।\n",
    "\n",
    "[rsample](https://rsample.tidymodels.org/), যা Tidymodels-এর একটি প্যাকেজ, কার্যকর ডেটা ভাগ এবং পুনঃনমুনার জন্য অবকাঠামো প্রদান করে:\n"
   ],
   "metadata": {
    "id": "AYTjVyajIdny"
   }
  },
  {
   "cell_type": "code",
   "execution_count": 4,
   "source": [
    "# Load the core Tidymodels packages into R session\r\n",
    "library(tidymodels)\r\n",
    "\r\n",
    "# Create split specification\r\n",
    "set.seed(2056)\r\n",
    "cuisines_split <- initial_split(data = df_select,\r\n",
    "                                strata = cuisine,\r\n",
    "                                prop = 0.7)\r\n",
    "\r\n",
    "# Extract the data in each split\r\n",
    "cuisines_train <- training(cuisines_split)\r\n",
    "cuisines_test <- testing(cuisines_split)\r\n",
    "\r\n",
    "# Print the number of cases in each split\r\n",
    "cat(\"Training cases: \", nrow(cuisines_train), \"\\n\",\r\n",
    "    \"Test cases: \", nrow(cuisines_test), sep = \"\")\r\n",
    "\r\n",
    "# Display the first few rows of the training set\r\n",
    "cuisines_train %>% \r\n",
    "  slice_head(n = 5)\r\n",
    "\r\n",
    "\r\n",
    "# Display distribution of cuisines in the training set\r\n",
    "cuisines_train %>% \r\n",
    "  count(cuisine) %>% \r\n",
    "  arrange(desc(n))"
   ],
   "outputs": [
    {
     "output_type": "stream",
     "name": "stdout",
     "text": [
      "Training cases: 1712\n",
      "Test cases: 736"
     ]
    },
    {
     "output_type": "display_data",
     "data": {
      "text/plain": [
       "  cuisine almond angelica anise anise_seed apple apple_brandy apricot armagnac\n",
       "1 chinese 0      0        0     0          0     0            0       0       \n",
       "2 chinese 0      0        0     0          0     0            0       0       \n",
       "3 chinese 0      0        0     0          0     0            0       0       \n",
       "4 chinese 0      0        0     0          0     0            0       0       \n",
       "5 chinese 0      0        0     0          0     0            0       0       \n",
       "  artemisia ⋯ whiskey white_bread white_wine whole_grain_wheat_flour wine wood\n",
       "1 0         ⋯ 0       0           0          0                       1    0   \n",
       "2 0         ⋯ 0       0           0          0                       1    0   \n",
       "3 0         ⋯ 0       0           0          0                       0    0   \n",
       "4 0         ⋯ 0       0           0          0                       0    0   \n",
       "5 0         ⋯ 0       0           0          0                       0    0   \n",
       "  yam yeast yogurt zucchini\n",
       "1 0   0     0      0       \n",
       "2 0   0     0      0       \n",
       "3 0   0     0      0       \n",
       "4 0   0     0      0       \n",
       "5 0   0     0      0       "
      ],
      "text/markdown": [
       "\n",
       "A tibble: 5 × 381\n",
       "\n",
       "| cuisine &lt;fct&gt; | almond &lt;dbl&gt; | angelica &lt;dbl&gt; | anise &lt;dbl&gt; | anise_seed &lt;dbl&gt; | apple &lt;dbl&gt; | apple_brandy &lt;dbl&gt; | apricot &lt;dbl&gt; | armagnac &lt;dbl&gt; | artemisia &lt;dbl&gt; | ⋯ ⋯ | whiskey &lt;dbl&gt; | white_bread &lt;dbl&gt; | white_wine &lt;dbl&gt; | whole_grain_wheat_flour &lt;dbl&gt; | wine &lt;dbl&gt; | wood &lt;dbl&gt; | yam &lt;dbl&gt; | yeast &lt;dbl&gt; | yogurt &lt;dbl&gt; | zucchini &lt;dbl&gt; |\n",
       "|---|---|---|---|---|---|---|---|---|---|---|---|---|---|---|---|---|---|---|---|---|\n",
       "| chinese | 0 | 0 | 0 | 0 | 0 | 0 | 0 | 0 | 0 | ⋯ | 0 | 0 | 0 | 0 | 1 | 0 | 0 | 0 | 0 | 0 |\n",
       "| chinese | 0 | 0 | 0 | 0 | 0 | 0 | 0 | 0 | 0 | ⋯ | 0 | 0 | 0 | 0 | 1 | 0 | 0 | 0 | 0 | 0 |\n",
       "| chinese | 0 | 0 | 0 | 0 | 0 | 0 | 0 | 0 | 0 | ⋯ | 0 | 0 | 0 | 0 | 0 | 0 | 0 | 0 | 0 | 0 |\n",
       "| chinese | 0 | 0 | 0 | 0 | 0 | 0 | 0 | 0 | 0 | ⋯ | 0 | 0 | 0 | 0 | 0 | 0 | 0 | 0 | 0 | 0 |\n",
       "| chinese | 0 | 0 | 0 | 0 | 0 | 0 | 0 | 0 | 0 | ⋯ | 0 | 0 | 0 | 0 | 0 | 0 | 0 | 0 | 0 | 0 |\n",
       "\n"
      ],
      "text/latex": [
       "A tibble: 5 × 381\n",
       "\\begin{tabular}{lllllllllllllllllllll}\n",
       " cuisine & almond & angelica & anise & anise\\_seed & apple & apple\\_brandy & apricot & armagnac & artemisia & ⋯ & whiskey & white\\_bread & white\\_wine & whole\\_grain\\_wheat\\_flour & wine & wood & yam & yeast & yogurt & zucchini\\\\\n",
       " <fct> & <dbl> & <dbl> & <dbl> & <dbl> & <dbl> & <dbl> & <dbl> & <dbl> & <dbl> & ⋯ & <dbl> & <dbl> & <dbl> & <dbl> & <dbl> & <dbl> & <dbl> & <dbl> & <dbl> & <dbl>\\\\\n",
       "\\hline\n",
       "\t chinese & 0 & 0 & 0 & 0 & 0 & 0 & 0 & 0 & 0 & ⋯ & 0 & 0 & 0 & 0 & 1 & 0 & 0 & 0 & 0 & 0\\\\\n",
       "\t chinese & 0 & 0 & 0 & 0 & 0 & 0 & 0 & 0 & 0 & ⋯ & 0 & 0 & 0 & 0 & 1 & 0 & 0 & 0 & 0 & 0\\\\\n",
       "\t chinese & 0 & 0 & 0 & 0 & 0 & 0 & 0 & 0 & 0 & ⋯ & 0 & 0 & 0 & 0 & 0 & 0 & 0 & 0 & 0 & 0\\\\\n",
       "\t chinese & 0 & 0 & 0 & 0 & 0 & 0 & 0 & 0 & 0 & ⋯ & 0 & 0 & 0 & 0 & 0 & 0 & 0 & 0 & 0 & 0\\\\\n",
       "\t chinese & 0 & 0 & 0 & 0 & 0 & 0 & 0 & 0 & 0 & ⋯ & 0 & 0 & 0 & 0 & 0 & 0 & 0 & 0 & 0 & 0\\\\\n",
       "\\end{tabular}\n"
      ],
      "text/html": [
       "<table class=\"dataframe\">\n",
       "<caption>A tibble: 5 × 381</caption>\n",
       "<thead>\n",
       "\t<tr><th scope=col>cuisine</th><th scope=col>almond</th><th scope=col>angelica</th><th scope=col>anise</th><th scope=col>anise_seed</th><th scope=col>apple</th><th scope=col>apple_brandy</th><th scope=col>apricot</th><th scope=col>armagnac</th><th scope=col>artemisia</th><th scope=col>⋯</th><th scope=col>whiskey</th><th scope=col>white_bread</th><th scope=col>white_wine</th><th scope=col>whole_grain_wheat_flour</th><th scope=col>wine</th><th scope=col>wood</th><th scope=col>yam</th><th scope=col>yeast</th><th scope=col>yogurt</th><th scope=col>zucchini</th></tr>\n",
       "\t<tr><th scope=col>&lt;fct&gt;</th><th scope=col>&lt;dbl&gt;</th><th scope=col>&lt;dbl&gt;</th><th scope=col>&lt;dbl&gt;</th><th scope=col>&lt;dbl&gt;</th><th scope=col>&lt;dbl&gt;</th><th scope=col>&lt;dbl&gt;</th><th scope=col>&lt;dbl&gt;</th><th scope=col>&lt;dbl&gt;</th><th scope=col>&lt;dbl&gt;</th><th scope=col>⋯</th><th scope=col>&lt;dbl&gt;</th><th scope=col>&lt;dbl&gt;</th><th scope=col>&lt;dbl&gt;</th><th scope=col>&lt;dbl&gt;</th><th scope=col>&lt;dbl&gt;</th><th scope=col>&lt;dbl&gt;</th><th scope=col>&lt;dbl&gt;</th><th scope=col>&lt;dbl&gt;</th><th scope=col>&lt;dbl&gt;</th><th scope=col>&lt;dbl&gt;</th></tr>\n",
       "</thead>\n",
       "<tbody>\n",
       "\t<tr><td>chinese</td><td>0</td><td>0</td><td>0</td><td>0</td><td>0</td><td>0</td><td>0</td><td>0</td><td>0</td><td>⋯</td><td>0</td><td>0</td><td>0</td><td>0</td><td>1</td><td>0</td><td>0</td><td>0</td><td>0</td><td>0</td></tr>\n",
       "\t<tr><td>chinese</td><td>0</td><td>0</td><td>0</td><td>0</td><td>0</td><td>0</td><td>0</td><td>0</td><td>0</td><td>⋯</td><td>0</td><td>0</td><td>0</td><td>0</td><td>1</td><td>0</td><td>0</td><td>0</td><td>0</td><td>0</td></tr>\n",
       "\t<tr><td>chinese</td><td>0</td><td>0</td><td>0</td><td>0</td><td>0</td><td>0</td><td>0</td><td>0</td><td>0</td><td>⋯</td><td>0</td><td>0</td><td>0</td><td>0</td><td>0</td><td>0</td><td>0</td><td>0</td><td>0</td><td>0</td></tr>\n",
       "\t<tr><td>chinese</td><td>0</td><td>0</td><td>0</td><td>0</td><td>0</td><td>0</td><td>0</td><td>0</td><td>0</td><td>⋯</td><td>0</td><td>0</td><td>0</td><td>0</td><td>0</td><td>0</td><td>0</td><td>0</td><td>0</td><td>0</td></tr>\n",
       "\t<tr><td>chinese</td><td>0</td><td>0</td><td>0</td><td>0</td><td>0</td><td>0</td><td>0</td><td>0</td><td>0</td><td>⋯</td><td>0</td><td>0</td><td>0</td><td>0</td><td>0</td><td>0</td><td>0</td><td>0</td><td>0</td><td>0</td></tr>\n",
       "</tbody>\n",
       "</table>\n"
      ]
     },
     "metadata": {}
    },
    {
     "output_type": "display_data",
     "data": {
      "text/plain": [
       "  cuisine  n  \n",
       "1 korean   559\n",
       "2 indian   418\n",
       "3 chinese  309\n",
       "4 japanese 224\n",
       "5 thai     202"
      ],
      "text/markdown": [
       "\n",
       "A tibble: 5 × 2\n",
       "\n",
       "| cuisine &lt;fct&gt; | n &lt;int&gt; |\n",
       "|---|---|\n",
       "| korean   | 559 |\n",
       "| indian   | 418 |\n",
       "| chinese  | 309 |\n",
       "| japanese | 224 |\n",
       "| thai     | 202 |\n",
       "\n"
      ],
      "text/latex": [
       "A tibble: 5 × 2\n",
       "\\begin{tabular}{ll}\n",
       " cuisine & n\\\\\n",
       " <fct> & <int>\\\\\n",
       "\\hline\n",
       "\t korean   & 559\\\\\n",
       "\t indian   & 418\\\\\n",
       "\t chinese  & 309\\\\\n",
       "\t japanese & 224\\\\\n",
       "\t thai     & 202\\\\\n",
       "\\end{tabular}\n"
      ],
      "text/html": [
       "<table class=\"dataframe\">\n",
       "<caption>A tibble: 5 × 2</caption>\n",
       "<thead>\n",
       "\t<tr><th scope=col>cuisine</th><th scope=col>n</th></tr>\n",
       "\t<tr><th scope=col>&lt;fct&gt;</th><th scope=col>&lt;int&gt;</th></tr>\n",
       "</thead>\n",
       "<tbody>\n",
       "\t<tr><td>korean  </td><td>559</td></tr>\n",
       "\t<tr><td>indian  </td><td>418</td></tr>\n",
       "\t<tr><td>chinese </td><td>309</td></tr>\n",
       "\t<tr><td>japanese</td><td>224</td></tr>\n",
       "\t<tr><td>thai    </td><td>202</td></tr>\n",
       "</tbody>\n",
       "</table>\n"
      ]
     },
     "metadata": {}
    }
   ],
   "metadata": {
    "colab": {
     "base_uri": "https://localhost:8080/",
     "height": 535
    },
    "id": "w5FWIkEiIjdN",
    "outputId": "2e195fd9-1a8f-4b91-9573-cce5582242df"
   }
  },
  {
   "cell_type": "markdown",
   "source": [
    "## 2. ভারসাম্যহীন ডেটার সাথে কাজ করা\n",
    "\n",
    "আপনি হয়তো লক্ষ্য করেছেন যে মূল ডেটাসেট এবং আমাদের প্রশিক্ষণ সেটে রান্নার ধরনগুলোর সংখ্যায় বেশ অসম বণ্টন রয়েছে। কোরিয়ান রান্নার সংখ্যা *প্রায়* থাই রান্নার সংখ্যার তিন গুণ। ভারসাম্যহীন ডেটা প্রায়শই মডেলের কার্যকারিতার উপর নেতিবাচক প্রভাব ফেলে। অনেক মডেল তখনই সবচেয়ে ভালো কাজ করে যখন পর্যবেক্ষণের সংখ্যা সমান হয় এবং তাই ভারসাম্যহীন ডেটার সাথে কাজ করতে গিয়ে সমস্যায় পড়ে।\n",
    "\n",
    "ভারসাম্যহীন ডেটাসেটের সাথে কাজ করার দুটি প্রধান উপায় রয়েছে:\n",
    "\n",
    "-   সংখ্যালঘু শ্রেণিতে পর্যবেক্ষণ যোগ করা: `Over-sampling`, যেমন SMOTE অ্যালগরিদম ব্যবহার করা, যা সংখ্যালঘু শ্রেণির নতুন উদাহরণ কৃত্রিমভাবে তৈরি করে এই কেসগুলোর নিকটতম প্রতিবেশীদের ব্যবহার করে।\n",
    "\n",
    "-   সংখ্যাগরিষ্ঠ শ্রেণি থেকে পর্যবেক্ষণ সরিয়ে ফেলা: `Under-sampling`\n",
    "\n",
    "আমাদের আগের পাঠে, আমরা একটি `recipe` ব্যবহার করে কীভাবে ভারসাম্যহীন ডেটাসেটের সাথে কাজ করতে হয় তা দেখিয়েছি। একটি রেসিপিকে এমন একটি নকশা হিসেবে ভাবা যেতে পারে যা বর্ণনা করে যে ডেটাসেটকে ডেটা বিশ্লেষণের জন্য প্রস্তুত করতে কী কী ধাপ প্রয়োগ করা উচিত। আমাদের ক্ষেত্রে, আমরা চাই আমাদের `training set`-এ রান্নার ধরনগুলোর সংখ্যায় সমান বণ্টন থাকুক। চলুন, সরাসরি কাজ শুরু করি।\n"
   ],
   "metadata": {
    "id": "daBi9qJNIwqW"
   }
  },
  {
   "cell_type": "code",
   "execution_count": 5,
   "source": [
    "# Load themis package for dealing with imbalanced data\r\n",
    "library(themis)\r\n",
    "\r\n",
    "# Create a recipe for preprocessing training data\r\n",
    "cuisines_recipe <- recipe(cuisine ~ ., data = cuisines_train) %>% \r\n",
    "  step_smote(cuisine)\r\n",
    "\r\n",
    "# Print recipe\r\n",
    "cuisines_recipe"
   ],
   "outputs": [
    {
     "output_type": "display_data",
     "data": {
      "text/plain": [
       "Data Recipe\n",
       "\n",
       "Inputs:\n",
       "\n",
       "      role #variables\n",
       "   outcome          1\n",
       " predictor        380\n",
       "\n",
       "Operations:\n",
       "\n",
       "SMOTE based on cuisine"
      ]
     },
     "metadata": {}
    }
   ],
   "metadata": {
    "colab": {
     "base_uri": "https://localhost:8080/",
     "height": 200
    },
    "id": "Az6LFBGxI1X0",
    "outputId": "29d71d85-64b0-4e62-871e-bcd5398573b6"
   }
  },
  {
   "cell_type": "markdown",
   "source": [
    "আপনি অবশ্যই নিশ্চিত করতে পারেন (prep + bake ব্যবহার করে) যে রেসিপিটি আপনার প্রত্যাশা অনুযায়ী কাজ করবে - সব কুইজিন লেবেলে `559`টি পর্যবেক্ষণ রয়েছে।\n",
    "\n",
    "যেহেতু আমরা এই রেসিপিটিকে মডেলিংয়ের জন্য একটি প্রিপ্রসেসর হিসেবে ব্যবহার করব, একটি `workflow()` আমাদের জন্য সমস্ত prep এবং bake সম্পন্ন করবে, তাই আমাদের রেসিপিটি ম্যানুয়ালি অনুমান করতে হবে না।\n",
    "\n",
    "এখন আমরা একটি মডেল প্রশিক্ষণের জন্য প্রস্তুত 👩‍💻👨‍💻!\n",
    "\n",
    "## ৩. আপনার ক্লাসিফায়ার নির্বাচন করা\n",
    "\n",
    "<p >\n",
    "   <img src=\"../../images/parsnip.jpg\"\n",
    "   width=\"600\"/>\n",
    "   <figcaption>@allison_horst এর শিল্পকর্ম</figcaption>\n"
   ],
   "metadata": {
    "id": "NBL3PqIWJBBB"
   }
  },
  {
   "cell_type": "markdown",
   "source": [
    "এখন আমাদের সিদ্ধান্ত নিতে হবে কোন অ্যালগরিদমটি এই কাজের জন্য ব্যবহার করা হবে 🤔।\n",
    "\n",
    "Tidymodels-এ, [`parsnip প্যাকেজ`](https://parsnip.tidymodels.org/index.html) বিভিন্ন ইঞ্জিন (প্যাকেজ) জুড়ে মডেলের সাথে কাজ করার জন্য একটি সঙ্গতিপূর্ণ ইন্টারফেস প্রদান করে। দয়া করে parsnip ডকুমেন্টেশনটি দেখুন [মডেলের ধরন ও ইঞ্জিন](https://www.tidymodels.org/find/parsnip/#models) এবং তাদের সংশ্লিষ্ট [মডেল আর্গুমেন্ট](https://www.tidymodels.org/find/parsnip/#model-args) অন্বেষণ করার জন্য। প্রথম দেখায় বৈচিত্র্যটি বেশ বিভ্রান্তিকর মনে হতে পারে। উদাহরণস্বরূপ, নিম্নলিখিত পদ্ধতিগুলি সবই শ্রেণীবিন্যাস কৌশল অন্তর্ভুক্ত করে:\n",
    "\n",
    "-   C5.0 রুল-ভিত্তিক শ্রেণীবিন্যাস মডেল\n",
    "\n",
    "-   ফ্লেক্সিবল ডিসক্রিমিন্যান্ট মডেল\n",
    "\n",
    "-   লিনিয়ার ডিসক্রিমিন্যান্ট মডেল\n",
    "\n",
    "-   রেগুলারাইজড ডিসক্রিমিন্যান্ট মডেল\n",
    "\n",
    "-   লজিস্টিক রিগ্রেশন মডেল\n",
    "\n",
    "-   মাল্টিনোমিয়াল রিগ্রেশন মডেল\n",
    "\n",
    "-   নেভ বেইজ মডেল\n",
    "\n",
    "-   সাপোর্ট ভেক্টর মেশিন\n",
    "\n",
    "-   নিকটতম প্রতিবেশী\n",
    "\n",
    "-   ডিসিশন ট্রি\n",
    "\n",
    "-   এনসেম্বল পদ্ধতি\n",
    "\n",
    "-   নিউরাল নেটওয়ার্ক\n",
    "\n",
    "তালিকাটি চলতেই থাকে!\n",
    "\n",
    "### **কোন শ্রেণীবিন্যাসকারী বেছে নেবেন?**\n",
    "\n",
    "তাহলে, কোন শ্রেণীবিন্যাসকারীটি আপনি বেছে নেবেন? প্রায়শই, কয়েকটি চালিয়ে দেখা এবং একটি ভালো ফলাফলের জন্য পরীক্ষা করা একটি উপায়।\n",
    "\n",
    "> AutoML এই সমস্যাটি চমৎকারভাবে সমাধান করে ক্লাউডে এই তুলনাগুলি চালিয়ে, আপনার ডেটার জন্য সেরা অ্যালগরিদমটি বেছে নেওয়ার সুযোগ দেয়। এটি [এখানে](https://docs.microsoft.com/learn/modules/automate-model-selection-with-azure-automl/?WT.mc_id=academic-77952-leestott) চেষ্টা করুন।\n",
    "\n",
    "এছাড়াও শ্রেণীবিন্যাসকারীর পছন্দ আমাদের সমস্যার উপর নির্ভর করে। উদাহরণস্বরূপ, যখন ফলাফলটি `দুইটির বেশি শ্রেণীতে` শ্রেণীবদ্ধ করা যায়, যেমন আমাদের ক্ষেত্রে, আপনাকে `মাল্টিক্লাস শ্রেণীবিন্যাস অ্যালগরিদম` ব্যবহার করতে হবে `বাইনারি শ্রেণীবিন্যাস` এর পরিবর্তে।\n",
    "\n",
    "### **একটি ভালো পদ্ধতি**\n",
    "\n",
    "তবে, এলোমেলোভাবে অনুমান করার চেয়ে একটি ভালো উপায় হল এই ডাউনলোডযোগ্য [ML চিট শিট](https://docs.microsoft.com/azure/machine-learning/algorithm-cheat-sheet?WT.mc_id=academic-77952-leestott)-এর ধারণাগুলি অনুসরণ করা। এখানে, আমরা আবিষ্কার করি যে, আমাদের মাল্টিক্লাস সমস্যার জন্য, আমাদের কিছু বিকল্প রয়েছে:\n",
    "\n",
    "<p >\n",
    "   <img src=\"../../images/cheatsheet.png\"\n",
    "   width=\"500\"/>\n",
    "   <figcaption>মাইক্রোসফটের অ্যালগরিদম চিট শিটের একটি অংশ, যেখানে মাল্টিক্লাস শ্রেণীবিন্যাসের বিকল্পগুলি দেখানো হয়েছে</figcaption>\n"
   ],
   "metadata": {
    "id": "a6DLAZ3vJZ14"
   }
  },
  {
   "cell_type": "markdown",
   "source": [
    "### **যুক্তি**\n",
    "\n",
    "চলুন আমরা বিভিন্ন পদ্ধতির মাধ্যমে সমস্যার সমাধান করার চেষ্টা করি, আমাদের সীমাবদ্ধতাগুলো মাথায় রেখে:\n",
    "\n",
    "-   **ডিপ নিউরাল নেটওয়ার্ক খুব ভারী।** আমাদের ডেটাসেট পরিষ্কার কিন্তু সীমিত, এবং আমরা লোকাল নোটবুকে ট্রেনিং চালাচ্ছি, তাই ডিপ নিউরাল নেটওয়ার্ক এই কাজের জন্য খুব ভারী।\n",
    "\n",
    "-   **দুই-শ্রেণীর ক্লাসিফায়ার নয়।** আমরা দুই-শ্রেণীর ক্লাসিফায়ার ব্যবহার করছি না, তাই এটি এক-ভি-অল পদ্ধতিকে বাদ দেয়।\n",
    "\n",
    "-   **ডিসিশন ট্রি বা লজিস্টিক রিগ্রেশন কাজ করতে পারে।** ডিসিশন ট্রি কাজ করতে পারে, অথবা মাল্টিনোমিয়াল রিগ্রেশন/মাল্টিক্লাস লজিস্টিক রিগ্রেশন মাল্টিক্লাস ডেটার জন্য কার্যকর হতে পারে।\n",
    "\n",
    "-   **মাল্টিক্লাস বুস্টেড ডিসিশন ট্রি ভিন্ন সমস্যা সমাধান করে।** মাল্টিক্লাস বুস্টেড ডিসিশন ট্রি সাধারণত নন-প্যারামেট্রিক কাজের জন্য উপযুক্ত, যেমন র‍্যাঙ্কিং তৈরি করার কাজ, তাই এটি আমাদের জন্য কার্যকর নয়।\n",
    "\n",
    "সাধারণত, জটিল মেশিন লার্নিং মডেল যেমন এনসেম্বল পদ্ধতি শুরু করার আগে, সবচেয়ে সহজ মডেল তৈরি করা ভালো, যাতে বোঝা যায় কী ঘটছে। তাই এই পাঠে আমরা `মাল্টিনোমিয়াল রিগ্রেশন` মডেল দিয়ে শুরু করব।\n",
    "\n",
    "> লজিস্টিক রিগ্রেশন একটি পদ্ধতি যা ব্যবহার করা হয় যখন আউটকাম ভ্যারিয়েবল ক্যাটেগরিক্যাল (বা নামমাত্র) হয়। বাইনারি লজিস্টিক রিগ্রেশনের ক্ষেত্রে আউটকাম ভ্যারিয়েবল দুইটি হয়, যেখানে মাল্টিনোমিয়াল লজিস্টিক রিগ্রেশনের ক্ষেত্রে আউটকাম ভ্যারিয়েবল দুইটির বেশি হয়। আরও জানতে [Advanced Regression Methods](https://bookdown.org/chua/ber642_advanced_regression/multinomial-logistic-regression.html) দেখুন।\n",
    "\n",
    "## ৪. মাল্টিনোমিয়াল লজিস্টিক রিগ্রেশন মডেল ট্রেন এবং মূল্যায়ন করুন।\n",
    "\n",
    "Tidymodels-এ, `parsnip::multinom_reg()` একটি মডেল সংজ্ঞায়িত করে যা লিনিয়ার প্রেডিক্টর ব্যবহার করে মাল্টিক্লাস ডেটা মাল্টিনোমিয়াল ডিস্ট্রিবিউশন দিয়ে প্রেডিক্ট করে। এই মডেল ফিট করার বিভিন্ন উপায়/ইঞ্জিন দেখতে `?multinom_reg()` দেখুন।\n",
    "\n",
    "এই উদাহরণে, আমরা ডিফল্ট [nnet](https://cran.r-project.org/web/packages/nnet/nnet.pdf) ইঞ্জিন ব্যবহার করে একটি মাল্টিনোমিয়াল রিগ্রেশন মডেল ফিট করব।\n",
    "\n",
    "> আমি `penalty` এর একটি মান এলোমেলোভাবে বেছে নিয়েছি। এই মান বেছে নেওয়ার আরও ভালো উপায় আছে, যেমন `resampling` এবং মডেল `tuning` করা, যা আমরা পরে আলোচনা করব।\n",
    ">\n",
    "> মডেল হাইপারপ্যারামিটার টিউনিং সম্পর্কে আরও জানতে [Tidymodels: Get Started](https://www.tidymodels.org/start/tuning/) দেখুন।\n"
   ],
   "metadata": {
    "id": "gWMsVcbBJemu"
   }
  },
  {
   "cell_type": "code",
   "execution_count": 6,
   "source": [
    "# Create a multinomial regression model specification\r\n",
    "mr_spec <- multinom_reg(penalty = 1) %>% \r\n",
    "  set_engine(\"nnet\", MaxNWts = 2086) %>% \r\n",
    "  set_mode(\"classification\")\r\n",
    "\r\n",
    "# Print model specification\r\n",
    "mr_spec"
   ],
   "outputs": [
    {
     "output_type": "display_data",
     "data": {
      "text/plain": [
       "Multinomial Regression Model Specification (classification)\n",
       "\n",
       "Main Arguments:\n",
       "  penalty = 1\n",
       "\n",
       "Engine-Specific Arguments:\n",
       "  MaxNWts = 2086\n",
       "\n",
       "Computational engine: nnet \n"
      ]
     },
     "metadata": {}
    }
   ],
   "metadata": {
    "colab": {
     "base_uri": "https://localhost:8080/",
     "height": 166
    },
    "id": "Wq_fcyQiJvfG",
    "outputId": "c30449c7-3864-4be7-f810-72a003743e2d"
   }
  },
  {
   "cell_type": "markdown",
   "source": [
    "দারুণ কাজ 🥳! এখন যেহেতু আমাদের কাছে একটি রেসিপি এবং একটি মডেল স্পেসিফিকেশন রয়েছে, আমাদের সেগুলো একসাথে একটি অবজেক্টে সংযুক্ত করার উপায় খুঁজতে হবে যা প্রথমে ডেটা প্রিপ্রসেস করবে, তারপর প্রিপ্রসেসড ডেটার উপর মডেল ফিট করবে এবং সম্ভাব্য পোস্ট-প্রসেসিং কার্যক্রমের জন্যও সুযোগ দেবে। Tidymodels-এ, এই সুবিধাজনক অবজেক্টটিকে [`workflow`](https://workflows.tidymodels.org/) বলা হয় এবং এটি আপনার মডেলিং কম্পোনেন্টগুলোকে সহজভাবে ধরে রাখে! এটিকে আমরা *Python*-এ *pipelines* বলি।\n",
    "\n",
    "তাহলে চলুন সবকিছু একটি workflow-এ সংযুক্ত করি!📦\n"
   ],
   "metadata": {
    "id": "NlSbzDfgJ0zh"
   }
  },
  {
   "cell_type": "code",
   "execution_count": 7,
   "source": [
    "# Bundle recipe and model specification\r\n",
    "mr_wf <- workflow() %>% \r\n",
    "  add_recipe(cuisines_recipe) %>% \r\n",
    "  add_model(mr_spec)\r\n",
    "\r\n",
    "# Print out workflow\r\n",
    "mr_wf"
   ],
   "outputs": [
    {
     "output_type": "display_data",
     "data": {
      "text/plain": [
       "══ Workflow ════════════════════════════════════════════════════════════════════\n",
       "\u001b[3mPreprocessor:\u001b[23m Recipe\n",
       "\u001b[3mModel:\u001b[23m multinom_reg()\n",
       "\n",
       "── Preprocessor ────────────────────────────────────────────────────────────────\n",
       "1 Recipe Step\n",
       "\n",
       "• step_smote()\n",
       "\n",
       "── Model ───────────────────────────────────────────────────────────────────────\n",
       "Multinomial Regression Model Specification (classification)\n",
       "\n",
       "Main Arguments:\n",
       "  penalty = 1\n",
       "\n",
       "Engine-Specific Arguments:\n",
       "  MaxNWts = 2086\n",
       "\n",
       "Computational engine: nnet \n"
      ]
     },
     "metadata": {}
    }
   ],
   "metadata": {
    "colab": {
     "base_uri": "https://localhost:8080/",
     "height": 333
    },
    "id": "Sc1TfPA4Ke3_",
    "outputId": "82c70013-e431-4e7e-cef6-9fcf8aad4a6c"
   }
  },
  {
   "cell_type": "markdown",
   "source": [
    "ওয়ার্কফ্লো 👌👌! একটি **`workflow()`** প্রায় একইভাবে ফিট করা যায় যেভাবে একটি মডেল ফিট করা যায়। তাহলে, মডেল প্রশিক্ষণের সময়!\n"
   ],
   "metadata": {
    "id": "TNQ8i85aKf9L"
   }
  },
  {
   "cell_type": "code",
   "execution_count": 8,
   "source": [
    "# Train a multinomial regression model\n",
    "mr_fit <- fit(object = mr_wf, data = cuisines_train)\n",
    "\n",
    "mr_fit"
   ],
   "outputs": [
    {
     "output_type": "display_data",
     "data": {
      "text/plain": [
       "══ Workflow [trained] ══════════════════════════════════════════════════════════\n",
       "\u001b[3mPreprocessor:\u001b[23m Recipe\n",
       "\u001b[3mModel:\u001b[23m multinom_reg()\n",
       "\n",
       "── Preprocessor ────────────────────────────────────────────────────────────────\n",
       "1 Recipe Step\n",
       "\n",
       "• step_smote()\n",
       "\n",
       "── Model ───────────────────────────────────────────────────────────────────────\n",
       "Call:\n",
       "nnet::multinom(formula = ..y ~ ., data = data, decay = ~1, MaxNWts = ~2086, \n",
       "    trace = FALSE)\n",
       "\n",
       "Coefficients:\n",
       "         (Intercept)     almond angelica         anise anise_seed       apple\n",
       "indian    0.19723325  0.2409661        0 -5.004955e-05 -0.1657635 -0.05769734\n",
       "japanese  0.13961959 -0.6262400        0 -1.169155e-04 -0.4893596 -0.08585717\n",
       "korean    0.22377347 -0.1833485        0 -5.560395e-05 -0.2489401 -0.15657804\n",
       "thai     -0.04336577 -0.6106258        0  4.903828e-04 -0.5782866  0.63451105\n",
       "         apple_brandy     apricot armagnac   artemisia artichoke   asparagus\n",
       "indian              0  0.37042636        0 -0.09122797         0 -0.27181970\n",
       "japanese            0  0.28895643        0 -0.12651100         0  0.14054037\n",
       "korean              0 -0.07981259        0  0.55756709         0 -0.66979948\n",
       "thai                0 -0.33160904        0 -0.10725182         0 -0.02602152\n",
       "             avocado       bacon baked_potato balm     banana     barley\n",
       "indian   -0.46624197  0.16008055            0    0 -0.2838796  0.2230625\n",
       "japanese  0.90341344  0.02932727            0    0 -0.4142787  2.0953906\n",
       "korean   -0.06925382 -0.35804134            0    0 -0.2686963 -0.7233404\n",
       "thai     -0.21473955 -0.75594439            0    0  0.6784880 -0.4363320\n",
       "         bartlett_pear      basil        bay       bean         beech\n",
       "indian               0 -0.7128756  0.1011587 -0.8777275 -0.0004380795\n",
       "japanese             0  0.1288697  0.9425626 -0.2380748  0.3373437611\n",
       "korean               0 -0.2445193 -0.4744318 -0.8957870 -0.0048784496\n",
       "thai                 0  1.5365848  0.1333256  0.2196970 -0.0113078024\n",
       "               beef beef_broth   beef_liver         beer        beet\n",
       "indian   -0.7985278  0.2430186 -0.035598065 -0.002173738  0.01005813\n",
       "japanese  0.2241875 -0.3653020 -0.139551027  0.128905553  0.04923911\n",
       "korean    0.5366515 -0.6153237  0.213455197 -0.010828645  0.27325423\n",
       "thai      0.1570012 -0.9364154 -0.008032213 -0.035063746 -0.28279823\n",
       "         bell_pepper bergamot       berry bitter_orange black_bean\n",
       "indian    0.49074330        0  0.58947607   0.191256164 -0.1945233\n",
       "japanese  0.09074167        0 -0.25917977  -0.118915977 -0.3442400\n",
       "korean   -0.57876763        0 -0.07874180  -0.007729435 -0.5220672\n",
       "thai      0.92554006        0 -0.07210196  -0.002983296 -0.4614426\n",
       "         black_currant black_mustard_seed_oil black_pepper black_raspberry\n",
       "indian               0             0.38935801   -0.4453495               0\n",
       "japanese             0            -0.05452887   -0.5440869               0\n",
       "korean               0            -0.03929970    0.8025454               0\n",
       "thai                 0            -0.21498372   -0.9854806               0\n",
       "         black_sesame_seed  black_tea   blackberry blackberry_brandy\n",
       "indian          -0.2759246  0.3079977  0.191256164                 0\n",
       "japanese        -0.6101687 -0.1671913 -0.118915977                 0\n",
       "korean           1.5197674 -0.3036261 -0.007729435                 0\n",
       "thai            -0.1755656 -0.1487033 -0.002983296                 0\n",
       "         blue_cheese    blueberry   bone_oil bourbon_whiskey      brandy\n",
       "indian             0  0.216164294 -0.2276744               0  0.22427587\n",
       "japanese           0 -0.119186087  0.3913019               0 -0.15595599\n",
       "korean             0 -0.007821986  0.2854487               0 -0.02562342\n",
       "thai               0 -0.004947048 -0.0253658               0 -0.05715244\n",
       "\n",
       "...\n",
       "and 308 more lines."
      ]
     },
     "metadata": {}
    }
   ],
   "metadata": {
    "colab": {
     "base_uri": "https://localhost:8080/",
     "height": 1000
    },
    "id": "GMbdfVmTKkJI",
    "outputId": "adf9ebdf-d69d-4a64-e9fd-e06e5322292e"
   }
  },
  {
   "cell_type": "markdown",
   "source": [
    "মডেল প্রশিক্ষণের সময় যে সহগগুলো শিখেছে, সেগুলো আউটপুটে প্রদর্শিত হয়।\n",
    "\n",
    "### প্রশিক্ষিত মডেল মূল্যায়ন করুন\n",
    "\n",
    "এখন সময় এসেছে মডেলটি কেমন কাজ করেছে তা মূল্যায়ন করার 📏, একটি টেস্ট সেটের উপর পরীক্ষা করে! চলুন শুরু করি টেস্ট সেটের উপর পূর্বাভাস তৈরি করে।\n"
   ],
   "metadata": {
    "id": "tt2BfOxrKmcJ"
   }
  },
  {
   "cell_type": "code",
   "execution_count": 9,
   "source": [
    "# Make predictions on the test set\n",
    "results <- cuisines_test %>% select(cuisine) %>% \n",
    "  bind_cols(mr_fit %>% predict(new_data = cuisines_test))\n",
    "\n",
    "# Print out results\n",
    "results %>% \n",
    "  slice_head(n = 5)"
   ],
   "outputs": [
    {
     "output_type": "display_data",
     "data": {
      "text/plain": [
       "  cuisine .pred_class\n",
       "1 indian  thai       \n",
       "2 indian  indian     \n",
       "3 indian  indian     \n",
       "4 indian  indian     \n",
       "5 indian  indian     "
      ],
      "text/markdown": [
       "\n",
       "A tibble: 5 × 2\n",
       "\n",
       "| cuisine &lt;fct&gt; | .pred_class &lt;fct&gt; |\n",
       "|---|---|\n",
       "| indian | thai   |\n",
       "| indian | indian |\n",
       "| indian | indian |\n",
       "| indian | indian |\n",
       "| indian | indian |\n",
       "\n"
      ],
      "text/latex": [
       "A tibble: 5 × 2\n",
       "\\begin{tabular}{ll}\n",
       " cuisine & .pred\\_class\\\\\n",
       " <fct> & <fct>\\\\\n",
       "\\hline\n",
       "\t indian & thai  \\\\\n",
       "\t indian & indian\\\\\n",
       "\t indian & indian\\\\\n",
       "\t indian & indian\\\\\n",
       "\t indian & indian\\\\\n",
       "\\end{tabular}\n"
      ],
      "text/html": [
       "<table class=\"dataframe\">\n",
       "<caption>A tibble: 5 × 2</caption>\n",
       "<thead>\n",
       "\t<tr><th scope=col>cuisine</th><th scope=col>.pred_class</th></tr>\n",
       "\t<tr><th scope=col>&lt;fct&gt;</th><th scope=col>&lt;fct&gt;</th></tr>\n",
       "</thead>\n",
       "<tbody>\n",
       "\t<tr><td>indian</td><td>thai  </td></tr>\n",
       "\t<tr><td>indian</td><td>indian</td></tr>\n",
       "\t<tr><td>indian</td><td>indian</td></tr>\n",
       "\t<tr><td>indian</td><td>indian</td></tr>\n",
       "\t<tr><td>indian</td><td>indian</td></tr>\n",
       "</tbody>\n",
       "</table>\n"
      ]
     },
     "metadata": {}
    }
   ],
   "metadata": {
    "colab": {
     "base_uri": "https://localhost:8080/",
     "height": 248
    },
    "id": "CqtckvtsKqax",
    "outputId": "e57fe557-6a68-4217-fe82-173328c5436d"
   }
  },
  {
   "cell_type": "markdown",
   "source": [
    "দারুণ কাজ! Tidymodels-এ, মডেলের কার্যকারিতা মূল্যায়ন করা যেতে পারে [yardstick](https://yardstick.tidymodels.org/) ব্যবহার করে - একটি প্যাকেজ যা কর্মক্ষমতার মেট্রিক ব্যবহার করে মডেলের কার্যকারিতা পরিমাপ করতে ব্যবহৃত হয়। যেমনটি আমরা আমাদের লজিস্টিক রিগ্রেশন পাঠে করেছি, চলুন একটি কনফিউশন ম্যাট্রিক্স গণনা করে শুরু করি।\n"
   ],
   "metadata": {
    "id": "8w5N6XsBKss7"
   }
  },
  {
   "cell_type": "code",
   "execution_count": 10,
   "source": [
    "# Confusion matrix for categorical data\n",
    "conf_mat(data = results, truth = cuisine, estimate = .pred_class)\n"
   ],
   "outputs": [
    {
     "output_type": "display_data",
     "data": {
      "text/plain": [
       "          Truth\n",
       "Prediction chinese indian japanese korean thai\n",
       "  chinese       83      1        8     15   10\n",
       "  indian         4    163        1      2    6\n",
       "  japanese      21      5       73     25    1\n",
       "  korean        15      0       11    191    0\n",
       "  thai          10     11        3      7   70"
      ]
     },
     "metadata": {}
    }
   ],
   "metadata": {
    "colab": {
     "base_uri": "https://localhost:8080/",
     "height": 133
    },
    "id": "YvODvsLkK0iG",
    "outputId": "bb69da84-1266-47ad-b174-d43b88ca2988"
   }
  },
  {
   "cell_type": "markdown",
   "source": [
    "যখন একাধিক শ্রেণীর সাথে কাজ করা হয়, এটি সাধারণত একটি তাপ মানচিত্র হিসাবে কল্পনা করা আরও সহজ হয়, যেমন:\n"
   ],
   "metadata": {
    "id": "c0HfPL16Lr6U"
   }
  },
  {
   "cell_type": "code",
   "execution_count": 11,
   "source": [
    "update_geom_defaults(geom = \"tile\", new = list(color = \"black\", alpha = 0.7))\n",
    "# Visualize confusion matrix\n",
    "results %>% \n",
    "  conf_mat(cuisine, .pred_class) %>% \n",
    "  autoplot(type = \"heatmap\")"
   ],
   "outputs": [
    {
     "output_type": "display_data",
     "data": {
      "text/plain": [
       "plot without title"
      ],
      "image/png": "[encoded data removed]"
     },
     "metadata": {
      "image/png": {
       "width": 420,
       "height": 420
      }
     }
    }
   ],
   "metadata": {
    "colab": {
     "base_uri": "https://localhost:8080/",
     "height": 436
    },
    "id": "HsAtwukyLsvt",
    "outputId": "3032a224-a2c8-4270-b4f2-7bb620317400"
   }
  },
  {
   "cell_type": "markdown",
   "source": [
    "কনফিউশন ম্যাট্রিক্স প্লটে গাঢ় রঙের বর্গগুলো উচ্চ সংখ্যক কেস নির্দেশ করে, এবং আপনি সম্ভবত গাঢ় রঙের বর্গগুলোর একটি তির্যক রেখা দেখতে পাবেন যা নির্দেশ করে যে যেখানে প্রেডিক্টেড এবং প্রকৃত লেবেল একই।\n",
    "\n",
    "এখন চলুন কনফিউশন ম্যাট্রিক্সের জন্য সারসংক্ষেপ পরিসংখ্যান গণনা করি।\n"
   ],
   "metadata": {
    "id": "oOJC87dkLwPr"
   }
  },
  {
   "cell_type": "code",
   "execution_count": 12,
   "source": [
    "# Summary stats for confusion matrix\n",
    "conf_mat(data = results, truth = cuisine, estimate = .pred_class) %>% \n",
    "summary()"
   ],
   "outputs": [
    {
     "output_type": "display_data",
     "data": {
      "text/plain": [
       "   .metric              .estimator .estimate\n",
       "1  accuracy             multiclass 0.7880435\n",
       "2  kap                  multiclass 0.7276583\n",
       "3  sens                 macro      0.7780927\n",
       "4  spec                 macro      0.9477598\n",
       "5  ppv                  macro      0.7585583\n",
       "6  npv                  macro      0.9460080\n",
       "7  mcc                  multiclass 0.7292724\n",
       "8  j_index              macro      0.7258524\n",
       "9  bal_accuracy         macro      0.8629262\n",
       "10 detection_prevalence macro      0.2000000\n",
       "11 precision            macro      0.7585583\n",
       "12 recall               macro      0.7780927\n",
       "13 f_meas               macro      0.7641862"
      ],
      "text/markdown": [
       "\n",
       "A tibble: 13 × 3\n",
       "\n",
       "| .metric &lt;chr&gt; | .estimator &lt;chr&gt; | .estimate &lt;dbl&gt; |\n",
       "|---|---|---|\n",
       "| accuracy             | multiclass | 0.7880435 |\n",
       "| kap                  | multiclass | 0.7276583 |\n",
       "| sens                 | macro      | 0.7780927 |\n",
       "| spec                 | macro      | 0.9477598 |\n",
       "| ppv                  | macro      | 0.7585583 |\n",
       "| npv                  | macro      | 0.9460080 |\n",
       "| mcc                  | multiclass | 0.7292724 |\n",
       "| j_index              | macro      | 0.7258524 |\n",
       "| bal_accuracy         | macro      | 0.8629262 |\n",
       "| detection_prevalence | macro      | 0.2000000 |\n",
       "| precision            | macro      | 0.7585583 |\n",
       "| recall               | macro      | 0.7780927 |\n",
       "| f_meas               | macro      | 0.7641862 |\n",
       "\n"
      ],
      "text/latex": [
       "A tibble: 13 × 3\n",
       "\\begin{tabular}{lll}\n",
       " .metric & .estimator & .estimate\\\\\n",
       " <chr> & <chr> & <dbl>\\\\\n",
       "\\hline\n",
       "\t accuracy             & multiclass & 0.7880435\\\\\n",
       "\t kap                  & multiclass & 0.7276583\\\\\n",
       "\t sens                 & macro      & 0.7780927\\\\\n",
       "\t spec                 & macro      & 0.9477598\\\\\n",
       "\t ppv                  & macro      & 0.7585583\\\\\n",
       "\t npv                  & macro      & 0.9460080\\\\\n",
       "\t mcc                  & multiclass & 0.7292724\\\\\n",
       "\t j\\_index              & macro      & 0.7258524\\\\\n",
       "\t bal\\_accuracy         & macro      & 0.8629262\\\\\n",
       "\t detection\\_prevalence & macro      & 0.2000000\\\\\n",
       "\t precision            & macro      & 0.7585583\\\\\n",
       "\t recall               & macro      & 0.7780927\\\\\n",
       "\t f\\_meas               & macro      & 0.7641862\\\\\n",
       "\\end{tabular}\n"
      ],
      "text/html": [
       "<table class=\"dataframe\">\n",
       "<caption>A tibble: 13 × 3</caption>\n",
       "<thead>\n",
       "\t<tr><th scope=col>.metric</th><th scope=col>.estimator</th><th scope=col>.estimate</th></tr>\n",
       "\t<tr><th scope=col>&lt;chr&gt;</th><th scope=col>&lt;chr&gt;</th><th scope=col>&lt;dbl&gt;</th></tr>\n",
       "</thead>\n",
       "<tbody>\n",
       "\t<tr><td>accuracy            </td><td>multiclass</td><td>0.7880435</td></tr>\n",
       "\t<tr><td>kap                 </td><td>multiclass</td><td>0.7276583</td></tr>\n",
       "\t<tr><td>sens                </td><td>macro     </td><td>0.7780927</td></tr>\n",
       "\t<tr><td>spec                </td><td>macro     </td><td>0.9477598</td></tr>\n",
       "\t<tr><td>ppv                 </td><td>macro     </td><td>0.7585583</td></tr>\n",
       "\t<tr><td>npv                 </td><td>macro     </td><td>0.9460080</td></tr>\n",
       "\t<tr><td>mcc                 </td><td>multiclass</td><td>0.7292724</td></tr>\n",
       "\t<tr><td>j_index             </td><td>macro     </td><td>0.7258524</td></tr>\n",
       "\t<tr><td>bal_accuracy        </td><td>macro     </td><td>0.8629262</td></tr>\n",
       "\t<tr><td>detection_prevalence</td><td>macro     </td><td>0.2000000</td></tr>\n",
       "\t<tr><td>precision           </td><td>macro     </td><td>0.7585583</td></tr>\n",
       "\t<tr><td>recall              </td><td>macro     </td><td>0.7780927</td></tr>\n",
       "\t<tr><td>f_meas              </td><td>macro     </td><td>0.7641862</td></tr>\n",
       "</tbody>\n",
       "</table>\n"
      ]
     },
     "metadata": {}
    }
   ],
   "metadata": {
    "colab": {
     "base_uri": "https://localhost:8080/",
     "height": 494
    },
    "id": "OYqetUyzL5Wz",
    "outputId": "6a84d65e-113d-4281-dfc1-16e8b70f37e6"
   }
  },
  {
   "cell_type": "markdown",
   "source": [
    "যদি আমরা কিছু মেট্রিক যেমন সঠিকতা, সংবেদনশীলতা, ppv-তে সীমাবদ্ধ থাকি, তাহলে শুরু করার জন্য আমরা খুব একটা খারাপ অবস্থায় নেই 🥳!\n",
    "\n",
    "## ৪. গভীরে অনুসন্ধান\n",
    "\n",
    "চলুন একটি সূক্ষ্ম প্রশ্ন করি: কোন মানদণ্ড ব্যবহার করে একটি নির্দিষ্ট ধরনের খাবারকে পূর্বাভাসিত ফলাফল হিসেবে নির্ধারণ করা হয়?\n",
    "\n",
    "আসলে, পরিসংখ্যানগত মেশিন লার্নিং অ্যালগরিদম, যেমন লজিস্টিক রিগ্রেশন, `সম্ভাবনা`-এর উপর ভিত্তি করে কাজ করে; তাই একটি ক্লাসিফায়ার দ্বারা যা পূর্বাভাসিত হয় তা হলো সম্ভাব্য ফলাফলের একটি সেটের উপর সম্ভাবনা বিতরণ। সর্বোচ্চ সম্ভাবনা সহ ক্লাসটি তারপর প্রদত্ত পর্যবেক্ষণের জন্য সবচেয়ে সম্ভাব্য ফলাফল হিসেবে নির্বাচিত হয়।\n",
    "\n",
    "চলুন এটি বাস্তবে দেখি, কঠিন ক্লাস পূর্বাভাস এবং সম্ভাবনার মাধ্যমে।\n"
   ],
   "metadata": {
    "id": "43t7vz8vMJtW"
   }
  },
  {
   "cell_type": "code",
   "execution_count": 13,
   "source": [
    "# Make hard class prediction and probabilities\n",
    "results_prob <- cuisines_test %>%\n",
    "  select(cuisine) %>% \n",
    "  bind_cols(mr_fit %>% predict(new_data = cuisines_test)) %>% \n",
    "  bind_cols(mr_fit %>% predict(new_data = cuisines_test, type = \"prob\"))\n",
    "\n",
    "# Print out results\n",
    "results_prob %>% \n",
    "  slice_head(n = 5)"
   ],
   "outputs": [
    {
     "output_type": "display_data",
     "data": {
      "text/plain": [
       "  cuisine .pred_class .pred_chinese .pred_indian .pred_japanese .pred_korean\n",
       "1 indian  thai        1.551259e-03  0.4587877    5.988039e-04   2.428503e-04\n",
       "2 indian  indian      2.637133e-05  0.9999488    6.648651e-07   2.259993e-05\n",
       "3 indian  indian      1.049433e-03  0.9909982    1.060937e-03   1.644947e-05\n",
       "4 indian  indian      6.237482e-02  0.4763035    9.136702e-02   3.660913e-01\n",
       "5 indian  indian      1.431745e-02  0.9418551    2.945239e-02   8.721782e-03\n",
       "  .pred_thai  \n",
       "1 5.388194e-01\n",
       "2 1.577948e-06\n",
       "3 6.874989e-03\n",
       "4 3.863391e-03\n",
       "5 5.653283e-03"
      ],
      "text/markdown": [
       "\n",
       "A tibble: 5 × 7\n",
       "\n",
       "| cuisine &lt;fct&gt; | .pred_class &lt;fct&gt; | .pred_chinese &lt;dbl&gt; | .pred_indian &lt;dbl&gt; | .pred_japanese &lt;dbl&gt; | .pred_korean &lt;dbl&gt; | .pred_thai &lt;dbl&gt; |\n",
       "|---|---|---|---|---|---|---|\n",
       "| indian | thai   | 1.551259e-03 | 0.4587877 | 5.988039e-04 | 2.428503e-04 | 5.388194e-01 |\n",
       "| indian | indian | 2.637133e-05 | 0.9999488 | 6.648651e-07 | 2.259993e-05 | 1.577948e-06 |\n",
       "| indian | indian | 1.049433e-03 | 0.9909982 | 1.060937e-03 | 1.644947e-05 | 6.874989e-03 |\n",
       "| indian | indian | 6.237482e-02 | 0.4763035 | 9.136702e-02 | 3.660913e-01 | 3.863391e-03 |\n",
       "| indian | indian | 1.431745e-02 | 0.9418551 | 2.945239e-02 | 8.721782e-03 | 5.653283e-03 |\n",
       "\n"
      ],
      "text/latex": [
       "A tibble: 5 × 7\n",
       "\\begin{tabular}{lllllll}\n",
       " cuisine & .pred\\_class & .pred\\_chinese & .pred\\_indian & .pred\\_japanese & .pred\\_korean & .pred\\_thai\\\\\n",
       " <fct> & <fct> & <dbl> & <dbl> & <dbl> & <dbl> & <dbl>\\\\\n",
       "\\hline\n",
       "\t indian & thai   & 1.551259e-03 & 0.4587877 & 5.988039e-04 & 2.428503e-04 & 5.388194e-01\\\\\n",
       "\t indian & indian & 2.637133e-05 & 0.9999488 & 6.648651e-07 & 2.259993e-05 & 1.577948e-06\\\\\n",
       "\t indian & indian & 1.049433e-03 & 0.9909982 & 1.060937e-03 & 1.644947e-05 & 6.874989e-03\\\\\n",
       "\t indian & indian & 6.237482e-02 & 0.4763035 & 9.136702e-02 & 3.660913e-01 & 3.863391e-03\\\\\n",
       "\t indian & indian & 1.431745e-02 & 0.9418551 & 2.945239e-02 & 8.721782e-03 & 5.653283e-03\\\\\n",
       "\\end{tabular}\n"
      ],
      "text/html": [
       "<table class=\"dataframe\">\n",
       "<caption>A tibble: 5 × 7</caption>\n",
       "<thead>\n",
       "\t<tr><th scope=col>cuisine</th><th scope=col>.pred_class</th><th scope=col>.pred_chinese</th><th scope=col>.pred_indian</th><th scope=col>.pred_japanese</th><th scope=col>.pred_korean</th><th scope=col>.pred_thai</th></tr>\n",
       "\t<tr><th scope=col>&lt;fct&gt;</th><th scope=col>&lt;fct&gt;</th><th scope=col>&lt;dbl&gt;</th><th scope=col>&lt;dbl&gt;</th><th scope=col>&lt;dbl&gt;</th><th scope=col>&lt;dbl&gt;</th><th scope=col>&lt;dbl&gt;</th></tr>\n",
       "</thead>\n",
       "<tbody>\n",
       "\t<tr><td>indian</td><td>thai  </td><td>1.551259e-03</td><td>0.4587877</td><td>5.988039e-04</td><td>2.428503e-04</td><td>5.388194e-01</td></tr>\n",
       "\t<tr><td>indian</td><td>indian</td><td>2.637133e-05</td><td>0.9999488</td><td>6.648651e-07</td><td>2.259993e-05</td><td>1.577948e-06</td></tr>\n",
       "\t<tr><td>indian</td><td>indian</td><td>1.049433e-03</td><td>0.9909982</td><td>1.060937e-03</td><td>1.644947e-05</td><td>6.874989e-03</td></tr>\n",
       "\t<tr><td>indian</td><td>indian</td><td>6.237482e-02</td><td>0.4763035</td><td>9.136702e-02</td><td>3.660913e-01</td><td>3.863391e-03</td></tr>\n",
       "\t<tr><td>indian</td><td>indian</td><td>1.431745e-02</td><td>0.9418551</td><td>2.945239e-02</td><td>8.721782e-03</td><td>5.653283e-03</td></tr>\n",
       "</tbody>\n",
       "</table>\n"
      ]
     },
     "metadata": {}
    }
   ],
   "metadata": {
    "colab": {
     "base_uri": "https://localhost:8080/",
     "height": 248
    },
    "id": "xdKNs-ZPMTJL",
    "outputId": "68f6ac5a-725a-4eff-9ea6-481fef00e008"
   }
  },
  {
   "cell_type": "markdown",
   "source": [
    "✅ মডেলটি কেন প্রথম পর্যবেক্ষণটি থাই বলে নিশ্চিত মনে করছে তা ব্যাখ্যা করতে পারবেন?\n",
    "\n",
    "## **🚀চ্যালেঞ্জ**\n",
    "\n",
    "এই পাঠে, আপনি আপনার পরিষ্কার করা ডেটা ব্যবহার করে একটি মেশিন লার্নিং মডেল তৈরি করেছেন যা উপাদানগুলোর একটি সিরিজের উপর ভিত্তি করে একটি জাতীয় রান্নার ধরন অনুমান করতে পারে। Tidymodels-এর মাধ্যমে ডেটা শ্রেণীবদ্ধ করার জন্য [অনেক বিকল্প](https://www.tidymodels.org/find/parsnip/#models) এবং বহুমুখী রিগ্রেশন ফিট করার [অন্যান্য উপায়](https://parsnip.tidymodels.org/articles/articles/Examples.html#multinom_reg-models) সম্পর্কে পড়ার জন্য কিছু সময় নিন।\n",
    "\n",
    "#### ধন্যবাদ জানাই:\n",
    "\n",
    "[`অ্যালিসন হর্স্ট`](https://twitter.com/allison_horst/) কে, যিনি চমৎকার ইলাস্ট্রেশন তৈরি করেছেন যা R-কে আরও আকর্ষণীয় এবং বন্ধুত্বপূর্ণ করে তোলে। তার আরও ইলাস্ট্রেশন খুঁজে পেতে পারেন তার [গ্যালারিতে](https://www.google.com/url?q=https://github.com/allisonhorst/stats-illustrations&sa=D&source=editors&ust=1626380772530000&usg=AOvVaw3zcfyCizFQZpkSLzxiiQEM)।\n",
    "\n",
    "[ক্যাসি ব্রেভিউ](https://www.twitter.com/cassieview) এবং [জেন লুপার](https://www.twitter.com/jenlooper) কে, যারা এই মডিউলের মূল পাইথন সংস্করণ তৈরি করেছেন ♥️\n",
    "\n",
    "<br>\n",
    "কিছু রসিকতা যোগ করতে পারতাম, কিন্তু আমি খাবার-সম্পর্কিত পানের মজা বুঝি না 😅।\n",
    "\n",
    "<br>\n",
    "\n",
    "শুভ শেখা,\n",
    "\n",
    "[এরিক](https://twitter.com/ericntay), গোল্ড মাইক্রোসফট লার্ন স্টুডেন্ট অ্যাম্বাসেডর।\n"
   ],
   "metadata": {
    "id": "2tWVHMeLMYdM"
   }
  },
  {
   "cell_type": "markdown",
   "metadata": {},
   "source": [
    "\n---\n\n**অস্বীকৃতি**:  \nএই নথিটি AI অনুবাদ পরিষেবা [Co-op Translator](https://github.com/Azure/co-op-translator) ব্যবহার করে অনুবাদ করা হয়েছে। আমরা যথাসাধ্য সঠিকতার জন্য চেষ্টা করি, তবে অনুগ্রহ করে মনে রাখবেন যে স্বয়ংক্রিয় অনুবাদে ত্রুটি বা অসঙ্গতি থাকতে পারে। মূল ভাষায় থাকা নথিটিকে প্রামাণিক উৎস হিসেবে বিবেচনা করা উচিত। গুরুত্বপূর্ণ তথ্যের জন্য, পেশাদার মানব অনুবাদ সুপারিশ করা হয়। এই অনুবাদ ব্যবহারের ফলে কোনো ভুল বোঝাবুঝি বা ভুল ব্যাখ্যা হলে আমরা দায়ী থাকব না।\n"
   ]
  }
 ]
}