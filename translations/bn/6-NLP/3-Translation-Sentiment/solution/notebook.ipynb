{
 "metadata": {
  "language_info": {
   "codemirror_mode": {
    "name": "ipython",
    "version": 3
   },
   "file_extension": ".py",
   "mimetype": "text/x-python",
   "name": "python",
   "nbconvert_exporter": "python",
   "pygments_lexer": "ipython3",
   "version": 3
  },
  "orig_nbformat": 4,
  "coopTranslator": {
   "original_hash": "27de2abc0235ebd22080fc8f1107454d",
   "translation_date": "2025-08-30T00:14:42+00:00",
   "source_file": "6-NLP/3-Translation-Sentiment/solution/notebook.ipynb",
   "language_code": "bn"
  }
 },
 "nbformat": 4,
 "nbformat_minor": 2,
 "cells": [
  {
   "cell_type": "code",
   "execution_count": null,
   "metadata": {},
   "outputs": [],
   "source": [
    "from textblob import TextBlob\n"
   ]
  },
  {
   "cell_type": "code",
   "execution_count": null,
   "metadata": {},
   "outputs": [],
   "source": [
    "# You should download the book text, clean it, and import it here\n",
    "with open(\"pride.txt\", encoding=\"utf8\") as f:\n",
    "    file_contents = f.read()\n"
   ]
  },
  {
   "cell_type": "code",
   "execution_count": null,
   "metadata": {},
   "outputs": [],
   "source": [
    "book_pride = TextBlob(file_contents)\n",
    "positive_sentiment_sentences = []\n",
    "negative_sentiment_sentences = []"
   ]
  },
  {
   "cell_type": "code",
   "execution_count": null,
   "metadata": {},
   "outputs": [],
   "source": [
    "for sentence in book_pride.sentences:\n",
    "    if sentence.sentiment.polarity == 1:\n",
    "        positive_sentiment_sentences.append(sentence)\n",
    "    if sentence.sentiment.polarity == -1:\n",
    "        negative_sentiment_sentences.append(sentence)\n"
   ]
  },
  {
   "cell_type": "code",
   "execution_count": null,
   "metadata": {},
   "outputs": [],
   "source": [
    "print(\"The \" + str(len(positive_sentiment_sentences)) + \" most positive sentences:\")\n",
    "for sentence in positive_sentiment_sentences:\n",
    "    print(\"+ \" + str(sentence.replace(\"\\n\", \"\").replace(\"      \", \" \")))\n"
   ]
  },
  {
   "cell_type": "code",
   "execution_count": null,
   "metadata": {},
   "outputs": [],
   "source": [
    "print(\"The \" + str(len(negative_sentiment_sentences)) + \" most negative sentences:\")\n",
    "for sentence in negative_sentiment_sentences:\n",
    "    print(\"- \" + str(sentence.replace(\"\\n\", \"\").replace(\"      \", \" \")))"
   ]
  },
  {
   "cell_type": "markdown",
   "metadata": {},
   "source": [
    "\n---\n\n**অস্বীকৃতি**:  \nএই নথিটি AI অনুবাদ পরিষেবা [Co-op Translator](https://github.com/Azure/co-op-translator) ব্যবহার করে অনুবাদ করা হয়েছে। আমরা যথাসম্ভব সঠিক অনুবাদ প্রদানের চেষ্টা করি, তবে অনুগ্রহ করে মনে রাখবেন যে স্বয়ংক্রিয় অনুবাদে ত্রুটি বা অসঙ্গতি থাকতে পারে। মূল ভাষায় থাকা নথিটিকে প্রামাণিক উৎস হিসেবে বিবেচনা করা উচিত। গুরুত্বপূর্ণ তথ্যের জন্য, পেশাদার মানব অনুবাদ সুপারিশ করা হয়। এই অনুবাদ ব্যবহারের ফলে কোনো ভুল বোঝাবুঝি বা ভুল ব্যাখ্যা হলে আমরা দায়বদ্ধ থাকব না।\n"
   ]
  }
 ]
}