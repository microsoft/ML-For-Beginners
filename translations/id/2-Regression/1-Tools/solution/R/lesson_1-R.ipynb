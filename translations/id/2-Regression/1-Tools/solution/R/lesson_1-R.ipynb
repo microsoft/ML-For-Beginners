{
 "nbformat": 4,
 "nbformat_minor": 2,
 "metadata": {
  "colab": {
   "name": "lesson_1-R.ipynb",
   "provenance": [],
   "collapsed_sections": [],
   "toc_visible": true
  },
  "kernelspec": {
   "name": "ir",
   "display_name": "R"
  },
  "language_info": {
   "name": "R"
  },
  "coopTranslator": {
   "original_hash": "c18d3bd0bd8ae3878597e89dcd1fa5c1",
   "translation_date": "2025-09-04T07:09:48+00:00",
   "source_file": "2-Regression/1-Tools/solution/R/lesson_1-R.ipynb",
   "language_code": "id"
  }
 },
 "cells": [
  {
   "cell_type": "markdown",
   "source": [],
   "metadata": {
    "id": "YJUHCXqK57yz"
   }
  },
  {
   "cell_type": "markdown",
   "source": [
    "## Pengantar ke Regresi - Pelajaran 1\n",
    "\n",
    "#### Memahami dalam konteks\n",
    "\n",
    "✅ Ada banyak jenis metode regresi, dan pilihan metode tergantung pada jawaban yang ingin Anda cari. Jika Anda ingin memprediksi tinggi badan yang mungkin untuk seseorang berdasarkan usia tertentu, Anda akan menggunakan `linear regression`, karena Anda mencari **nilai numerik**. Jika Anda ingin mengetahui apakah jenis masakan tertentu harus dianggap vegan atau tidak, Anda mencari **penentuan kategori**, sehingga Anda akan menggunakan `logistic regression`. Anda akan mempelajari lebih lanjut tentang logistic regression nanti. Pikirkan beberapa pertanyaan yang dapat Anda ajukan dari data, dan metode mana yang lebih sesuai.\n",
    "\n",
    "Di bagian ini, Anda akan bekerja dengan [dataset kecil tentang diabetes](https://www4.stat.ncsu.edu/~boos/var.select/diabetes.html). Bayangkan Anda ingin menguji pengobatan untuk pasien diabetes. Model Machine Learning dapat membantu Anda menentukan pasien mana yang akan merespons pengobatan dengan lebih baik, berdasarkan kombinasi variabel. Bahkan model regresi yang sangat dasar, ketika divisualisasikan, dapat menunjukkan informasi tentang variabel yang dapat membantu Anda mengatur uji klinis teoritis Anda.\n",
    "\n",
    "Dengan demikian, mari kita mulai tugas ini!\n",
    "\n",
    "<p >\n",
    "   <img src=\"../../images/encouRage.jpg\"\n",
    "   width=\"630\"/>\n",
    "   <figcaption>Karya seni oleh @allison_horst</figcaption>\n",
    "\n",
    "<!--![Karya seni oleh \\@allison_horst](../../../../../../2-Regression/1-Tools/images/encouRage.jpg)<br>Karya seni oleh @allison_horst-->\n"
   ],
   "metadata": {
    "id": "LWNNzfqd6feZ"
   }
  },
  {
   "cell_type": "markdown",
   "source": [
    "## 1. Memuat alat-alat kita\n",
    "\n",
    "Untuk tugas ini, kita memerlukan paket-paket berikut:\n",
    "\n",
    "-   `tidyverse`: [tidyverse](https://www.tidyverse.org/) adalah [koleksi paket R](https://www.tidyverse.org/packages) yang dirancang untuk membuat ilmu data lebih cepat, mudah, dan menyenangkan!\n",
    "\n",
    "-   `tidymodels`: Kerangka [tidymodels](https://www.tidymodels.org/) adalah [koleksi paket](https://www.tidymodels.org/packages/) untuk pemodelan dan pembelajaran mesin.\n",
    "\n",
    "Anda dapat menginstalnya dengan:\n",
    "\n",
    "`install.packages(c(\"tidyverse\", \"tidymodels\"))`\n",
    "\n",
    "Script di bawah ini memeriksa apakah Anda memiliki paket-paket yang diperlukan untuk menyelesaikan modul ini dan menginstalnya untuk Anda jika ada yang belum terpasang.\n"
   ],
   "metadata": {
    "id": "FIo2YhO26wI9"
   }
  },
  {
   "cell_type": "code",
   "execution_count": 2,
   "source": [
    "suppressWarnings(if(!require(\"pacman\")) install.packages(\"pacman\"))\n",
    "pacman::p_load(tidyverse, tidymodels)"
   ],
   "outputs": [
    {
     "output_type": "stream",
     "name": "stderr",
     "text": [
      "Loading required package: pacman\n",
      "\n"
     ]
    }
   ],
   "metadata": {
    "id": "cIA9fz9v7Dss",
    "colab": {
     "base_uri": "https://localhost:8080/"
    },
    "outputId": "2df7073b-86b2-4b32-cb86-0da605a0dc11"
   }
  },
  {
   "cell_type": "markdown",
   "source": [
    "Sekarang, mari kita muat paket-paket luar biasa ini dan membuatnya tersedia di sesi R kita saat ini. (Ini hanya untuk ilustrasi, `pacman::p_load()` sudah melakukannya untuk Anda)\n"
   ],
   "metadata": {
    "id": "gpO_P_6f9WUG"
   }
  },
  {
   "cell_type": "code",
   "execution_count": null,
   "source": [
    "# load the core Tidyverse packages\r\n",
    "library(tidyverse)\r\n",
    "\r\n",
    "# load the core Tidymodels packages\r\n",
    "library(tidymodels)\r\n"
   ],
   "outputs": [],
   "metadata": {
    "id": "NLMycgG-9ezO"
   }
  },
  {
   "cell_type": "markdown",
   "source": [
    "## 2. Dataset Diabetes\n",
    "\n",
    "Dalam latihan ini, kita akan mempraktikkan keterampilan regresi dengan membuat prediksi menggunakan dataset diabetes. [Dataset diabetes](https://www4.stat.ncsu.edu/~boos/var.select/diabetes.rwrite1.txt) mencakup `442 sampel` data terkait diabetes, dengan 10 variabel fitur prediktor, yaitu `usia`, `jenis kelamin`, `indeks massa tubuh`, `tekanan darah rata-rata`, dan `enam pengukuran serum darah`, serta variabel hasil `y`: ukuran kuantitatif dari perkembangan penyakit satu tahun setelah baseline.\n",
    "\n",
    "|Jumlah observasi|442|\n",
    "|----------------|:---|\n",
    "|Jumlah prediktor|10 kolom pertama adalah prediktor numerik|\n",
    "|Hasil/Target|Kolom ke-11 adalah ukuran kuantitatif perkembangan penyakit satu tahun setelah baseline|\n",
    "|Informasi Prediktor|- usia dalam tahun\n",
    "||- jenis kelamin\n",
    "||- bmi indeks massa tubuh\n",
    "||- bp tekanan darah rata-rata\n",
    "||- s1 tc, total kolesterol serum\n",
    "||- s2 ldl, lipoprotein densitas rendah\n",
    "||- s3 hdl, lipoprotein densitas tinggi\n",
    "||- s4 tch, rasio total kolesterol / HDL\n",
    "||- s5 ltg, kemungkinan log dari kadar trigliserida serum\n",
    "||- s6 glu, kadar gula darah|\n",
    "\n",
    "> 🎓 Ingat, ini adalah pembelajaran terawasi (supervised learning), dan kita memerlukan target bernama 'y'.\n",
    "\n",
    "Sebelum Anda dapat memanipulasi data dengan R, Anda perlu mengimpor data ke dalam memori R, atau membangun koneksi ke data yang dapat digunakan R untuk mengakses data secara jarak jauh.\n",
    "\n",
    "> Paket [readr](https://readr.tidyverse.org/), yang merupakan bagian dari Tidyverse, menyediakan cara yang cepat dan ramah untuk membaca data berbentuk persegi panjang ke dalam R.\n",
    "\n",
    "Sekarang, mari kita muat dataset diabetes yang disediakan di URL sumber ini: <https://www4.stat.ncsu.edu/~boos/var.select/diabetes.html>\n",
    "\n",
    "Selain itu, kita akan melakukan pemeriksaan awal pada data kita menggunakan `glimpse()` dan menampilkan 5 baris pertama menggunakan `slice()`.\n",
    "\n",
    "Sebelum melangkah lebih jauh, mari kita juga mengenalkan sesuatu yang akan sering Anda temui dalam kode R 🥁🥁: operator pipe `%>%`\n",
    "\n",
    "Operator pipe (`%>%`) melakukan operasi secara berurutan dengan meneruskan sebuah objek ke dalam fungsi atau ekspresi panggilan berikutnya. Anda dapat menganggap operator pipe seperti mengatakan \"dan kemudian\" dalam kode Anda.\n"
   ],
   "metadata": {
    "id": "KM6iXLH996Cl"
   }
  },
  {
   "cell_type": "code",
   "execution_count": null,
   "source": [
    "# Import the data set\r\n",
    "diabetes <- read_table2(file = \"https://www4.stat.ncsu.edu/~boos/var.select/diabetes.rwrite1.txt\")\r\n",
    "\r\n",
    "\r\n",
    "# Get a glimpse and dimensions of the data\r\n",
    "glimpse(diabetes)\r\n",
    "\r\n",
    "\r\n",
    "# Select the first 5 rows of the data\r\n",
    "diabetes %>% \r\n",
    "  slice(1:5)"
   ],
   "outputs": [],
   "metadata": {
    "id": "Z1geAMhM-bSP"
   }
  },
  {
   "cell_type": "markdown",
   "source": [
    "`glimpse()` menunjukkan bahwa data ini memiliki 442 baris dan 11 kolom, dengan semua kolom bertipe data `double`.\n",
    "\n",
    "<br>\n",
    "\n",
    "> glimpse() dan slice() adalah fungsi dalam [`dplyr`](https://dplyr.tidyverse.org/). Dplyr, bagian dari Tidyverse, adalah tata bahasa manipulasi data yang menyediakan serangkaian kata kerja konsisten untuk membantu Anda menyelesaikan tantangan manipulasi data yang paling umum.\n",
    "\n",
    "<br>\n",
    "\n",
    "Sekarang kita memiliki data, mari kita fokus pada satu fitur (`bmi`) untuk dijadikan target dalam latihan ini. Ini akan membutuhkan kita untuk memilih kolom yang diinginkan. Jadi, bagaimana cara melakukannya?\n",
    "\n",
    "[`dplyr::select()`](https://dplyr.tidyverse.org/reference/select.html) memungkinkan kita untuk *memilih* (dan secara opsional mengganti nama) kolom dalam sebuah data frame.\n"
   ],
   "metadata": {
    "id": "UwjVT1Hz-c3Z"
   }
  },
  {
   "cell_type": "code",
   "execution_count": null,
   "source": [
    "# Select predictor feature `bmi` and outcome `y`\r\n",
    "diabetes_select <- diabetes %>% \r\n",
    "  select(c(bmi, y))\r\n",
    "\r\n",
    "# Print the first 5 rows\r\n",
    "diabetes_select %>% \r\n",
    "  slice(1:10)"
   ],
   "outputs": [],
   "metadata": {
    "id": "RDY1oAKI-m80"
   }
  },
  {
   "cell_type": "markdown",
   "source": [
    "## 3. Data Pelatihan dan Pengujian\n",
    "\n",
    "Dalam pembelajaran terawasi, adalah praktik umum untuk *membagi* data menjadi dua subset; satu set (biasanya lebih besar) untuk melatih model, dan satu set \"cadangan\" yang lebih kecil untuk melihat bagaimana kinerja model.\n",
    "\n",
    "Sekarang kita memiliki data yang siap, kita dapat melihat apakah mesin dapat membantu menentukan pembagian logis antara angka-angka dalam dataset ini. Kita dapat menggunakan paket [rsample](https://tidymodels.github.io/rsample/), yang merupakan bagian dari kerangka kerja Tidymodels, untuk membuat sebuah objek yang berisi informasi tentang *bagaimana* membagi data, dan kemudian dua fungsi rsample lainnya untuk mengekstrak set pelatihan dan pengujian yang telah dibuat:\n"
   ],
   "metadata": {
    "id": "SDk668xK-tc3"
   }
  },
  {
   "cell_type": "code",
   "execution_count": null,
   "source": [
    "set.seed(2056)\r\n",
    "# Split 67% of the data for training and the rest for tesing\r\n",
    "diabetes_split <- diabetes_select %>% \r\n",
    "  initial_split(prop = 0.67)\r\n",
    "\r\n",
    "# Extract the resulting train and test sets\r\n",
    "diabetes_train <- training(diabetes_split)\r\n",
    "diabetes_test <- testing(diabetes_split)\r\n",
    "\r\n",
    "# Print the first 3 rows of the training set\r\n",
    "diabetes_train %>% \r\n",
    "  slice(1:10)"
   ],
   "outputs": [],
   "metadata": {
    "id": "EqtHx129-1h-"
   }
  },
  {
   "cell_type": "markdown",
   "source": [
    "## 4. Melatih model regresi linear dengan Tidymodels\n",
    "\n",
    "Sekarang kita siap untuk melatih model kita!\n",
    "\n",
    "Dalam Tidymodels, Anda menentukan model menggunakan `parsnip()` dengan menyebutkan tiga konsep:\n",
    "\n",
    "-   **Tipe model** membedakan jenis model seperti regresi linear, regresi logistik, model pohon keputusan, dan sebagainya.\n",
    "\n",
    "-   **Mode model** mencakup opsi umum seperti regresi dan klasifikasi; beberapa tipe model mendukung salah satu dari ini, sementara yang lain hanya memiliki satu mode.\n",
    "\n",
    "-   **Mesin model** adalah alat komputasi yang akan digunakan untuk menyesuaikan model. Sering kali ini adalah paket R, seperti **`\"lm\"`** atau **`\"ranger\"`**\n",
    "\n",
    "Informasi pemodelan ini ditangkap dalam spesifikasi model, jadi mari kita buat satu!\n"
   ],
   "metadata": {
    "id": "sBOS-XhB-6v7"
   }
  },
  {
   "cell_type": "code",
   "execution_count": null,
   "source": [
    "# Build a linear model specification\r\n",
    "lm_spec <- \r\n",
    "  # Type\r\n",
    "  linear_reg() %>% \r\n",
    "  # Engine\r\n",
    "  set_engine(\"lm\") %>% \r\n",
    "  # Mode\r\n",
    "  set_mode(\"regression\")\r\n",
    "\r\n",
    "\r\n",
    "# Print the model specification\r\n",
    "lm_spec"
   ],
   "outputs": [],
   "metadata": {
    "id": "20OwEw20--t3"
   }
  },
  {
   "cell_type": "markdown",
   "source": [
    "Setelah sebuah model *ditentukan*, model tersebut dapat `diestimasi` atau `dilatih` menggunakan fungsi [`fit()`](https://parsnip.tidymodels.org/reference/fit.html), biasanya dengan menggunakan formula dan beberapa data.\n",
    "\n",
    "`y ~ .` berarti kita akan memodelkan `y` sebagai kuantitas/target yang diprediksi, dijelaskan oleh semua prediktor/fitur yaitu `.` (dalam kasus ini, kita hanya memiliki satu prediktor: `bmi`).\n"
   ],
   "metadata": {
    "id": "_oDHs89k_CJj"
   }
  },
  {
   "cell_type": "code",
   "execution_count": null,
   "source": [
    "# Build a linear model specification\r\n",
    "lm_spec <- linear_reg() %>% \r\n",
    "  set_engine(\"lm\") %>%\r\n",
    "  set_mode(\"regression\")\r\n",
    "\r\n",
    "\r\n",
    "# Train a linear regression model\r\n",
    "lm_mod <- lm_spec %>% \r\n",
    "  fit(y ~ ., data = diabetes_train)\r\n",
    "\r\n",
    "# Print the model\r\n",
    "lm_mod"
   ],
   "outputs": [],
   "metadata": {
    "id": "YlsHqd-q_GJQ"
   }
  },
  {
   "cell_type": "markdown",
   "source": [
    "Dari keluaran model, kita dapat melihat koefisien yang dipelajari selama pelatihan. Koefisien tersebut mewakili koefisien dari garis terbaik yang memberikan kesalahan keseluruhan terendah antara variabel aktual dan yang diprediksi.\n",
    "<br>\n",
    "\n",
    "## 5. Membuat prediksi pada set uji\n",
    "\n",
    "Sekarang setelah kita melatih model, kita dapat menggunakannya untuk memprediksi progresi penyakit y pada dataset uji menggunakan [parsnip::predict()](https://parsnip.tidymodels.org/reference/predict.model_fit.html). Ini akan digunakan untuk menggambar garis di antara kelompok data.\n"
   ],
   "metadata": {
    "id": "kGZ22RQj_Olu"
   }
  },
  {
   "cell_type": "code",
   "execution_count": null,
   "source": [
    "# Make predictions for the test set\r\n",
    "predictions <- lm_mod %>% \r\n",
    "  predict(new_data = diabetes_test)\r\n",
    "\r\n",
    "# Print out some of the predictions\r\n",
    "predictions %>% \r\n",
    "  slice(1:5)"
   ],
   "outputs": [],
   "metadata": {
    "id": "nXHbY7M2_aao"
   }
  },
  {
   "cell_type": "markdown",
   "source": [
    "Woohoo! 💃🕺 Kami baru saja melatih sebuah model dan menggunakannya untuk membuat prediksi!\n",
    "\n",
    "Saat membuat prediksi, konvensi tidymodels adalah selalu menghasilkan tibble/data frame hasil dengan nama kolom yang sudah distandarisasi. Hal ini mempermudah penggabungan data asli dan prediksi dalam format yang dapat digunakan untuk operasi selanjutnya seperti membuat plot.\n",
    "\n",
    "`dplyr::bind_cols()` secara efisien menggabungkan beberapa data frame berdasarkan kolom.\n"
   ],
   "metadata": {
    "id": "R_JstwUY_bIs"
   }
  },
  {
   "cell_type": "code",
   "execution_count": null,
   "source": [
    "# Combine the predictions and the original test set\r\n",
    "results <- diabetes_test %>% \r\n",
    "  bind_cols(predictions)\r\n",
    "\r\n",
    "\r\n",
    "results %>% \r\n",
    "  slice(1:5)"
   ],
   "outputs": [],
   "metadata": {
    "id": "RybsMJR7_iI8"
   }
  },
  {
   "cell_type": "markdown",
   "source": [
    "## 6. Plot hasil pemodelan\n",
    "\n",
    "Sekarang saatnya melihat ini secara visual 📈. Kita akan membuat scatter plot dari semua nilai `y` dan `bmi` pada set pengujian, lalu menggunakan prediksi untuk menggambar garis di tempat yang paling sesuai, di antara pengelompokan data model.\n",
    "\n",
    "R memiliki beberapa sistem untuk membuat grafik, tetapi `ggplot2` adalah salah satu yang paling elegan dan paling serbaguna. Ini memungkinkan Anda untuk menyusun grafik dengan **menggabungkan komponen independen**.\n"
   ],
   "metadata": {
    "id": "XJbYbMZW_n_s"
   }
  },
  {
   "cell_type": "code",
   "execution_count": null,
   "source": [
    "# Set a theme for the plot\r\n",
    "theme_set(theme_light())\r\n",
    "# Create a scatter plot\r\n",
    "results %>% \r\n",
    "  ggplot(aes(x = bmi)) +\r\n",
    "  # Add a scatter plot\r\n",
    "  geom_point(aes(y = y), size = 1.6) +\r\n",
    "  # Add a line plot\r\n",
    "  geom_line(aes(y = .pred), color = \"blue\", size = 1.5)"
   ],
   "outputs": [],
   "metadata": {
    "id": "R9tYp3VW_sTn"
   }
  },
  {
   "cell_type": "markdown",
   "source": [
    "✅ Pikirkan sebentar tentang apa yang sedang terjadi di sini. Sebuah garis lurus melewati banyak titik kecil data, tetapi apa sebenarnya yang sedang dilakukan? Bisakah kamu melihat bagaimana garis ini seharusnya dapat digunakan untuk memprediksi di mana titik data baru yang belum terlihat seharusnya berada dalam hubungannya dengan sumbu y pada plot? Cobalah untuk menjelaskan dengan kata-kata kegunaan praktis dari model ini.\n",
    "\n",
    "Selamat, kamu telah membuat model regresi linear pertama, membuat prediksi dengannya, dan menampilkannya dalam sebuah plot!\n"
   ],
   "metadata": {
    "id": "zrPtHIxx_tNI"
   }
  },
  {
   "cell_type": "markdown",
   "metadata": {},
   "source": [
    "\n---\n\n**Penafian**:  \nDokumen ini telah diterjemahkan menggunakan layanan terjemahan AI [Co-op Translator](https://github.com/Azure/co-op-translator). Meskipun kami berupaya untuk memberikan hasil yang akurat, harap diperhatikan bahwa terjemahan otomatis mungkin mengandung kesalahan atau ketidakakuratan. Dokumen asli dalam bahasa aslinya harus dianggap sebagai sumber yang berwenang. Untuk informasi yang bersifat kritis, disarankan menggunakan jasa terjemahan manusia profesional. Kami tidak bertanggung jawab atas kesalahpahaman atau penafsiran yang keliru yang timbul dari penggunaan terjemahan ini.\n"
   ]
  }
 ]
}