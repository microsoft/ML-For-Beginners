{
 "metadata": {
  "language_info": {
   "codemirror_mode": {
    "name": "ipython",
    "version": 3
   },
   "file_extension": ".py",
   "mimetype": "text/x-python",
   "name": "python",
   "nbconvert_exporter": "python",
   "pygments_lexer": "ipython3",
   "version": 3
  },
  "orig_nbformat": 2,
  "coopTranslator": {
   "original_hash": "523ec472196307b3c4235337353c9ceb",
   "translation_date": "2025-08-29T15:05:01+00:00",
   "source_file": "7-TimeSeries/2-ARIMA/working/notebook.ipynb",
   "language_code": "tl"
  }
 },
 "nbformat": 4,
 "nbformat_minor": 2,
 "cells": [
  {
   "source": [
    "Tao Hong, Pierre Pinson, Shu Fan, Hamidreza Zareipour, Alberto Troccoli at Rob J. Hyndman, \"Probabilistic energy forecasting: Global Energy Forecasting Competition 2014 and beyond\", International Journal of Forecasting, vol.32, no.3, pp 896-913, Hulyo-Setyembre, 2016.\n",
    "\n",
    "# Pagtataya ng time series gamit ang ARIMA\n",
    "\n",
    "Sa notebook na ito, ipinapakita kung paano:\n",
    "- ihanda ang time series data para sa pagsasanay ng ARIMA time series forecasting model\n",
    "- ipatupad ang isang simpleng ARIMA model upang magtaya ng susunod na mga hakbang sa HORIZON (oras *t+1* hanggang *t+HORIZON*) sa time series\n",
    "- suriin ang modelo\n",
    "\n",
    "Ang datos sa halimbawang ito ay kinuha mula sa kumpetisyon ng GEFCom2014 forecasting. Binubuo ito ng 3 taon ng oras-oras na halaga ng kuryente at temperatura mula 2012 hanggang 2014. Ang gawain ay magtaya ng mga hinaharap na halaga ng kuryente. Sa halimbawang ito, ipinapakita kung paano magtaya ng isang hakbang sa hinaharap, gamit lamang ang historical load data.\n"
   ],
   "cell_type": "markdown",
   "metadata": {}
  },
  {
   "cell_type": "code",
   "execution_count": null,
   "metadata": {},
   "outputs": [],
   "source": [
    "pip install statsmodels"
   ]
  },
  {
   "cell_type": "markdown",
   "metadata": {},
   "source": [
    "\n---\n\n**Paunawa**:  \nAng dokumentong ito ay isinalin gamit ang AI translation service na [Co-op Translator](https://github.com/Azure/co-op-translator). Bagama't sinisikap naming maging tumpak, pakitandaan na ang mga awtomatikong pagsasalin ay maaaring maglaman ng mga pagkakamali o hindi pagkakatugma. Ang orihinal na dokumento sa orihinal nitong wika ang dapat ituring na opisyal na sanggunian. Para sa mahalagang impormasyon, inirerekomenda ang propesyonal na pagsasalin ng tao. Hindi kami mananagot sa anumang hindi pagkakaunawaan o maling interpretasyon na maaaring magmula sa paggamit ng pagsasaling ito.\n"
   ]
  }
 ]
}