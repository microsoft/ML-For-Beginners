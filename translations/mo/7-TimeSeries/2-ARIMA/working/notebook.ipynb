{
 "metadata": {
  "language_info": {
   "codemirror_mode": {
    "name": "ipython",
    "version": 3
   },
   "file_extension": ".py",
   "mimetype": "text/x-python",
   "name": "python",
   "nbconvert_exporter": "python",
   "pygments_lexer": "ipython3",
   "version": 3
  },
  "orig_nbformat": 2,
  "coopTranslator": {
   "original_hash": "523ec472196307b3c4235337353c9ceb",
   "translation_date": "2025-08-29T23:20:18+00:00",
   "source_file": "7-TimeSeries/2-ARIMA/working/notebook.ipynb",
   "language_code": "mo"
  }
 },
 "nbformat": 4,
 "nbformat_minor": 2,
 "cells": [
  {
   "source": [
    "# 使用 ARIMA 進行時間序列預測\n",
    "\n",
    "在此筆記本中，我們將展示如何：\n",
    "- 準備時間序列數據以訓練 ARIMA 時間序列預測模型\n",
    "- 實現一個簡單的 ARIMA 模型，預測時間序列中未來 HORIZON 步（從時間 *t+1* 到 *t+HORIZON*）\n",
    "- 評估模型\n",
    "\n",
    "此範例中的數據來自 GEFCom2014 預測競賽。它包含了 2012 年至 2014 年之間 3 年的每小時電力負載和溫度數據。任務是預測未來的電力負載值。在此範例中，我們展示如何僅使用歷史負載數據來預測下一個時間步。\n",
    "\n",
    "陶宏、Pierre Pinson、Shu Fan、Hamidreza Zareipour、Alberto Troccoli 和 Rob J. Hyndman，\"Probabilistic energy forecasting: Global Energy Forecasting Competition 2014 and beyond\"，《International Journal of Forecasting》，第 32 卷，第 3 期，頁 896-913，2016 年 7 月至 9 月。\n"
   ],
   "cell_type": "markdown",
   "metadata": {}
  },
  {
   "cell_type": "code",
   "execution_count": null,
   "metadata": {},
   "outputs": [],
   "source": [
    "pip install statsmodels"
   ]
  },
  {
   "cell_type": "markdown",
   "metadata": {},
   "source": [
    "\n---\n\n**免責聲明**：  \n本文件已使用 AI 翻譯服務 [Co-op Translator](https://github.com/Azure/co-op-translator) 進行翻譯。雖然我們致力於提供準確的翻譯，但請注意，自動翻譯可能包含錯誤或不準確之處。原始文件的母語版本應被視為權威來源。對於關鍵信息，建議尋求專業人工翻譯。我們對因使用此翻譯而引起的任何誤解或誤釋不承擔責任。\n"
   ]
  }
 ]
}